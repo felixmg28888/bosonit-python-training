{
 "cells": [
  {
   "attachments": {},
   "cell_type": "markdown",
   "metadata": {},
   "source": [
    "# **Bloque 04 <br> Estructuras de control**\n",
    "\n",
    "### **Nombre del proyecto:** block04-01-control-structures"
   ]
  },
  {
   "attachments": {},
   "cell_type": "markdown",
   "metadata": {},
   "source": [
    "#### **Ejercicios con if**"
   ]
  },
  {
   "cell_type": "code",
   "execution_count": null,
   "metadata": {},
   "outputs": [],
   "source": [
    "a = 10\n",
    "b = 100\n"
   ]
  },
  {
   "attachments": {},
   "cell_type": "markdown",
   "metadata": {},
   "source": [
    "1. Defina una estructura de control que imprima por pantalla “Es igual a 10” si a es igual a 10 y si no imprima “Es diferente de 10”."
   ]
  },
  {
   "cell_type": "code",
   "execution_count": null,
   "metadata": {},
   "outputs": [],
   "source": [
    "if a == 10:\n",
    "    print(\"Es igual a 10\")\n",
    "else:\n",
    "    print(\"Es diferente de 10\")\n"
   ]
  },
  {
   "attachments": {},
   "cell_type": "markdown",
   "metadata": {},
   "source": [
    "2. Defina una estructura de control que imprima “Todos son igual a 10” si a y b son iguales a 10; si no imprima “Sólo a es igual a 10” si a es igual a 10; si no imprima “B es igual a 10” si b es igual a 10; si no imprima “Ninguno es igual a 10”."
   ]
  },
  {
   "cell_type": "code",
   "execution_count": null,
   "metadata": {},
   "outputs": [],
   "source": [
    "if a == 10 and b == 10:\n",
    "    print(\"Todos son igual a 10\")\n",
    "elif a == 10:\n",
    "    print(\"Sólo a es igual a 10\")\n",
    "elif b == 10:\n",
    "    print(\"B es igual a 10\")\n",
    "else:\n",
    "    print(\"Ninguno es igual a 10\")\n"
   ]
  },
  {
   "attachments": {},
   "cell_type": "markdown",
   "metadata": {},
   "source": [
    "3. Defina una estructura de control que imprima “A y B son impares” si tanto a como b son impares; si no imprima “A y B no son impares”."
   ]
  },
  {
   "cell_type": "code",
   "execution_count": null,
   "metadata": {},
   "outputs": [],
   "source": [
    "if a % 2 != 0 and b % 2 != 0:\n",
    "    print(\"A y B son impares\")\n",
    "else:\n",
    "    print(\"A y B no son impares\")\n"
   ]
  },
  {
   "attachments": {},
   "cell_type": "markdown",
   "metadata": {},
   "source": [
    "#### **Ejercicios con while**"
   ]
  },
  {
   "attachments": {},
   "cell_type": "markdown",
   "metadata": {},
   "source": [
    "1. Asigna un valor a la variable i."
   ]
  },
  {
   "cell_type": "code",
   "execution_count": null,
   "metadata": {},
   "outputs": [],
   "source": [
    "i = 5\n",
    "print(\"i=\", i)\n"
   ]
  },
  {
   "attachments": {},
   "cell_type": "markdown",
   "metadata": {},
   "source": [
    "2. Defina una estructura de control que solo imprima i una vez. Tienes que usar while sin estados de salida."
   ]
  },
  {
   "cell_type": "code",
   "execution_count": null,
   "metadata": {},
   "outputs": [],
   "source": [
    "while i == 5:\n",
    "    print(\"i=\", i)\n",
    "    i = i + 1\n"
   ]
  },
  {
   "attachments": {},
   "cell_type": "markdown",
   "metadata": {},
   "source": [
    "3. Defina una estructura de control que solo imprima i una vez. Tienes que usar while y estados de salida."
   ]
  },
  {
   "cell_type": "code",
   "execution_count": null,
   "metadata": {},
   "outputs": [],
   "source": [
    "while i == 6:\n",
    "    print(\"i=\", i, \"\\n\")\n",
    "    break\n"
   ]
  },
  {
   "attachments": {},
   "cell_type": "markdown",
   "metadata": {},
   "source": [
    "4. Asigna i el valor 0. Crea una estructura de control que vaya incrementando i mientras i sea menor de 10.Comprueba si el valor de i es 6 e imprime “Ejecución terminada” y finaliza el bucle."
   ]
  },
  {
   "cell_type": "code",
   "execution_count": null,
   "metadata": {},
   "outputs": [],
   "source": [
    "i = 0\n",
    "print(\"i=\", i, \"\\n\")\n",
    "\n",
    "while i <= 10:\n",
    "    i = i + 1\n",
    "    print(\"i=\", i)\n",
    "    if i == 6:\n",
    "        print(\"Ejecución terminada\")\n",
    "        break\n"
   ]
  },
  {
   "attachments": {},
   "cell_type": "markdown",
   "metadata": {},
   "source": [
    "#### **Ejercicios operador de asignación**"
   ]
  },
  {
   "cell_type": "code",
   "execution_count": null,
   "metadata": {},
   "outputs": [],
   "source": [
    "a = ['Hello', 'World']\n",
    "b = ['Python', 3.9]\n",
    "c = 'HelloWordPython'\n"
   ]
  },
  {
   "attachments": {},
   "cell_type": "markdown",
   "metadata": {},
   "source": [
    "1. Recorre todos los caracteres de c e imprimelos por pantalla."
   ]
  },
  {
   "cell_type": "code",
   "execution_count": null,
   "metadata": {},
   "outputs": [],
   "source": [
    "for letra in c:\n",
    "    print(letra)\n"
   ]
  },
  {
   "attachments": {},
   "cell_type": "markdown",
   "metadata": {},
   "source": [
    "2. Muestra todos los valores de a."
   ]
  },
  {
   "cell_type": "code",
   "execution_count": null,
   "metadata": {},
   "outputs": [],
   "source": [
    "for valor in a:\n",
    "    print(valor)\n"
   ]
  },
  {
   "attachments": {},
   "cell_type": "markdown",
   "metadata": {},
   "source": [
    "3. Muestra cada valor de a y b mostrando cada elemento de a con el de la misma posición de b sin utilizar los índices de posición."
   ]
  },
  {
   "cell_type": "code",
   "execution_count": null,
   "metadata": {},
   "outputs": [],
   "source": [
    "# La función zip toma las listas a y b como argumentos y las combina en una sola iteración de tuplas.\n",
    "zipped = zip(a, b)\n",
    "\n",
    "for tupla in zipped:\n",
    "    # Python toma el primer elemento de la tupla y lo asigna a valorA y el segundo elemento lo asigna a valorB en cada iteracion.\n",
    "    valor_A, valor_B = tupla\n",
    "    print(valor_A, valor_B)\n"
   ]
  },
  {
   "attachments": {},
   "cell_type": "markdown",
   "metadata": {},
   "source": [
    "4. Muestra en cada iteración el valor y su índice para los elementos de b."
   ]
  },
  {
   "cell_type": "code",
   "execution_count": null,
   "metadata": {},
   "outputs": [],
   "source": [
    "for index, value in enumerate(b):\n",
    "    print(index, \"=\", value)\n"
   ]
  }
 ],
 "metadata": {
  "kernelspec": {
   "display_name": "base",
   "language": "python",
   "name": "python3"
  },
  "language_info": {
   "codemirror_mode": {
    "name": "ipython",
    "version": 3
   },
   "file_extension": ".py",
   "mimetype": "text/x-python",
   "name": "python",
   "nbconvert_exporter": "python",
   "pygments_lexer": "ipython3",
   "version": "3.10.9"
  },
  "orig_nbformat": 4
 },
 "nbformat": 4,
 "nbformat_minor": 2
}
