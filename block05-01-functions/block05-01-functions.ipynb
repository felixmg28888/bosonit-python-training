{
 "cells": [
  {
   "cell_type": "markdown",
   "metadata": {},
   "source": [
    "# **Bloque 05 <br> Funciones**\n",
    "\n",
    "### **Nombre del proyecto:** block05-01-functions"
   ]
  },
  {
   "attachments": {},
   "cell_type": "markdown",
   "metadata": {},
   "source": [
    "#### **Ejercicios con funciones**"
   ]
  },
  {
   "attachments": {},
   "cell_type": "markdown",
   "metadata": {},
   "source": [
    "1. Define una función llamada showAnimal que reciba dos argumentos name y n_legs e imprima esta información por pantalla."
   ]
  },
  {
   "cell_type": "code",
   "execution_count": null,
   "metadata": {},
   "outputs": [],
   "source": [
    "def show_animal(name, n_legs):\n",
    "    print(\"El animal se llama\", name, \"y tiene\", n_legs, \"patas.\\n\")\n",
    "\n",
    "\n",
    "show_animal(\"Perro\", 4)\n"
   ]
  },
  {
   "attachments": {},
   "cell_type": "markdown",
   "metadata": {},
   "source": [
    "2. Define una función que puede recibir cualquier número de argumentos e imprima cuántos argumentos ha recibido."
   ]
  },
  {
   "cell_type": "code",
   "execution_count": null,
   "metadata": {},
   "outputs": [],
   "source": [
    "def imprimir_numero_argumentos(*args):\n",
    "    print(\"La función ha recibido\", len(args), \"argumentos.\\n\")\n",
    "\n",
    "\n",
    "imprimir_numero_argumentos(1, 2, 3)\n"
   ]
  },
  {
   "attachments": {},
   "cell_type": "markdown",
   "metadata": {},
   "source": [
    "3. Define una función que recibiendo dos números, devuelva la suma y la resta de ellos en una sola llamada."
   ]
  },
  {
   "cell_type": "code",
   "execution_count": null,
   "metadata": {},
   "outputs": [],
   "source": [
    "def sum_resta(num1, num2):\n",
    "    suma = num1 + num2\n",
    "    resta = num1 - num2\n",
    "    return suma, resta\n",
    "\n",
    "\n",
    "resultado = sum_resta(10, 5)\n",
    "print(\"La suma es:\", resultado[0], \"\\nLa resta es:\", resultado[1])\n"
   ]
  },
  {
   "attachments": {},
   "cell_type": "markdown",
   "metadata": {},
   "source": [
    "4. Define una función que recibiendo dos números devuelva la multiplicación."
   ]
  },
  {
   "cell_type": "code",
   "execution_count": null,
   "metadata": {},
   "outputs": [],
   "source": [
    "def multiplicacion(num1, num2):\n",
    "    return num1 * num2\n",
    "\n",
    "\n",
    "print(\"El resultado de la multiplicación es:\", multiplicacion(4, 5))\n"
   ]
  },
  {
   "attachments": {},
   "cell_type": "markdown",
   "metadata": {},
   "source": [
    "5. Define una función que recibiendo dos números devuelva el módulo."
   ]
  },
  {
   "cell_type": "code",
   "execution_count": null,
   "metadata": {},
   "outputs": [],
   "source": [
    "def modulo(num1, num2):\n",
    "    return num1 % num2\n",
    "\n",
    "\n",
    "resultado = modulo(10, 3)\n"
   ]
  },
  {
   "attachments": {},
   "cell_type": "markdown",
   "metadata": {},
   "source": [
    "6. Define una función que recibiendo una función del ejercicio 4 o ejercicio 5 y dos valores numéricos devuelva su resultado."
   ]
  },
  {
   "cell_type": "code",
   "execution_count": null,
   "metadata": {},
   "outputs": [],
   "source": [
    "def aplicar_funcion(funcion, num1, num2):\n",
    "    resultado = funcion(num1, num2)\n",
    "    print(\"El resultado de aplicar la funcion (\", funcion.__name__, \") para los numeros:\", num1, \" y \", num2, \" es:\",\n",
    "          resultado)\n",
    "\n",
    "\n",
    "aplicar_funcion(multiplicacion, 3, 5)\n",
    "aplicar_funcion(modulo, 3, 5)\n"
   ]
  },
  {
   "attachments": {},
   "cell_type": "markdown",
   "metadata": {},
   "source": [
    "7. Define una función que reciba el nombre y email de una persona. Si no recibe email, se asignará “Sin determinar”. La función debe imprimir el nombre y email de la persona."
   ]
  },
  {
   "cell_type": "code",
   "execution_count": null,
   "metadata": {},
   "outputs": [],
   "source": [
    "def mostrar_contacto(nombre, email=\"Sin determinar\"):\n",
    "    print(\"Nombre:\", nombre)\n",
    "    print(\"Email:\", email)\n",
    "    print()\n",
    "\n",
    "\n",
    "mostrar_contacto(\"Persona1\", \"persona1@example.com\")\n",
    "mostrar_contacto(\"persona1\")\n"
   ]
  },
  {
   "attachments": {},
   "cell_type": "markdown",
   "metadata": {},
   "source": [
    "8. Define una función que recibiendo un entero positivo, irá sumando este número a su anterior hasta llegar a 0 y devolverá el resultado final."
   ]
  },
  {
   "cell_type": "code",
   "execution_count": null,
   "metadata": {},
   "outputs": [],
   "source": [
    "def suma_hasta_cero(n):\n",
    "    resultado = 0\n",
    "    cadena = \"\"\n",
    "    while n > 0:\n",
    "        cadena += str(n)\n",
    "        resultado += n\n",
    "        n -= 1\n",
    "        if n > 0:\n",
    "            cadena += \"+\"\n",
    "    cadena += \" = \" + str(resultado)\n",
    "    return cadena\n"
   ]
  },
  {
   "attachments": {},
   "cell_type": "markdown",
   "metadata": {},
   "source": [
    "#### **Ejercicios con funciones anónimas**"
   ]
  },
  {
   "attachments": {},
   "cell_type": "markdown",
   "metadata": {},
   "source": [
    "1. Define una función lambda que calcule el cuadrado de un número"
   ]
  },
  {
   "cell_type": "code",
   "execution_count": null,
   "metadata": {},
   "outputs": [],
   "source": [
    "def cuadrado(x): return x ** 2\n",
    "\n",
    "\n",
    "num = 2\n",
    "resultado = cuadrado(num)\n",
    "\n",
    "print(\"El cuadrado de\", num, \"es\", cuadrado(num))\n"
   ]
  },
  {
   "attachments": {},
   "cell_type": "markdown",
   "metadata": {},
   "source": [
    "2. Define una función lambda que devuelva True si el cuadrado de un número es mayor que 999 si no devuelve False."
   ]
  },
  {
   "cell_type": "code",
   "execution_count": null,
   "metadata": {},
   "outputs": [],
   "source": [
    "def mayor999(x): return True if x ** 2 > 999 else False\n",
    "\n",
    "\n",
    "num = 400\n",
    "\n",
    "print(mayor999(num))\n"
   ]
  },
  {
   "attachments": {},
   "cell_type": "markdown",
   "metadata": {},
   "source": [
    "3. Define una función lambda que reciba dos números y devuelva el resultado de su multiplicación."
   ]
  },
  {
   "cell_type": "code",
   "execution_count": null,
   "metadata": {},
   "outputs": [],
   "source": [
    "def multiplicacion(x, y): return x * y\n",
    "\n",
    "\n",
    "num1 = 4\n",
    "num2 = 2\n",
    "\n",
    "print(\"El resultado de multiplicar\", num1, \"y\",\n",
    "      num2, \"es\", multiplicacion(num1, num2))\n"
   ]
  },
  {
   "attachments": {},
   "cell_type": "markdown",
   "metadata": {},
   "source": [
    "4. Utilizando la función sorted() y lambda ordena una lista de palabras teniendo en cuenta la segunda letra de cada palabra."
   ]
  },
  {
   "cell_type": "code",
   "execution_count": null,
   "metadata": {},
   "outputs": [],
   "source": [
    "palabras = ['calle', 'coche', 'cosa', 'casa', 'aviones', 'portaaviones']\n",
    "\n",
    "ordenado = sorted(palabras, key=lambda x: x[1])\n",
    "\n",
    "print(ordenado, \"\\n\\n\")\n"
   ]
  },
  {
   "attachments": {},
   "cell_type": "markdown",
   "metadata": {},
   "source": [
    "#### **Extra: Ejercicios con funciones**"
   ]
  },
  {
   "attachments": {},
   "cell_type": "markdown",
   "metadata": {},
   "source": [
    "1. Define una función que devuelva una lista con el doble de todos los elementos de la lista inicial."
   ]
  },
  {
   "cell_type": "code",
   "execution_count": null,
   "metadata": {},
   "outputs": [],
   "source": [
    "lista_original = [1, 2, 3, 4, 5]\n",
    "\n",
    "\n",
    "def doble(x): return x * 2\n",
    "\n",
    "\n",
    "resultado = list(map(doble, lista_original))\n",
    "\n",
    "print(resultado)\n"
   ]
  },
  {
   "attachments": {},
   "cell_type": "markdown",
   "metadata": {},
   "source": [
    "2. Define una función que devuelva que eleve al cuadrado los elementos que sean pares."
   ]
  },
  {
   "cell_type": "code",
   "execution_count": null,
   "metadata": {},
   "outputs": [],
   "source": [
    "lista = [1, 2, 3, 4, 5, 6, 7, 8, 9, 10, 11, 12]\n",
    "\n",
    "\n",
    "def cuadrado(x): return x ** 2 if x % 2 == 0 else x\n",
    "\n",
    "\n",
    "resultado = list(map(cuadrado, lista))\n",
    "\n",
    "print(resultado)\n"
   ]
  },
  {
   "attachments": {},
   "cell_type": "markdown",
   "metadata": {},
   "source": [
    "3. Define una función que dada dos listas sume los elementos de la misma posición."
   ]
  },
  {
   "cell_type": "code",
   "execution_count": null,
   "metadata": {},
   "outputs": [],
   "source": [
    "lista1 = [1, 2, 3, 4, 5, 6, 7, 8, 9, 10, 11, 12]\n",
    "lista2 = [1, 2, 3, 4, 5, 6, 7, 8, 9, 10, 11, 12]\n",
    "\n",
    "\n",
    "def sumar_listas(lista1, lista2):\n",
    "    return list(map(lambda x, y: x + y, lista1, lista2))\n",
    "\n",
    "\n",
    "print(sumar_listas(lista1, lista2))\n"
   ]
  },
  {
   "attachments": {},
   "cell_type": "markdown",
   "metadata": {},
   "source": [
    "4. Define una función que dado una lista de strings devuelva una lista con el número de ‘a’ que aparece en cada string."
   ]
  },
  {
   "cell_type": "code",
   "execution_count": null,
   "metadata": {},
   "outputs": [],
   "source": [
    "def contar_a(lista):\n",
    "    return list(map(lambda s: s.count('a'), lista))\n",
    "\n",
    "\n",
    "lista_palabras = ['calle', 'coche', 'cosa', 'casa', 'aviones', 'portaaviones']\n",
    "\n",
    "print(contar_a(lista_palabras))\n"
   ]
  },
  {
   "attachments": {},
   "cell_type": "markdown",
   "metadata": {},
   "source": [
    "5. Define una función que dado una lista sólo devuelva los elementos que son negativos."
   ]
  },
  {
   "cell_type": "code",
   "execution_count": null,
   "metadata": {},
   "outputs": [],
   "source": [
    "def negativos(lista):\n",
    "    return list(filter(lambda x: x < 0, lista))\n",
    "\n",
    "\n",
    "lista = [1, -2, 3, -4, 5, -6]\n",
    "print(negativos(lista))\n"
   ]
  },
  {
   "attachments": {},
   "cell_type": "markdown",
   "metadata": {},
   "source": [
    "6. Define una función que dado un string devuelva la lista de vocales que aparecen."
   ]
  },
  {
   "cell_type": "code",
   "execution_count": null,
   "metadata": {},
   "outputs": [],
   "source": [
    "def lista_vocales(string):\n",
    "    vocales = ['a', 'e', 'i', 'o', 'u']\n",
    "    return list(filter(lambda x: x in vocales, string))\n",
    "\n",
    "\n",
    "string = \"Hola mundo\"\n",
    "\n",
    "print(lista_vocales(string))\n"
   ]
  },
  {
   "attachments": {},
   "cell_type": "markdown",
   "metadata": {},
   "source": [
    "7. Define una función que dado una lista devuelva la multiplicación de todos los elementos."
   ]
  },
  {
   "cell_type": "code",
   "execution_count": null,
   "metadata": {},
   "outputs": [],
   "source": [
    "from functools import reduce\n",
    "\n",
    "\n",
    "def multiplicacion_lista(lista):\n",
    "    return reduce(lambda x, y: x * y, lista)\n",
    "\n",
    "\n",
    "lista = [1, 2, 3, 4]\n",
    "\n",
    "print(multiplicacion_lista(lista))\n"
   ]
  },
  {
   "attachments": {},
   "cell_type": "markdown",
   "metadata": {},
   "source": [
    "8. Dado un string extraer los números que aparecen en el texto y devolver su suma."
   ]
  },
  {
   "cell_type": "code",
   "execution_count": null,
   "metadata": {},
   "outputs": [],
   "source": [
    "def sumar_numeros(string):\n",
    "    numeros = filter(lambda x: x.isdigit(), string)\n",
    "    # convertir los números de strings a enteros\n",
    "    numeros = list(map(int, numeros))\n",
    "    return sum(numeros)  # sumar los números y devolver el resultado\n",
    "\n",
    "\n",
    "string = \"H0l4 Mund0\"\n",
    "\n",
    "print(sumar_numeros(string))\n"
   ]
  }
 ],
 "metadata": {
  "kernelspec": {
   "display_name": "base",
   "language": "python",
   "name": "python3"
  },
  "language_info": {
   "codemirror_mode": {
    "name": "ipython",
    "version": 3
   },
   "file_extension": ".py",
   "mimetype": "text/x-python",
   "name": "python",
   "nbconvert_exporter": "python",
   "pygments_lexer": "ipython3",
   "version": "3.10.9"
  },
  "orig_nbformat": 4
 },
 "nbformat": 4,
 "nbformat_minor": 2
}
