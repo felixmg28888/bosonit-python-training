{
 "cells": [
  {
   "cell_type": "code",
   "execution_count": null,
   "metadata": {},
   "outputs": [],
   "source": [
    "# **Bloque 07 <br> Ficheros**\n",
    "\n",
    "### **Nombre del proyecto:** block07-files"
   ]
  },
  {
   "cell_type": "code",
   "execution_count": 2,
   "metadata": {},
   "outputs": [],
   "source": [
    "line1 = \"Es mi primera línea.\"\n",
    "line2 = \"Es mi segunda línea.\"\n",
    "line3 = \"Es mi tercera línea.\"\n",
    "line4 = \"¡Es el final del fichero!\""
   ]
  },
  {
   "attachments": {},
   "cell_type": "markdown",
   "metadata": {},
   "source": [
    "1. Crea un fichero vacío llamado primerfichero.txt sin usar with."
   ]
  },
  {
   "cell_type": "code",
   "execution_count": 19,
   "metadata": {},
   "outputs": [],
   "source": [
    "fichero1 = open(\"primerfichero.txt\", \"w\")\n",
    "fichero1.close()\n"
   ]
  },
  {
   "attachments": {},
   "cell_type": "markdown",
   "metadata": {},
   "source": [
    "2. Crea un segundo fichero vacío llamado segundofichero.txt usando with."
   ]
  },
  {
   "cell_type": "code",
   "execution_count": null,
   "metadata": {},
   "outputs": [],
   "source": [
    "with open(\"segundofichero.txt\", \"w\") as fichero2:\n",
    "    pass\n"
   ]
  },
  {
   "attachments": {},
   "cell_type": "markdown",
   "metadata": {},
   "source": [
    "3. Escribe line1 en primerfichero.txt"
   ]
  },
  {
   "cell_type": "code",
   "execution_count": 20,
   "metadata": {},
   "outputs": [],
   "source": [
    "# Ejemplo 1\n",
    "\n",
    "fichero1 = open(\"primerfichero.txt\", \"a\")\n",
    "fichero1.write(line1)\n",
    "fichero1.close()\n",
    "\n",
    "#Ejemplo2\n",
    "\n",
    "with open(\"primerfichero.txt\", \"a\") as fichero1:\n",
    "    fichero1.write(line1)\n"
   ]
  },
  {
   "attachments": {},
   "cell_type": "markdown",
   "metadata": {},
   "source": [
    "4. Escribe line2, line3 y line4 en segundofichero.txt cada uno en una línea."
   ]
  },
  {
   "cell_type": "code",
   "execution_count": 21,
   "metadata": {},
   "outputs": [],
   "source": [
    "with open(\"segundofichero.txt\", \"w\") as fichero2:\n",
    "    fichero2.write(line2 + \"\\n\")\n",
    "    fichero2.write(line3 + \"\\n\")\n",
    "    fichero2.write(line4 + \"\\n\")\n"
   ]
  },
  {
   "attachments": {},
   "cell_type": "markdown",
   "metadata": {},
   "source": [
    "5. Lee primerfichero.txt y añade su contenido al final de segundofichero.txt."
   ]
  },
  {
   "cell_type": "code",
   "execution_count": null,
   "metadata": {},
   "outputs": [],
   "source": [
    "with open(\"primerfichero.txt\", \"r\") as fichero1:\n",
    "    contenido = fichero1.read()\n",
    "\n",
    "with open(\"segundofichero.txt\", \"a\") as fichero2:\n",
    "    fichero2.write(contenido)\n"
   ]
  }
 ],
 "metadata": {
  "kernelspec": {
   "display_name": "base",
   "language": "python",
   "name": "python3"
  },
  "language_info": {
   "codemirror_mode": {
    "name": "ipython",
    "version": 3
   },
   "file_extension": ".py",
   "mimetype": "text/x-python",
   "name": "python",
   "nbconvert_exporter": "python",
   "pygments_lexer": "ipython3",
   "version": "3.9.16"
  },
  "orig_nbformat": 4
 },
 "nbformat": 4,
 "nbformat_minor": 2
}
