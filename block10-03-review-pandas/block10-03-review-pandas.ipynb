{
 "cells": [
  {
   "attachments": {},
   "cell_type": "markdown",
   "id": "4f8157d3",
   "metadata": {},
   "source": [
    "# **Bloque 10 <br> Pandas <br> Ejercicios de repaso**\n",
    "\n",
    "### **Nombre del proyecto:** block10-03-review-pandas"
   ]
  },
  {
   "cell_type": "code",
   "execution_count": null,
   "id": "d1f054dc",
   "metadata": {},
   "outputs": [],
   "source": [
    "lst1 = ['gato', 'perro', 'ratón', 'elefante', 'rinoceronte']\n",
    "lst2 = [x for x in range(1, 6)]\n",
    "\n",
    "print(lst1)\n",
    "print(lst2)\n",
    "print(type(lst1))\n",
    "print(type(lst2))\n"
   ]
  },
  {
   "attachments": {},
   "cell_type": "markdown",
   "id": "f3a1b319",
   "metadata": {},
   "source": [
    "1. Convierte lst1 a un Series y lst2 a otro Series. Una vez creados, combinar los Series para crear un DataFrame."
   ]
  },
  {
   "cell_type": "code",
   "execution_count": null,
   "id": "33fda5bc",
   "metadata": {},
   "outputs": [],
   "source": [
    "import pandas as pd\n",
    "\n",
    "series_animales = pd.Series(lst1)\n",
    "series_numerica = pd.Series(lst2)\n",
    "\n",
    "dataframe = pd.DataFrame({'Columna1':\n",
    "series_animales, 'Columna2': series_numerica})\n",
    "\n",
    "dataframe\n"
   ]
  },
  {
   "attachments": {},
   "cell_type": "markdown",
   "id": "37ee267c",
   "metadata": {},
   "source": [
    "2. Renombra la columna basada en lst1 creada previamente a \"animales\"."
   ]
  },
  {
   "cell_type": "code",
   "execution_count": null,
   "id": "b8ad0035",
   "metadata": {},
   "outputs": [],
   "source": [
    "dataframe = dataframe.rename(columns={'Columna1': 'animales'})\n",
    "\n",
    "print(dataframe)\n",
    "dataframe\n"
   ]
  },
  {
   "attachments": {},
   "cell_type": "markdown",
   "id": "49473b99",
   "metadata": {},
   "source": [
    "3. Crea dos series de tamaño 10 con valores entre 1 y 10. Elimina del series1 los elementos que aparezcan en Series2."
   ]
  },
  {
   "cell_type": "code",
   "execution_count": null,
   "metadata": {},
   "outputs": [],
   "source": [
    "import numpy as np\n",
    "\n",
    "series1 = pd.Series(np.random.randint(1, 11, size=10))\n",
    "print(\"series1 original:\")\n",
    "print(series1)\n",
    "\n",
    "series2 = pd.Series(np.random.randint(1, 11, size=10))\n",
    "print(\"series2:\")\n",
    "print(series2)\n",
    "\n",
    "# isin verifica si los elementos de una serie se encuentran en otra serie\n",
    "series1 = series1.drop(series1[series1.isin(series2)].index)\n",
    "\n",
    "print(\"series1 después de eliminar elementos comunes con series2:\")\n",
    "print(series1)\n",
    "series1 = pd.Series(np.random.randint(1, 11, size=10))\n",
    "print(\"series1 original:\")\n",
    "print(series1)\n",
    "\n",
    "series2 = pd.Series(np.random.randint(1, 11, size=10))\n",
    "print(\"series2:\")\n",
    "print(series2)"
   ]
  },
  {
   "cell_type": "markdown",
   "id": "548bcbb2",
   "metadata": {},
   "source": [
    "4. Obtén los elementos no comunes en ambas series"
   ]
  },
  {
   "cell_type": "code",
   "execution_count": null,
   "id": "ff0acd1c",
   "metadata": {},
   "outputs": [],
   "source": [
    "series1 = pd.Series(np.random.randint(1, 11, size=10))\n",
    "print(\"series1 original:\")\n",
    "print(series1)\n",
    "\n",
    "series2 = pd.Series(np.random.randint(1, 11, size=10))\n",
    "print(\"series2:\")\n",
    "print(series2)\n",
    "\n",
    "elementos_no_comunes = series1[~series1.isin(series2)].append(series2[~series2.isin(series1)])\n",
    "print(elementos_no_comunes)\n",
    "\n"
   ]
  },
  {
   "attachments": {},
   "cell_type": "markdown",
   "id": "ebc0c811",
   "metadata": {},
   "source": [
    "5. Obtén el mínimo y los percentiles 25, 50, 75 y 80 de la primera serie."
   ]
  },
  {
   "cell_type": "code",
   "execution_count": null,
   "id": "f3cf825a",
   "metadata": {},
   "outputs": [],
   "source": [
    "minimo = series1.min()\n",
    "percentiles = series1.describe(percentiles=[0.25, 0.50, 0.75, 0.80])[\n",
    "    [\"25%\", \"50%\", \"75%\", \"80%\"]]\n",
    "\n",
    "print(\"Mínimo:\")\n",
    "print(minimo)\n",
    "\n",
    "print(\"Percentiles:\")\n",
    "print(percentiles)\n"
   ]
  },
  {
   "attachments": {},
   "cell_type": "markdown",
   "id": "16c14a4f",
   "metadata": {},
   "source": [
    "6. Obtén la frecuencia con la que se repite cada valor."
   ]
  },
  {
   "cell_type": "code",
   "execution_count": null,
   "metadata": {},
   "outputs": [],
   "source": [
    "print(series1)\n",
    "print(series1.value_counts().sort_values()) \n",
    "print(series1.value_counts().sort_index()) \n"
   ]
  },
  {
   "attachments": {},
   "cell_type": "markdown",
   "id": "13e8adcd",
   "metadata": {},
   "source": [
    "7. Mantén el valor de los dos elementos más repetidos y al resto asignale el valor \"Otros\"."
   ]
  },
  {
   "cell_type": "code",
   "execution_count": null,
   "metadata": {},
   "outputs": [],
   "source": [
    "print(\"Serie nueva:\")\n",
    "series_nueva = pd.Series([2,2,4,4,4,4,1,9,8,7,4])\n",
    "print(series_nueva)\n",
    "\n",
    "# apply(f). Devuelve una serie con el resultado de aplicar la función f a cada uno de los elementos de la serie.\n",
    "print(\"Serie con valores asignados:\")\n",
    "series_nueva.apply(lambda x: x if x in series_nueva.value_counts().nlargest(2).index else \"Otros\")\n",
    "\n",
    "\n",
    "\n"
   ]
  },
  {
   "attachments": {},
   "cell_type": "markdown",
   "id": "6f62999c",
   "metadata": {},
   "source": [
    "8. Crea un Series de tamaño 35 con valores aleatorios. Crea un DataFrame basado en este Series de dimensión 7 filas y 5 columnas."
   ]
  },
  {
   "cell_type": "code",
   "execution_count": null,
   "id": "ca7b946f",
   "metadata": {},
   "outputs": [],
   "source": [
    "series_aleatorio = pd.Series(np.random.randint(1, 101, size=35))\n",
    "print(\"Series aleatorio:\")\n",
    "print(series_aleatorio)\n",
    "\n",
    "dataframe = pd.DataFrame(series_aleatorio.values.reshape(7, 5))\n",
    "print(\"\\nDataFrame:\")\n",
    "dataframe\n"
   ]
  },
  {
   "cell_type": "markdown",
   "id": "4aeca4e5",
   "metadata": {},
   "source": [
    "9. Partiendo de las series creadas en el *Ejercicio 1* apilar las dos series verticalmente."
   ]
  },
  {
   "cell_type": "code",
   "execution_count": null,
   "id": "f38b9380",
   "metadata": {},
   "outputs": [],
   "source": [
    "series1 = pd.Series(lst1)\n",
    "series2 = pd.Series(lst2)\n",
    "\n",
    "display(series1)\n",
    "display(series2)\n",
    "pd.concat([series1, series2], axis=0)\n"
   ]
  },
  {
   "attachments": {},
   "cell_type": "markdown",
   "id": "2bc5028a",
   "metadata": {},
   "source": [
    "10. Ahora apila horizontalmente."
   ]
  },
  {
   "cell_type": "code",
   "execution_count": null,
   "id": "c1b10df7",
   "metadata": {},
   "outputs": [],
   "source": [
    "print(pd.concat([series1, series2], axis=1))\n",
    "pd.concat([series1, series2], axis=1)\n"
   ]
  },
  {
   "attachments": {},
   "cell_type": "markdown",
   "id": "22a258c7",
   "metadata": {},
   "source": [
    "11. Cómo convertir en mayúscula el primer caracter de Series de animales."
   ]
  },
  {
   "cell_type": "code",
   "execution_count": null,
   "id": "a0300741",
   "metadata": {},
   "outputs": [],
   "source": [
    "series_animales=series1.copy()\n",
    "\n",
    "display(series_animales.str.upper())\n",
    "series_animales.str.capitalize()\n"
   ]
  },
  {
   "attachments": {},
   "cell_type": "markdown",
   "id": "4cefcc04",
   "metadata": {},
   "source": [
    "12. Calcula el número de caracteres de cada elemento."
   ]
  },
  {
   "cell_type": "code",
   "execution_count": null,
   "id": "d47676f3",
   "metadata": {},
   "outputs": [],
   "source": [
    "display(series_animales.str.len())\n"
   ]
  },
  {
   "attachments": {},
   "cell_type": "markdown",
   "id": "05040d2c",
   "metadata": {},
   "source": [
    "13. Calcula la diferencia entre los valores de cada elemento consecutivo del Series numérico"
   ]
  },
  {
   "cell_type": "code",
   "execution_count": null,
   "id": "3a38599c",
   "metadata": {},
   "outputs": [],
   "source": [
    "display(series_numerica)\n",
    "\n",
    "series_numerica.diff()\n"
   ]
  },
  {
   "attachments": {},
   "cell_type": "markdown",
   "id": "16d1e640",
   "metadata": {},
   "source": [
    "14. Dada la lista siguiente de fechas, carga un Series de string a datetime\n",
    "['2015-08-06T12:20', '2012-04-02', '2021/01/03', '20191121', '01-12-2015', '04 Jan 2007']."
   ]
  },
  {
   "cell_type": "code",
   "execution_count": null,
   "id": "310c2b63",
   "metadata": {},
   "outputs": [],
   "source": [
    "lista_fechas_str=['2015-08-06T12:20', '2012-04-02', '2021/01/03', '20191121', '01-12-2015', '04 Jan 2007']\n",
    "display(lista_fechas_str)\n",
    "\n",
    "\n",
    "print(type(lista_fechas_str))\n",
    "\n",
    "for elemento in lista_fechas_str:\n",
    "    tipo_elemento = type(elemento)\n",
    "    print(tipo_elemento)\n",
    "\n",
    "\n",
    "serie_fechas_str= pd.Series(lista_fechas_str)\n",
    "display(serie_fechas_str)\n",
    "print(type(serie_fechas_str))\n",
    "print(serie_fechas_str.dtype)\n",
    "# Al convertir a series panda almacena los valores como object (genérico) aunque aun se tiene acceso a metodos str\n",
    "\n",
    "\n",
    "serie_fechas_date= pd.to_datetime(serie_fechas_str)\n",
    "\n",
    "serie_fechas_date\n",
    "\n",
    "\n",
    "\n",
    "\n",
    "\n"
   ]
  },
  {
   "attachments": {},
   "cell_type": "markdown",
   "id": "dcdc6ddb",
   "metadata": {},
   "source": [
    "15. Obtén el día del año del Series anterior."
   ]
  },
  {
   "cell_type": "code",
   "execution_count": null,
   "id": "e08cf2b2",
   "metadata": {},
   "outputs": [],
   "source": [
    "serie_fechas_date.dt.dayofyear"
   ]
  },
  {
   "attachments": {},
   "cell_type": "markdown",
   "id": "f46a8e66",
   "metadata": {},
   "source": [
    "16. Obtén el día de la semana."
   ]
  },
  {
   "cell_type": "code",
   "execution_count": null,
   "id": "c7a8ab02",
   "metadata": {},
   "outputs": [],
   "source": [
    "serie_fechas_date.dt.day_name()"
   ]
  },
  {
   "cell_type": "markdown",
   "id": "d9890155",
   "metadata": {},
   "source": [
    "17. Crea un DataFrame basado en un Series de 10 elementos que se genere aleatoriamente entre \"manzana\", \"plátano\", \"zanahoria\" y pesos que sea un Series de 10 elementos aleatorios entre 1 y 10. Calcula la media del peso por fruta."
   ]
  },
  {
   "cell_type": "code",
   "execution_count": null,
   "id": "7ceefbf0",
   "metadata": {},
   "outputs": [],
   "source": [
    "frutas = pd.Series(np.random.choice(['manzana', 'plátano', 'zanahoria'], size=10))\n",
    "display(frutas)\n",
    "\n",
    "pesos = pd.Series(np.random.randint(1, 11, size=10))\n",
    "display(pesos)\n",
    "\n",
    "\n",
    "df_frutas_pesos = pd.DataFrame({'frutas': frutas, 'pesos': pesos})\n",
    "display(df_frutas_pesos)\n",
    "\n",
    "\n",
    "df_frutas_pesos.groupby('frutas')['pesos'].mean()\n",
    "\n"
   ]
  },
  {
   "attachments": {},
   "cell_type": "markdown",
   "id": "1eedeed1",
   "metadata": {},
   "source": [
    "18. Crea un Series que contenga los 10 primeros lunes de 2022 como índice y un número aleatorio como valor."
   ]
  },
  {
   "cell_type": "code",
   "execution_count": null,
   "metadata": {},
   "outputs": [],
   "source": [
    "# Crear un rango de fechas para los primeros 10 lunes de 2022\n",
    "fechas_lunes = pd.date_range(start='2022-01-01', periods=10, freq='W-MON')\n",
    "\n",
    "# Crear un Series con índice de fechas y valores aleatorios\n",
    "serie_lunes = pd.Series(np.random.randint(1, 100, size=10), index=fechas_lunes)\n",
    "\n",
    "# Agregar una columna con el nombre del día\n",
    "serie_lunes_con_dia = pd.concat([serie_lunes, serie_lunes.index.to_series().dt.day_name()], axis=1)\n",
    "serie_lunes_con_dia.columns = ['valor', 'dia']\n",
    "\n",
    "display(serie_lunes_con_dia)"
   ]
  },
  {
   "attachments": {},
   "cell_type": "markdown",
   "id": "f2eaa4e8",
   "metadata": {},
   "source": [
    "19. Crea un DataFrame basado en el Series del *Ejercicio 18* con las columnas llamadas fecha y precio."
   ]
  },
  {
   "cell_type": "code",
   "execution_count": null,
   "id": "1c045c77",
   "metadata": {},
   "outputs": [],
   "source": [
    "df = pd.DataFrame({'fecha': serie_lunes.index, 'precio': serie_lunes})\n",
    "df\n"
   ]
  },
  {
   "attachments": {},
   "cell_type": "markdown",
   "id": "f0b3989c",
   "metadata": {},
   "source": [
    "20. Genera un DataFrame de 5x5 y posteriormente invierte el orden de los valores de sus filas."
   ]
  },
  {
   "cell_type": "code",
   "execution_count": null,
   "id": "58bb6354",
   "metadata": {},
   "outputs": [],
   "source": [
    "# Generar un DataFrame de 5x5 con valores aleatorios\n",
    "df = pd.DataFrame(np.random.randint(1, 10, size=(5, 5)))\n",
    "\n",
    "# Invertir el orden de las filas del DataFrame\n",
    "df_invertido = df[::-1]\n",
    "\n",
    "print(df)\n",
    "print()\n",
    "print(df_invertido)"
   ]
  },
  {
   "attachments": {},
   "cell_type": "markdown",
   "id": "27ca9a3f",
   "metadata": {},
   "source": [
    "21. Añade una nueva columna que sea el máximo entre el mínimo de cada fila."
   ]
  },
  {
   "cell_type": "code",
   "execution_count": null,
   "id": "b6442968",
   "metadata": {},
   "outputs": [],
   "source": [
    "df = pd.DataFrame(np.random.randint(1, 10, size=(5, 5)))\n",
    "df['max/min'] = df.max(axis=1) / df.min(axis=1)\n",
    "\n",
    "df"
   ]
  }
 ],
 "metadata": {
  "kernelspec": {
   "display_name": "Python 3 (ipykernel)",
   "language": "python",
   "name": "python3"
  },
  "language_info": {
   "codemirror_mode": {
    "name": "ipython",
    "version": 3
   },
   "file_extension": ".py",
   "mimetype": "text/x-python",
   "name": "python",
   "nbconvert_exporter": "python",
   "pygments_lexer": "ipython3",
   "version": "3.9.16"
  }
 },
 "nbformat": 4,
 "nbformat_minor": 5
}
