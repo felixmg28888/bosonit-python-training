{
 "cells": [
  {
   "attachments": {},
   "cell_type": "markdown",
   "id": "b88d385f",
   "metadata": {},
   "source": [
    "# **Bloque 09 <br> Numpy <br> Ejercicios de repaso**\n",
    "\n",
    "### **Nombre del proyecto:** block09-02-review-numpy"
   ]
  },
  {
   "attachments": {},
   "cell_type": "markdown",
   "id": "f1920790",
   "metadata": {},
   "source": [
    "## Ejercicios repaso Numpy"
   ]
  },
  {
   "cell_type": "code",
   "execution_count": null,
   "id": "a5585d0e",
   "metadata": {},
   "outputs": [],
   "source": [
    "import numpy as np"
   ]
  },
  {
   "attachments": {},
   "cell_type": "markdown",
   "id": "ff25f152",
   "metadata": {},
   "source": [
    "1. Crea un vector de ceros de 10 elementos excepto el quinto elemento que debe de ser 1."
   ]
  },
  {
   "cell_type": "code",
   "execution_count": null,
   "id": "dcda5588",
   "metadata": {},
   "outputs": [],
   "source": [
    "vector1 = np.zeros(10)\n",
    "vector1[4] = 1\n",
    "\n",
    "# np.eye crea una matriz identidad con unos en la diagonal principal.\n",
    "\n",
    "vector2 = np.eye(1, 10, k=4)[0]\n",
    "\n",
    "\n",
    "print(vector1)\n",
    "print(vector2)\n"
   ]
  },
  {
   "attachments": {},
   "cell_type": "markdown",
   "id": "cf002b18",
   "metadata": {},
   "source": [
    "2. Crea un vector con los valores desde el 10 hasta 49."
   ]
  },
  {
   "cell_type": "code",
   "execution_count": null,
   "id": "f29d1606",
   "metadata": {},
   "outputs": [],
   "source": [
    "vector = np.arange(10, 50)\n",
    "\n",
    "# np.arange genera una secuencia de números espaciados uniformemente dentro de un rango especificado\n",
    "\n",
    "print(vector)\n"
   ]
  },
  {
   "attachments": {},
   "cell_type": "markdown",
   "id": "37d01f7f",
   "metadata": {},
   "source": [
    "3. Modifica el vector del ejercicio anterior y calcula el inverso."
   ]
  },
  {
   "cell_type": "code",
   "execution_count": null,
   "id": "64c8ed58",
   "metadata": {},
   "outputs": [],
   "source": [
    "vector_inverso=np.flip(vector)\n",
    "print(vector_inverso)\n"
   ]
  },
  {
   "attachments": {},
   "cell_type": "markdown",
   "id": "63df42e5",
   "metadata": {},
   "source": [
    "4. Crea una matriz de 3x3 con los valores desde 0 hasta 8."
   ]
  },
  {
   "cell_type": "code",
   "execution_count": null,
   "id": "8cd64b29",
   "metadata": {},
   "outputs": [],
   "source": [
    "matriz = np.arange(0, 9)\n",
    "matriz_reorganizada = matriz.reshape(3, 3)\n",
    "\n",
    "# .reshape reorganiza una matriz preservando los datos en una nueva forma especificada\n",
    "\n",
    "print(matriz,\"\\n\")\n",
    "\n",
    "print(matriz_reorganizada)\n"
   ]
  },
  {
   "attachments": {},
   "cell_type": "markdown",
   "id": "df4f4b4c",
   "metadata": {},
   "source": [
    "5. Crea una matriz de identidad de 4x4."
   ]
  },
  {
   "cell_type": "code",
   "execution_count": null,
   "id": "60324b92",
   "metadata": {},
   "outputs": [],
   "source": [
    "matriz_identidad = np.eye(4)\n",
    "\n",
    "# np.eye crea una matriz identidad con unos en la diagonal principal.\n",
    "\n",
    "print(matriz_identidad)\n"
   ]
  },
  {
   "attachments": {},
   "cell_type": "markdown",
   "id": "a51ecf94",
   "metadata": {},
   "source": [
    "6. Crea una matriz de 5x5x5 con valores aleatorios."
   ]
  },
  {
   "cell_type": "code",
   "execution_count": null,
   "id": "11899e8f",
   "metadata": {},
   "outputs": [],
   "source": [
    "matriz_aleatoria = np.random.randint(low=0, high=10, size=(5, 5, 5))\n",
    "\n",
    "print(matriz_aleatoria)\n"
   ]
  },
  {
   "attachments": {},
   "cell_type": "markdown",
   "id": "9fc435e2",
   "metadata": {},
   "source": [
    "7. Calcula la media del vector anterior."
   ]
  },
  {
   "cell_type": "code",
   "execution_count": null,
   "id": "f2494369",
   "metadata": {},
   "outputs": [],
   "source": [
    "media = np.mean(vector)\n",
    "\n",
    "print(media)\n"
   ]
  },
  {
   "attachments": {},
   "cell_type": "markdown",
   "id": "a0e19b55",
   "metadata": {},
   "source": [
    "8. Crea una matriz 3x3 con los valores 1,2,3 en la diagonal (el resto de elementos deben de ser 0)."
   ]
  },
  {
   "cell_type": "code",
   "execution_count": null,
   "id": "10e1b49d",
   "metadata": {},
   "outputs": [],
   "source": [
    "matriz_diagonal = np.diag([1, 2, 3])\n",
    "\n",
    "print(matriz_diagonal)\n"
   ]
  },
  {
   "attachments": {},
   "cell_type": "markdown",
   "id": "fb43e162",
   "metadata": {},
   "source": [
    "9. Crea una matriz 4x4 con los valores 1,2,3 en la diagonal inferior (el resto de elementos deben de ser 0).<br>\n",
    "[[0, 0, 0, 0],\n",
    "[1, 0, 0, 0],\n",
    "[0, 2, 0, 0],\n",
    "[0, 0, 3, 0]]"
   ]
  },
  {
   "cell_type": "code",
   "execution_count": null,
   "id": "963d6dc0",
   "metadata": {},
   "outputs": [],
   "source": [
    "matriz_diagonal_inferior = np.diag(np.arange(1, 4), k=-1)\n",
    "\n",
    "# np.arange(1, 4) crea un arreglo de valores del 1 al 3. \n",
    "# Luego, np.diag() toma ese arreglo y lo coloca en la diagonal especificada por k=-1, que es la diagonal inferior\n",
    "\n",
    "print(matriz_diagonal_inferior)\n"
   ]
  },
  {
   "attachments": {},
   "cell_type": "markdown",
   "id": "06c624aa",
   "metadata": {},
   "source": [
    "10. Normaliza una matriz de 4x4 con valores aleatorios."
   ]
  },
  {
   "cell_type": "code",
   "execution_count": null,
   "id": "8eed20c0",
   "metadata": {},
   "outputs": [],
   "source": [
    "matriz_aleatoria = np.random.randint(low=0, high=10, size=(4, 4))\n",
    "print(\"matriz_aleatoria:\\n\",matriz_aleatoria,\"\\n\")\n",
    "\n",
    "# Normalización por z-score, consiste en restar la media y dividir por la desviación estándar de cada columna de la matriz.\n",
    "\n",
    "# 1 Calcular la media y la desviación estándar de cada columna\n",
    "media=np.mean(matriz_aleatoria, axis=0)\n",
    "print(\"media:\\n\",media,\"\\n\")\n",
    "\n",
    "desviacion_estandar=np.std(matriz_aleatoria, axis=0)\n",
    "print(\"desviacion_estandar:\\n\",desviacion_estandar,\"\\n\")\n",
    "\n",
    "# Aplicar la normalización por z-score\n",
    "matriz_normalizada = (matriz_aleatoria - media) / desviacion_estandar\n",
    "\n",
    "print(\"matriz_normalizada:\\n\",matriz_normalizada)\n"
   ]
  },
  {
   "attachments": {},
   "cell_type": "markdown",
   "id": "04d68eb5",
   "metadata": {},
   "source": [
    "11. Multiplica una matriz de 6x3 (todos valores a 1) por una de 3x2 (todos valores a 1)."
   ]
  },
  {
   "cell_type": "code",
   "execution_count": null,
   "id": "8e9fbddb",
   "metadata": {},
   "outputs": [],
   "source": [
    "import numpy as np\n",
    "\n",
    "# Crear las matrices de 6x3 y 3x2 con valores a 1\n",
    "matriz_1 = np.ones((6, 3))\n",
    "matriz_2 = np.ones((3, 2))\n",
    "\n",
    "# Multiplicar las dos matrices\n",
    "resultado = np.dot(matriz_1, matriz_2)\n",
    "\n",
    "print(\"matriz_1 \\n\", matriz_1, \"\\n\")\n",
    "print(\"matriz_2 \\n\", matriz_2, \"\\n\")\n",
    "print(\"resultado \\n\", resultado, \"\\n\")\n"
   ]
  },
  {
   "attachments": {},
   "cell_type": "markdown",
   "id": "db196dd1",
   "metadata": {},
   "source": [
    "12. Realiza la multiplicación del ejercicio anterior utilizando un operador."
   ]
  },
  {
   "cell_type": "code",
   "execution_count": null,
   "id": "e3eefcbe",
   "metadata": {},
   "outputs": [],
   "source": [
    "# Se podría multiplicar con operador * siempre y cuando se modificaran las dimensiones de una de las matrices.\n",
    "# El operador * multiplica elementos por lo que deben tener las mismas dimensiones.\n",
    "\n",
    "# Crear las matrices de 6x3 y 3x2 con valores a 1\n",
    "matriz_1 = np.ones((6, 3))\n",
    "matriz_2 = np.ones((3, 2))\n",
    "\n",
    "# Multiplicar las dos matrices\n",
    "resultado = matriz_1 @ matriz_2\n",
    "\n",
    "print(\"matriz_1 \\n\", matriz_1, \"\\n\")\n",
    "print(\"matriz_2 \\n\", matriz_2, \"\\n\")\n",
    "print(\"resultado \\n\", resultado, \"\\n\")\n"
   ]
  },
  {
   "attachments": {},
   "cell_type": "markdown",
   "id": "7a0f8252",
   "metadata": {},
   "source": [
    "13. Cree una matriz de 1 dimensión con los valores desde 1 a 10, con los valores desde 3 hasta 8 en negativo. [1, 2 , -3, -4, -5, -6, -7, -8, 9, 10]"
   ]
  },
  {
   "cell_type": "code",
   "execution_count": null,
   "id": "bfc03a19",
   "metadata": {},
   "outputs": [],
   "source": [
    "# Crear una matriz de 1 dimensión con los valores desde 1 a 10\n",
    "matriz = np.arange(1, 11)\n",
    "\n",
    "# Reemplazar los valores desde 3 hasta 8 por sus negativos\n",
    "matriz[2:8] = -np.arange(3, 9)\n",
    "\n",
    "print(matriz)\n"
   ]
  },
  {
   "attachments": {},
   "cell_type": "markdown",
   "id": "6a698b21",
   "metadata": {},
   "source": [
    "14. Cree un vector de 10 elementos con los valores aleatorios entre 0 y 10."
   ]
  },
  {
   "cell_type": "code",
   "execution_count": null,
   "id": "be09986e",
   "metadata": {},
   "outputs": [],
   "source": [
    "vector = np.random.randint(0, 11, size=10)\n",
    "\n",
    "print(vector)"
   ]
  },
  {
   "attachments": {},
   "cell_type": "markdown",
   "id": "68ec90bb",
   "metadata": {},
   "source": [
    "15. Cree un vector con todas las fechas de abril de 2022."
   ]
  },
  {
   "cell_type": "code",
   "execution_count": null,
   "id": "376b086a",
   "metadata": {},
   "outputs": [],
   "source": [
    "# Crear un rango de fechas desde el 1 de abril de 2022 hasta el 30 de abril de 2022\n",
    "fechas_abril_2022 = np.arange('2022-04-01', '2022-05-01', dtype='datetime64[D]')\n",
    "\n",
    "print(fechas_abril_2022)\n"
   ]
  },
  {
   "attachments": {},
   "cell_type": "markdown",
   "id": "45e4793c",
   "metadata": {},
   "source": [
    "16. Crea un vector ordenado de 15 elementos con valores aleatorios entre 1 y 10."
   ]
  },
  {
   "cell_type": "code",
   "execution_count": null,
   "id": "e0a7606c",
   "metadata": {},
   "outputs": [],
   "source": [
    "vector_aleatorio = np.sort(np.random.randint(1, 11, size=15))\n",
    "\n",
    "print(vector_aleatorio)\n"
   ]
  },
  {
   "attachments": {},
   "cell_type": "markdown",
   "id": "cd75615a",
   "metadata": {},
   "source": [
    "17. Devuelva la suma de los valores del vector del ejercicio anterior."
   ]
  },
  {
   "cell_type": "code",
   "execution_count": null,
   "id": "5c3c0bc8",
   "metadata": {},
   "outputs": [],
   "source": [
    "suma = np.sum(vector_aleatorio)\n",
    "\n",
    "print(suma)\n"
   ]
  },
  {
   "attachments": {},
   "cell_type": "markdown",
   "id": "aa3d5192",
   "metadata": {},
   "source": [
    "18. Devuelve el resultado de la suma del vector ejercicio 16 de una forma más rápida que utilizar np.sum."
   ]
  },
  {
   "cell_type": "code",
   "execution_count": null,
   "id": "2cbd8b50",
   "metadata": {},
   "outputs": [],
   "source": [
    "import timeit\n",
    "\n",
    "\n",
    "# Realizar la suma utilizando el método np.sum()\n",
    "def suma_np_sum():\n",
    "    return np.sum(vector_aleatorio)\n",
    "\n",
    "# Realizar la suma utilizando el método vector.sum()\n",
    "\n",
    "\n",
    "def suma_vector_sum():\n",
    "    return vector_aleatorio.sum()\n",
    "\n",
    "\n",
    "# Obtener los resultados de la suma\n",
    "resultado_np_sum = suma_np_sum()\n",
    "resultado_vector_sum = suma_vector_sum()\n",
    "\n",
    "print(resultado_np_sum)\n",
    "print(resultado_vector_sum)\n",
    "\n",
    "# Medir el tiempo de ejecución de np.sum\n",
    "tiempo_np_sum = timeit.timeit(suma_np_sum, number=1)\n",
    "\n",
    "# Medir el tiempo de ejecución de vector.sum()\n",
    "tiempo_vector_sum = timeit.timeit(suma_vector_sum, number=1)\n",
    "\n",
    "print(\"Resultado suma_np_sum:\", resultado_np_sum)\n",
    "print(\"Resultado suma_vector_sum:\", resultado_vector_sum)\n",
    "print(\"Tiempo de ejecución suma_np_sum:\", tiempo_np_sum)\n",
    "print(\"Tiempo de ejecución suma_vector_sum:\", tiempo_vector_sum)\n",
    "\n",
    "if tiempo_np_sum < tiempo_vector_sum:\n",
    "    print(\"np.sum() es más rápido\")\n",
    "else:\n",
    "    print(\"np.sum() es más lento\")\n"
   ]
  },
  {
   "attachments": {},
   "cell_type": "markdown",
   "id": "34163b26",
   "metadata": {},
   "source": [
    "19. Crea un vector aleatorio de tamaño 20 y reemplaza el máximo valor por 0."
   ]
  },
  {
   "cell_type": "code",
   "execution_count": null,
   "id": "b6726f47",
   "metadata": {},
   "outputs": [],
   "source": [
    "vector_aleatorio = np.random.randint(0, 100, size=20)\n",
    "vector_aleatorio_modificado = np.where(vector_aleatorio == np.max(vector_aleatorio), 0, vector_aleatorio)\n",
    "\n",
    "\n",
    "print(vector_aleatorio)\n",
    "print(vector_aleatorio_modificado)\n"
   ]
  },
  {
   "attachments": {},
   "cell_type": "markdown",
   "id": "2b9f71a0",
   "metadata": {},
   "source": [
    "20. Itera un numpy arrays mostrando su posición y el valor."
   ]
  },
  {
   "cell_type": "code",
   "execution_count": null,
   "id": "216fe44c",
   "metadata": {},
   "outputs": [],
   "source": [
    "array = np.array([1, 2, 3, 4, 5])\n",
    "\n",
    "# Iterar sobre el array mostrando la posición y valor\n",
    "# np.ndenumerate devuelve un iterador de índices y valores de un array multidimensional\n",
    "for index, value in np.ndenumerate(array):\n",
    "    print(\"Posición:\", index, \"Valor:\", value)\n"
   ]
  },
  {
   "attachments": {},
   "cell_type": "markdown",
   "id": "47ff80af",
   "metadata": {},
   "source": [
    "21. Resta a cada elemento la media calculada de su fila de la matriz."
   ]
  },
  {
   "cell_type": "code",
   "execution_count": null,
   "id": "25118730",
   "metadata": {},
   "outputs": [],
   "source": [
    "# Ejemplo para un array unidimensional\n",
    "array_unidimensional = np.random.randint(0, 100, size=5)\n",
    "media_unidimensional = np.mean(array_unidimensional)\n",
    "array_unidimensional_resta = array_unidimensional - media_unidimensional\n",
    "\n",
    "print(\"Array unidimensional:\\n\",array_unidimensional,\"\\n\")\n",
    "print(\"Media array_unidimensional:\\n\",media_unidimensional,\"\\n\")\n",
    "print(\"array_unidimensional_resta:\\n\",array_unidimensional_resta,\"\\n\")\n"
   ]
  },
  {
   "cell_type": "code",
   "execution_count": null,
   "id": "212f58c2",
   "metadata": {},
   "outputs": [],
   "source": [
    "# Ejemplo para un vector bidimensional\n",
    "vector = np.random.randint(low=0, high=100, size=(2, 5))\n",
    "media_vector = np.mean(vector, axis=1, keepdims=True)  # Calcula la media por fila manteniendo la dimensión\n",
    "vector_resta = vector - media_vector  # Resta la media a cada fila\n",
    "\n",
    "print(\"Vector bidimensional:\\n\",vector,\"\\n\")\n",
    "print(\"Media de cada fila:\\n\",media_vector,\"\\n\")\n",
    "print(\"vector_resta:\\n\",vector_resta,\"\\n\")\n",
    "\n"
   ]
  },
  {
   "cell_type": "code",
   "execution_count": null,
   "id": "644d12bf",
   "metadata": {},
   "outputs": [],
   "source": [
    "# Ejemplo para una matriz tridimensional\n",
    "matriz = np.random.randint(low=0, high=100, size=(3, 4, 2))\n",
    "media_matriz = np.mean(matriz, axis=2, keepdims=True)  # Calcula la media por fila manteniendo la dimensión\n",
    "matriz_resta = matriz - media_matriz  # Resta la media a cada fila\n",
    "\n",
    "print(\"Matriz tridimensional:\\n\", matriz,\"\\n\")\n",
    "print(\"Media de cada fila:\\n\", media_matriz,\"\\n\")\n",
    "print(\"Matriz después de restar la media:\\n\", matriz_resta)\n"
   ]
  },
  {
   "attachments": {},
   "cell_type": "markdown",
   "id": "f31bee4d",
   "metadata": {},
   "source": [
    "22. Crea una matriz de 6x6 y ordenala por la 4ª fila."
   ]
  },
  {
   "cell_type": "code",
   "execution_count": null,
   "id": "746d4f9c",
   "metadata": {},
   "outputs": [],
   "source": [
    "import numpy as np\n",
    "\n",
    "# Crear una matriz de 6x6\n",
    "matriz = np.random.randint(0, 10, (6, 6))\n",
    "print(\"Matriz original:\")\n",
    "print(matriz)\n",
    "\n",
    "# Obtener los índices que ordenan la cuarta fila\n",
    "indices_orden = np.argsort(matriz[3, :])\n",
    "\n",
    "# Ordenar la matriz por la cuarta fila\n",
    "matriz_ordenada = matriz[:, indices_orden]\n",
    "print(\"\\nMatriz ordenada por la cuarta fila:\")\n",
    "print(matriz_ordenada)\n"
   ]
  },
  {
   "attachments": {},
   "cell_type": "markdown",
   "id": "7a67ce90",
   "metadata": {},
   "source": [
    "23. Existiendo el vector [1, 2, 3, 4, 5], construir un nuevo vector con 3 ceros consecuitvos entre cada valor del vector anterior."
   ]
  },
  {
   "cell_type": "code",
   "execution_count": null,
   "id": "4b539e6e",
   "metadata": {},
   "outputs": [],
   "source": [
    "# Vector original\n",
    "vector_original = np.array([1, 2, 3, 4, 5])\n",
    "\n",
    "# Construir un nuevo vector con 3 ceros entre cada valor del vector original\n",
    "nuevo_vector = np.zeros(len(vector_original) + (len(vector_original)-1)*3)\n",
    "nuevo_vector[::4] = vector_original\n",
    "\n",
    "print(vector_original)\n",
    "print(nuevo_vector)\n"
   ]
  },
  {
   "attachments": {},
   "cell_type": "markdown",
   "id": "fe2632d3",
   "metadata": {},
   "source": [
    "24. Crea un vector con números aleatorios de 5x5 e intercambia la fila segunda por la tercera."
   ]
  },
  {
   "cell_type": "code",
   "execution_count": null,
   "id": "b9411926",
   "metadata": {},
   "outputs": [],
   "source": [
    "# Crear una matriz de 5x5 con números aleatorios\n",
    "matriz = np.random.randint(0, 10, (5, 5))\n",
    "print(\"Matriz original:\")\n",
    "print(matriz)\n",
    "\n",
    "# Intercambiar la segunda fila por la tercera\n",
    "matriz[1, :], matriz[2, :] = matriz[2, :], matriz[1, :].copy()\n",
    "\n",
    "print(\"\\nMatriz con la segunda fila intercambiada por la tercera:\")\n",
    "print(matriz)\n"
   ]
  }
 ],
 "metadata": {
  "kernelspec": {
   "display_name": "Python 3 (ipykernel)",
   "language": "python",
   "name": "python3"
  },
  "language_info": {
   "codemirror_mode": {
    "name": "ipython",
    "version": 3
   },
   "file_extension": ".py",
   "mimetype": "text/x-python",
   "name": "python",
   "nbconvert_exporter": "python",
   "pygments_lexer": "ipython3",
   "version": "3.9.16"
  }
 },
 "nbformat": 4,
 "nbformat_minor": 5
}
