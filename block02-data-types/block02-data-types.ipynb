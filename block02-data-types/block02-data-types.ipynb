{
 "cells": [
  {
   "attachments": {},
   "cell_type": "markdown",
   "metadata": {},
   "source": [
    "# **Bloque 02 <br> Tipos de datos**\n",
    "\n",
    "### **Nombre del proyecto:** block02-data-types"
   ]
  },
  {
   "attachments": {},
   "cell_type": "markdown",
   "metadata": {},
   "source": [
    "#### **Ejercicios numéricos**"
   ]
  },
  {
   "attachments": {},
   "cell_type": "markdown",
   "metadata": {},
   "source": [
    "1. Define cualquier número de tipo int."
   ]
  },
  {
   "cell_type": "code",
   "execution_count": null,
   "metadata": {},
   "outputs": [],
   "source": [
    "num_int = 12\n",
    "print(\"num_int: \" + str(num_int))\n",
    "print(\"num_int:\", num_int)\n"
   ]
  },
  {
   "attachments": {},
   "cell_type": "markdown",
   "metadata": {},
   "source": [
    "2. Define cualquier número de tipo float."
   ]
  },
  {
   "cell_type": "code",
   "execution_count": null,
   "metadata": {},
   "outputs": [],
   "source": [
    "num_float = 3.14\n",
    "print(\"num_float: \" + str(num_float))\n"
   ]
  },
  {
   "attachments": {},
   "cell_type": "markdown",
   "metadata": {},
   "source": [
    "3. Define cualquier número de tipo complex."
   ]
  },
  {
   "cell_type": "code",
   "execution_count": null,
   "metadata": {},
   "outputs": [],
   "source": [
    "num_complex = 3 + 4j\n",
    "print(\"num_complex: \" + str(num_complex))\n"
   ]
  },
  {
   "attachments": {},
   "cell_type": "markdown",
   "metadata": {},
   "source": [
    "4. Muestra la parte real del número definido en el punto 3"
   ]
  },
  {
   "cell_type": "code",
   "execution_count": null,
   "metadata": {},
   "outputs": [],
   "source": [
    "num_parte_real = num_complex.real\n",
    "print(\"num_parte_real: \" + str(num_parte_real))\n"
   ]
  },
  {
   "attachments": {},
   "cell_type": "markdown",
   "metadata": {},
   "source": [
    "5. Muestra la parte imaginaria del número definido en el punto 3."
   ]
  },
  {
   "cell_type": "code",
   "execution_count": null,
   "metadata": {},
   "outputs": [],
   "source": [
    "num_parte_imaginaria = num_complex.imag\n",
    "print(\"num_parte_imaginaria: \" + str(num_parte_imaginaria))\n"
   ]
  },
  {
   "attachments": {},
   "cell_type": "markdown",
   "metadata": {},
   "source": [
    "#### **Ejercicios boolean**"
   ]
  },
  {
   "attachments": {},
   "cell_type": "markdown",
   "metadata": {},
   "source": [
    "1. Define una variable con valor True."
   ]
  },
  {
   "cell_type": "code",
   "execution_count": null,
   "metadata": {},
   "outputs": [],
   "source": [
    "boolean_true = True\n",
    "print(\"boolean_true: \" + str(boolean_true))\n",
    "print(\"boolean_true: \", boolean_true)\n"
   ]
  },
  {
   "attachments": {},
   "cell_type": "markdown",
   "metadata": {},
   "source": [
    "2. Define una variable con valor False."
   ]
  },
  {
   "cell_type": "code",
   "execution_count": null,
   "metadata": {},
   "outputs": [],
   "source": [
    "boolean_false = False\n",
    "print(\"boolean_false: \" + str(boolean_true))\n"
   ]
  },
  {
   "attachments": {},
   "cell_type": "markdown",
   "metadata": {},
   "source": [
    "3. Define una variable con valor True mediante un entero."
   ]
  },
  {
   "cell_type": "code",
   "execution_count": null,
   "metadata": {},
   "outputs": [],
   "source": [
    "# En python 0 se considera False, cualquier otro número es True.\n",
    "boolean_int = 1\n",
    "\n",
    "# str parsea el int a string, y bool() parsea de string a boolean\n",
    "print(\"boolean_int: \" + str(bool(boolean_int)))\n"
   ]
  },
  {
   "attachments": {},
   "cell_type": "markdown",
   "metadata": {},
   "source": [
    "#### **Ejercicios con string**"
   ]
  },
  {
   "attachments": {},
   "cell_type": "markdown",
   "metadata": {},
   "source": [
    "1. Define una variable con un string con el valor \"Master Python\"."
   ]
  },
  {
   "cell_type": "code",
   "execution_count": null,
   "metadata": {},
   "outputs": [],
   "source": [
    "string_master_python = \" Máster Python\"\n",
    "print(\"string_master_python: \" + string_master_python)\n",
    "print(\"string_master_python:\", string_master_python)\n"
   ]
  },
  {
   "attachments": {},
   "cell_type": "markdown",
   "metadata": {},
   "source": [
    "2. Muestra la longitud de la variable anterior."
   ]
  },
  {
   "cell_type": "code",
   "execution_count": null,
   "metadata": {},
   "outputs": [],
   "source": [
    "longitud_string_master_python = len(string_master_python)\n",
    "print(\"Longitud string_master_python: \" + str(len(string_master_python)))\n",
    "print(\"Longitud string_master_python:\", longitud_string_master_python)\n"
   ]
  },
  {
   "attachments": {},
   "cell_type": "markdown",
   "metadata": {},
   "source": [
    "3. Muestra el primer carácter del string."
   ]
  },
  {
   "cell_type": "code",
   "execution_count": null,
   "metadata": {},
   "outputs": [],
   "source": [
    "primer_caracter = string_master_python[0]\n",
    "# String es considerado como una cadena de chars luego se busca el índice 0\n",
    "print(\"primer_caracter :\", primer_caracter)\n",
    "print(\"primer_caracter opc_2:\", str(string_master_python[0]))\n"
   ]
  },
  {
   "attachments": {},
   "cell_type": "markdown",
   "metadata": {},
   "source": [
    "4. Muestra el penúltimo carácter del string."
   ]
  },
  {
   "cell_type": "code",
   "execution_count": null,
   "metadata": {},
   "outputs": [],
   "source": [
    "penultimo_caracter_1 = string_master_python[len(string_master_python) - 2]\n",
    "# De cero a negativo...cuenta atrás -1 -2 -3\n",
    "penultimo_caracter_2 = string_master_python[-2]\n",
    "print(\"penultimo_caracter_1:\", penultimo_caracter_1)\n",
    "print(\"penultimo_caracter_2:\", penultimo_caracter_2)\n"
   ]
  },
  {
   "attachments": {},
   "cell_type": "markdown",
   "metadata": {},
   "source": [
    "5. Elimina los espacios iniciales del string."
   ]
  },
  {
   "cell_type": "code",
   "execution_count": null,
   "metadata": {},
   "outputs": [],
   "source": [
    "string_master_python = string_master_python.lstrip()\n",
    "# l(left) strip\n",
    "print(\"string_sin_espacios_iniciales:\", string_master_python)\n"
   ]
  },
  {
   "attachments": {},
   "cell_type": "markdown",
   "metadata": {},
   "source": [
    "6. Muestra los caracteres en posiciones impares."
   ]
  },
  {
   "cell_type": "code",
   "execution_count": null,
   "metadata": {},
   "outputs": [],
   "source": [
    "caracteres_impares = string_master_python[::2]\n",
    "print(\"caracteres_impares\", caracteres_impares)\n"
   ]
  },
  {
   "attachments": {},
   "cell_type": "markdown",
   "metadata": {},
   "source": [
    "7. Convierte todo el string en minúscula."
   ]
  },
  {
   "cell_type": "code",
   "execution_count": null,
   "metadata": {},
   "outputs": [],
   "source": [
    "string_master_python = string_master_python.lower()\n",
    "print(\"string_master_python_minúscula:\", string_master_python)\n"
   ]
  },
  {
   "attachments": {},
   "cell_type": "markdown",
   "metadata": {},
   "source": [
    "8. Separa el string por espacios en blanco."
   ]
  },
  {
   "cell_type": "code",
   "execution_count": null,
   "metadata": {},
   "outputs": [],
   "source": [
    "string_separado = string_master_python.split()\n",
    "print(\"string_master_python_separado:\", string_master_python.split())\n"
   ]
  },
  {
   "attachments": {},
   "cell_type": "markdown",
   "metadata": {},
   "source": [
    "9. Reemplaza \"python\" por \"JAVA\"."
   ]
  },
  {
   "cell_type": "code",
   "execution_count": null,
   "metadata": {},
   "outputs": [],
   "source": [
    "string_master_python_reemplazado = string_master_python.replace(\n",
    "    \"python\", \"JAVA\")\n",
    "print(\"Reemplazado:\", string_master_python_reemplazado)\n"
   ]
  },
  {
   "attachments": {},
   "cell_type": "markdown",
   "metadata": {},
   "source": [
    "#### **Ejercicios con listas**"
   ]
  },
  {
   "attachments": {},
   "cell_type": "markdown",
   "metadata": {},
   "source": [
    "1. Define una lista con los valores 10, 20, 'Hello', 20.5."
   ]
  },
  {
   "cell_type": "code",
   "execution_count": null,
   "metadata": {},
   "outputs": [],
   "source": [
    "lista = [10, 20, 'Hello', 20.5]\n",
    "print(\"Lista:\", lista)\n"
   ]
  },
  {
   "attachments": {},
   "cell_type": "markdown",
   "metadata": {},
   "source": [
    "2. Añade “Word” al final de la lista."
   ]
  },
  {
   "cell_type": "code",
   "execution_count": null,
   "metadata": {},
   "outputs": [],
   "source": [
    "lista.append(\"Word\")\n",
    "# añade elemento con comillas simples\n",
    "print(\"Lista con 'Word':\", lista)\n"
   ]
  },
  {
   "attachments": {},
   "cell_type": "markdown",
   "metadata": {},
   "source": [
    "3. Añade “Python” al principio de la lista."
   ]
  },
  {
   "cell_type": "code",
   "execution_count": null,
   "metadata": {},
   "outputs": [],
   "source": [
    "lista.insert(0, \"Python\")\n",
    "# añade elemento con comillas simples\n",
    "print(\"Lista con 'Python':\", lista)\n"
   ]
  },
  {
   "attachments": {},
   "cell_type": "markdown",
   "metadata": {},
   "source": [
    "4. Elimina el segundo valor de la lista."
   ]
  },
  {
   "cell_type": "code",
   "execution_count": null,
   "metadata": {},
   "outputs": [],
   "source": [
    "del lista[1]\n",
    "print(\"Lista sin segundo valor:\", lista)\n"
   ]
  },
  {
   "attachments": {},
   "cell_type": "markdown",
   "metadata": {},
   "source": [
    "5. Crea una segunda lista con los valores 20, 40, ‘Bye’ (utiliza una forma diferente que en el punto 1."
   ]
  },
  {
   "cell_type": "code",
   "execution_count": null,
   "metadata": {},
   "outputs": [],
   "source": [
    "tupla = (20, 40, 'Bye')\n",
    "lista_2 = list(tupla)\n",
    "print(\"lista_2:\", lista_2)\n"
   ]
  },
  {
   "attachments": {},
   "cell_type": "markdown",
   "metadata": {},
   "source": [
    "6. Une las dos listas."
   ]
  },
  {
   "cell_type": "code",
   "execution_count": null,
   "metadata": {},
   "outputs": [],
   "source": [
    "lista.extend(lista_2)\n",
    "print(\"Lista final:\", lista)\n"
   ]
  },
  {
   "attachments": {},
   "cell_type": "markdown",
   "metadata": {},
   "source": [
    "7. Muestra la lista final."
   ]
  },
  {
   "cell_type": "code",
   "execution_count": null,
   "metadata": {},
   "outputs": [],
   "source": [
    "print(\"Lista final:\", lista)\n"
   ]
  },
  {
   "attachments": {},
   "cell_type": "markdown",
   "metadata": {},
   "source": [
    "#### **Ejercicios con set**"
   ]
  },
  {
   "attachments": {},
   "cell_type": "markdown",
   "metadata": {},
   "source": [
    "1. Define un conjunto con los valores coche, motocicleta, bicicleta."
   ]
  },
  {
   "cell_type": "code",
   "execution_count": null,
   "metadata": {},
   "outputs": [],
   "source": [
    "conjunto_1 = {\"coche\", \"motocicleta\", \"bicicleta\"}\n",
    "print(\"conjunto_1\", conjunto_1)\n"
   ]
  },
  {
   "attachments": {},
   "cell_type": "markdown",
   "metadata": {},
   "source": [
    "2. Añade avión al conjunto."
   ]
  },
  {
   "cell_type": "code",
   "execution_count": null,
   "metadata": {},
   "outputs": [],
   "source": [
    "conjunto_1.add(\"avión\")\n",
    "print(\"conjunto_1\", conjunto_1)\n"
   ]
  },
  {
   "attachments": {},
   "cell_type": "markdown",
   "metadata": {},
   "source": [
    "3. Elimina coche del conjunto."
   ]
  },
  {
   "cell_type": "code",
   "execution_count": null,
   "metadata": {},
   "outputs": [],
   "source": [
    "conjunto_1.discard(\"coche\")\n",
    "print(\"conjunto_1\", conjunto_1)\n"
   ]
  },
  {
   "attachments": {},
   "cell_type": "markdown",
   "metadata": {},
   "source": [
    "4. Crea otro conjunto con los valores avión, coche, tractor (utiliza una forma diferente que en el punto 1)."
   ]
  },
  {
   "cell_type": "code",
   "execution_count": null,
   "metadata": {},
   "outputs": [],
   "source": [
    "conjunto_2 = set((\"avión\", \"coche\", \"tractor\"))\n",
    "print(\"conjunto_2\", conjunto_2)\n"
   ]
  },
  {
   "attachments": {},
   "cell_type": "markdown",
   "metadata": {},
   "source": [
    "5. Crea otro conjunto con los valores que se repitan en los conjuntos anteriores."
   ]
  },
  {
   "cell_type": "code",
   "execution_count": null,
   "metadata": {},
   "outputs": [],
   "source": [
    "conjunto_difference = conjunto_1.difference(conjunto_2)\n",
    "print(\"conjuto_difference:\", conjunto_difference)\n"
   ]
  },
  {
   "attachments": {},
   "cell_type": "markdown",
   "metadata": {},
   "source": [
    "6. Muestra un conjunto con todos los valores que pertenecen al conjunto creado en el punto 1 y punto 4\"."
   ]
  },
  {
   "cell_type": "code",
   "execution_count": null,
   "metadata": {},
   "outputs": [],
   "source": [
    "conjunto_union = conjunto_1.union(conjunto_2)\n",
    "print(\"conjunto_union:\", conjunto_union)\n",
    "print(\"conjunto_union Str:\", str(conjunto_union))"
   ]
  },
  {
   "attachments": {},
   "cell_type": "markdown",
   "metadata": {},
   "source": [
    "#### **Ejercicios con diccionario**\n",
    "Para realizar este ejercicio tienes un diccionario con las claves: coche, motocicleta, camión y los valores: 10, 20 y 30 respectivamente."
   ]
  },
  {
   "attachments": {},
   "cell_type": "markdown",
   "metadata": {},
   "source": [
    "1. Define el diccionario usando dict()."
   ]
  },
  {
   "cell_type": "code",
   "execution_count": null,
   "metadata": {},
   "outputs": [],
   "source": [
    "diccionario_1 = dict(coche=10, motocicleta=20, camion=30)\n",
    "print(\"diccionario_1:\", diccionario_1)"
   ]
  },
  {
   "attachments": {},
   "cell_type": "markdown",
   "metadata": {},
   "source": [
    "2. Define el diccionario usando { }."
   ]
  },
  {
   "cell_type": "code",
   "execution_count": null,
   "metadata": {},
   "outputs": [],
   "source": [
    "diccionario_2 = {\"coche\": 10, \"motocicleta\": 20, \"camion\": 30}\n",
    "print(\"diccionario_2:\", diccionario_2)\n"
   ]
  },
  {
   "attachments": {},
   "cell_type": "markdown",
   "metadata": {},
   "source": [
    "3. Define el diccionario usando zip()."
   ]
  },
  {
   "cell_type": "code",
   "execution_count": null,
   "metadata": {},
   "outputs": [],
   "source": [
    "claves = (\"coche\", \"motocicleta\", \"camion\")\n",
    "valores = (10, 20, 30)\n",
    "diccionario_3 = dict(zip(claves, valores))\n",
    "print(\"diccionario_3:\", diccionario_3)\n"
   ]
  },
  {
   "attachments": {},
   "cell_type": "markdown",
   "metadata": {},
   "source": [
    "4. Muestra los valores del diccionario."
   ]
  },
  {
   "cell_type": "code",
   "execution_count": null,
   "metadata": {},
   "outputs": [],
   "source": [
    "print(\"Valores del diccionario_1 .values:\", diccionario_1.values())\n",
    "print(\"Valores del diccionario_2 list:\", list(diccionario_2.values()))\n",
    "print(\"Valores del diccionario_3 tuple:\", tuple(diccionario_3.values()))\n",
    "print(\"Valores del diccionario_3 set:\", set(diccionario_3.values()))\n"
   ]
  },
  {
   "attachments": {},
   "cell_type": "markdown",
   "metadata": {},
   "source": [
    "5. Muestra las claves del diccionario."
   ]
  },
  {
   "cell_type": "code",
   "execution_count": null,
   "metadata": {},
   "outputs": [],
   "source": [
    "print(\"Claves del diccionario_1 .values:\", diccionario_1.keys())\n",
    "print(\"Claves del diccionario_2 list:\", list(diccionario_2.keys()))\n",
    "print(\"Claves del diccionario_3 tuple:\", tuple(diccionario_3.keys()))\n",
    "print(\"Claves del diccionario_3 set:\", set(diccionario_3.keys()))\n"
   ]
  },
  {
   "attachments": {},
   "cell_type": "markdown",
   "metadata": {},
   "source": [
    "6. Muestra el valor de coche."
   ]
  },
  {
   "cell_type": "code",
   "execution_count": null,
   "metadata": {},
   "outputs": [],
   "source": [
    "# Comillas simples\n",
    "print(\"Valor de coche\", diccionario_1['coche'])\n"
   ]
  },
  {
   "attachments": {},
   "cell_type": "markdown",
   "metadata": {},
   "source": [
    "7. Añade al diccionario avión con valor 100."
   ]
  },
  {
   "cell_type": "code",
   "execution_count": null,
   "metadata": {},
   "outputs": [],
   "source": [
    "diccionario_1['avión'] = 100\n",
    "print(diccionario_1)\n"
   ]
  },
  {
   "attachments": {},
   "cell_type": "markdown",
   "metadata": {},
   "source": [
    "8. Muestra los elementos del diccionario."
   ]
  },
  {
   "cell_type": "code",
   "execution_count": null,
   "metadata": {},
   "outputs": [],
   "source": [
    "print(diccionario_1)\n"
   ]
  }
 ],
 "metadata": {
  "kernelspec": {
   "display_name": "base",
   "language": "python",
   "name": "python3"
  },
  "language_info": {
   "codemirror_mode": {
    "name": "ipython",
    "version": 3
   },
   "file_extension": ".py",
   "mimetype": "text/x-python",
   "name": "python",
   "nbconvert_exporter": "python",
   "pygments_lexer": "ipython3",
   "version": "3.10.9"
  },
  "orig_nbformat": 4
 },
 "nbformat": 4,
 "nbformat_minor": 2
}
