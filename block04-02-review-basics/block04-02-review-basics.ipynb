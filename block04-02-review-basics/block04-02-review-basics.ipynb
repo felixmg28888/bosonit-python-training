{
 "cells": [
  {
   "attachments": {},
   "cell_type": "markdown",
   "id": "960cea4e",
   "metadata": {},
   "source": [
    "# **Bloque 04 <br> Tipos, operadores y estructuras de control <br> Ejercicios de repaso**\n",
    "\n",
    "### **Nombre del proyecto:** block04-02-review-basics"
   ]
  },
  {
   "attachments": {},
   "cell_type": "markdown",
   "id": "4f3cb996",
   "metadata": {},
   "source": [
    "#### **Ejercicio 1**\n",
    "Calcular el área y el volumen de un cilindro de 2 m de radio y 3 m de altura. Se puede utilizar $\\pi$ como una variable más escribiendo *math.pi*."
   ]
  },
  {
   "cell_type": "code",
   "execution_count": null,
   "id": "255813ad",
   "metadata": {},
   "outputs": [],
   "source": [
    "import math\n",
    "radio = 2\n",
    "altura = 3\n",
    "\n",
    "# Fórmula para calcular área superficial lateral de un cilindro\n",
    "\n",
    "# A = 2 π R h\n",
    "\n",
    "# Fórmula para calcular área superficial total de un cilindro\n",
    "# A = 2 π R h + 2 π R 2 = 2 π R(R + h)\n",
    "\n",
    "area = 2 * math.pi * radio * (radio + altura)\n",
    "volumen = math.pi * radio ** 2 * altura\n",
    "\n",
    "print(\"El área del cilindro es: \", area)\n",
    "print(\"El volumen del cilindro es: \", volumen)\n"
   ]
  },
  {
   "attachments": {},
   "cell_type": "markdown",
   "id": "7cfc5918",
   "metadata": {},
   "source": [
    "#### **Ejercicio 2**\n",
    "\n",
    "Resolver la ecuación y mostrar por pantalla el resultado.\n",
    "\n",
    "$$7x^2+21x-28 = 0$$\n"
   ]
  },
  {
   "cell_type": "code",
   "execution_count": null,
   "id": "f4417848",
   "metadata": {},
   "outputs": [],
   "source": [
    "import math\n",
    "\n",
    "a = 7\n",
    "b = 21\n",
    "c = -28\n",
    "# (-b+-b**-4ac)/2a\n",
    "x1 = (-b + math.sqrt(b**2 - 4*a*c)) / (2*a)\n",
    "x2 = (-b - math.sqrt(b**2 - 4*a*c)) / (2*a)\n",
    "\n",
    "print(x1)\n",
    "print(x2)\n"
   ]
  },
  {
   "attachments": {},
   "cell_type": "markdown",
   "id": "532ccd61",
   "metadata": {},
   "source": [
    "#### **Ejercicio 3**\n",
    "\n",
    "Mostrar por pantalla los números del 0 al 10 junto con una anotación que diga si el número es par o impar."
   ]
  },
  {
   "cell_type": "code",
   "execution_count": null,
   "id": "ab7ee629",
   "metadata": {},
   "outputs": [],
   "source": [
    "for num in range(11):\n",
    "    if num % 2 == 0:\n",
    "        print(num, \"es par\")\n",
    "    else:\n",
    "        print(num, \"es impar\")\n"
   ]
  },
  {
   "attachments": {},
   "cell_type": "markdown",
   "id": "a48078db",
   "metadata": {},
   "source": [
    "#### **Ejercicio 4**\n",
    "\n",
    "Mostrar por pantalla las tablas de multiplicar del 7, el 8 y el 9. El formato debe ser \"7x1 = 7\""
   ]
  },
  {
   "cell_type": "code",
   "execution_count": null,
   "id": "bd210130",
   "metadata": {},
   "outputs": [],
   "source": [
    "for tabla in range(7, 10):\n",
    "    print(\"Tabla de multiplicar del\", tabla, \":\")\n",
    "    for multiplicador in range(1, 11):\n",
    "        resultado = tabla * multiplicador\n",
    "        print(tabla, \"x\", multiplicador, \"=\", resultado)\n",
    "    print()  # Línea en blanco\n"
   ]
  },
  {
   "attachments": {},
   "cell_type": "markdown",
   "id": "9141d66a",
   "metadata": {},
   "source": [
    "#### **Ejercicio 5**\n",
    "\n",
    "Extraer el segundo y tercer elemento de lista y calcular su producto."
   ]
  },
  {
   "cell_type": "code",
   "execution_count": null,
   "id": "827b775f",
   "metadata": {},
   "outputs": [],
   "source": [
    "lista = [4, 7, 2, 9, 5]\n",
    "producto = lista[1] * lista[2]\n",
    "print(producto)\n"
   ]
  },
  {
   "attachments": {},
   "cell_type": "markdown",
   "id": "6e3b2e74",
   "metadata": {},
   "source": [
    "#### **Ejercicio 6**\n",
    "\n",
    "Mostrar todos los elementos de la lista"
   ]
  },
  {
   "cell_type": "code",
   "execution_count": null,
   "id": "65f5f920",
   "metadata": {},
   "outputs": [],
   "source": [
    "lista = [1, 2, 3, 4, 5]\n",
    "for numero in lista:\n",
    "    print(numero)\n"
   ]
  },
  {
   "attachments": {},
   "cell_type": "markdown",
   "id": "0501a56d",
   "metadata": {},
   "source": [
    "#### **Ejercicio 7**\n",
    "\n",
    "Calcular la suma de los N primeros números pares"
   ]
  },
  {
   "cell_type": "code",
   "execution_count": null,
   "id": "62996340",
   "metadata": {},
   "outputs": [],
   "source": [
    "import random\n",
    "\n",
    "# Generar un número aleatorio entre 1 y 10\n",
    "N = random.randint(1, 10)\n",
    "print(\"N aleatorio es = \", N)\n",
    "\n",
    "# Crear una lista de 20 números aleatorios entre 1 y 100\n",
    "lista = []\n",
    "\n",
    "for i in range(20):\n",
    "    num = random.randint(1, 100)  # Generar número aleatorio entre 1 y 100\n",
    "    lista.append(num)  # Agregar número a la lista\n",
    "\n",
    "print(\"Lista : \", lista)\n",
    "\n",
    "\n",
    "suma_pares = 0\n",
    "num_pares = 0\n",
    "lista_pares = []\n",
    "\n",
    "for num in lista:\n",
    "    if num % 2 == 0:\n",
    "        lista_pares.append(num)\n",
    "        suma_pares += num\n",
    "        num_pares += 1\n",
    "        if num_pares == N:\n",
    "            break\n",
    "\n",
    "# Imprimir el resultado\n",
    "print(\"La suma de los primeros\", N,\n",
    "      \"números pares en la lista es:\", lista_pares, suma_pares)\n"
   ]
  },
  {
   "attachments": {},
   "cell_type": "markdown",
   "id": "31e5e27f",
   "metadata": {},
   "source": [
    "#### **Ejercicio 8**\n",
    "\n",
    "Calcular el máximo, el mínimo y la media de una lista de enteros."
   ]
  },
  {
   "cell_type": "code",
   "execution_count": null,
   "id": "1419299d",
   "metadata": {},
   "outputs": [],
   "source": [
    "lista = [1, 2, 3, 4, 5, 6, 7, 8, 9, 10]\n",
    "maximo = max(lista)\n",
    "minimo = min(lista)\n",
    "media = sum(lista) / len(lista)\n",
    "\n",
    "print(\"El máximo es:\", maximo)\n",
    "print(\"El mínimo es:\", minimo)\n",
    "print(\"La media es:\", media)\n"
   ]
  },
  {
   "attachments": {},
   "cell_type": "markdown",
   "id": "652e251c",
   "metadata": {},
   "source": [
    "#### **Ejercicio 9**\n",
    "\n",
    "Dado un número entero $n$, comprobar si el número es primo."
   ]
  },
  {
   "cell_type": "code",
   "execution_count": null,
   "id": "68c67477",
   "metadata": {},
   "outputs": [],
   "source": [
    "import random\n",
    "\n",
    "# Generar un número aleatorio entre 1 y 100\n",
    "n = random.randint(1, 100)\n",
    "print(\"N aleatorio es = \", n)\n",
    "\n",
    "# Los números primos son aquellos que sólo son divisibles por uno y por sí mismos\n",
    "\n",
    "for divisor in range(2, n):  # Bucle for desde el num 2 al num n\n",
    "    if n % divisor == 0:\n",
    "        print(\"No es primo\", divisor, \"es divisor\")\n",
    "        break\n",
    "else:\n",
    "    print(\"Es primo\")\n"
   ]
  },
  {
   "attachments": {},
   "cell_type": "markdown",
   "id": "465042b6",
   "metadata": {},
   "source": [
    "#### **Ejercicio 10**\n",
    "\n",
    "Queremos crear una máquina que de el cambio de lo que han pagado nuestros clientes. Supondremos que nuestros depósitos de billetes de cualquier tipo son ilimitados y que el máximo billete es de 50€. A partir del dinero entregado y el precio de la compra, sacaremos por pantalla el cambio óptimo."
   ]
  },
  {
   "cell_type": "code",
   "execution_count": null,
   "id": "50739c2b",
   "metadata": {},
   "outputs": [],
   "source": [
    "def dar_cambio(precio, pago):\n",
    "    cambio = pago - precio\n",
    "\n",
    "    print(\"Precio: \", precio)\n",
    "    print(\"Pago  : \", pago)\n",
    "    print(\"Cambio: \", cambio)\n",
    "\n",
    "    if pago < precio:\n",
    "        print(\"El pago es insuficiente.\")\n",
    "    else:\n",
    "        billetes = [50, 20, 10, 5]\n",
    "        for billete in billetes:\n",
    "            num_billetes = cambio // billete\n",
    "            cambio = cambio - num_billetes * billete\n",
    "            if num_billetes > 0:\n",
    "                print(num_billetes, \"billetes de\", billete, \"euros\")\n",
    "\n",
    "\n",
    "dar_cambio(100, 400)"
   ]
  },
  {
   "attachments": {},
   "cell_type": "markdown",
   "id": "aa5d97a4",
   "metadata": {},
   "source": [
    "#### **Ejercicio 11**\n",
    "\n",
    "Crear un módulo de validación de nombres de usuario. Las condciones de un nombre de usuario son las siguientes:\n",
    "\n",
    "+ Longitud mayor que 6 caracteres.\n",
    "+ Longitud menor que 13 caracteres\n",
    "+ El nombre de usuario debe ser alfanumérico.\n",
    "\n",
    "En caso de que el nombre de usuario sea válido se mostrará por pantalla \"Usuario válido\". En caso de encontrarnos con algún error. "
   ]
  },
  {
   "cell_type": "code",
   "execution_count": null,
   "id": "c6ad8f7f",
   "metadata": {},
   "outputs": [],
   "source": [
    "def validar_usuario(usuario):\n",
    "    # Verificar longitud del nombre de usuario\n",
    "    if len(usuario) < 7:\n",
    "        print(\"Error: El nombre de usuario debe tener al menos 7 caracteres.\")\n",
    "        return False\n",
    "    elif len(usuario) > 12:\n",
    "        print(\"Error: El nombre de usuario no puede tener más de 12 caracteres.\")\n",
    "        return False\n",
    "\n",
    "    # Verificar si el nombre de usuario es alfanumérico\n",
    "    if not usuario.isalnum():\n",
    "        print(\"Error: El nombre de usuario debe ser alfanumérico.\")\n",
    "        return False\n",
    "\n",
    "    # Si se cumplen todas las condiciones, el nombre de usuario es válido\n",
    "    print(\"Usuario válido.\")\n",
    "    return True\n",
    "\n",
    "\n",
    "validar_usuario(str(input(\"Introduce un nombre de usuario: \")))\n"
   ]
  },
  {
   "attachments": {},
   "cell_type": "markdown",
   "id": "bb4f9216",
   "metadata": {},
   "source": [
    "#### **Ejercicio 12**\n",
    "\n",
    "Crear un módulo de validación de contraseñas. La contraseña debe cumplir los siguientes requisitos:\n",
    "\n",
    "+ La contraseña debe tener un mínimo de 8 caracteres.\n",
    "+ La contraseña debe contener mayúsculas, minúsculas, números y al menos un caracter no alfanumérico.\n",
    "+ La contraseña no debe tener espacios en blanco.\n",
    "\n",
    "Si la contraseña es válida se mostrará un mensaje por pantalla y en caso de no serlo se mostrarán los requisitos incumplidos."
   ]
  },
  {
   "cell_type": "code",
   "execution_count": null,
   "id": "f01a96e8",
   "metadata": {},
   "outputs": [],
   "source": [
    "import string\n",
    "\n",
    "\n",
    "def validar_contrasena(contrasena):\n",
    "    if len(contrasena) < 8:\n",
    "        print(\"La contraseña debe tener al menos 8 caracteres.\")\n",
    "        return False\n",
    "    elif not any(char.isdigit() for char in contrasena):\n",
    "        print(\"La contraseña debe contener al menos un número.\")\n",
    "        return False\n",
    "    elif not any(char.isupper() for char in contrasena):\n",
    "        print(\"La contraseña debe contener al menos una letra mayúscula.\")\n",
    "        return False\n",
    "    elif not any(char.islower() for char in contrasena):\n",
    "        print(\"La contraseña debe contener al menos una letra minúscula.\")\n",
    "        return False\n",
    "    elif not any(char in string.punctuation for char in contrasena):\n",
    "        print(\"La contraseña debe contener al menos un caracter no alfanumérico.\")\n",
    "        return False\n",
    "    elif \" \" in contrasena:\n",
    "        print(\"La contraseña no puede tener espacios en blanco.\")\n",
    "        return False\n",
    "    else:\n",
    "        print(\"La contraseña es válida.\")\n",
    "        return True\n",
    "\n",
    "\n",
    "validar_contrasena(str(input(\"Introduce una contraseña: \")))\n"
   ]
  },
  {
   "attachments": {},
   "cell_type": "markdown",
   "id": "2c01ce00",
   "metadata": {},
   "source": [
    "#### **Ejercicio 13**\n",
    "\n",
    "Crear un módulo de validación de DNI con expresiones regulares (*regex*). Las condiciones del DNI deben de ser las siguientes:\n",
    "+ El DNI debe de contener exactamente 9 caracteres.\n",
    "+ Los 8 primeros caracteres del DNI deben de ser números.\n",
    "+ El caracter final del DNI debe de ser una letra.\n",
    "\n",
    "Si el DNI es válido, se mostrará un mensaje por pantalla \"DNI Válido\". De lo contrario se mostrará un mensaje de error."
   ]
  },
  {
   "cell_type": "code",
   "execution_count": null,
   "id": "b198e287",
   "metadata": {},
   "outputs": [],
   "source": [
    "def validar_dni(dni):\n",
    "    # Verificar si el DNI tiene 9 caracteres\n",
    "    if len(dni) != 9:\n",
    "        print(\"Error: El DNI debe contener exactamente 9 caracteres.\")\n",
    "\n",
    "    # Verificar si los primeros 8 caracteres son números\n",
    "    if not dni[:8].isdigit():\n",
    "        print(\"Error: Los primeros 8 caracteres del DNI deben ser números.\")\n",
    "\n",
    "    # Verificar si el último caracter es una letra\n",
    "    if not dni[-1].isalpha():\n",
    "        print(\"Error: El último caracter del DNI debe ser una letra.\")\n",
    "\n",
    "    # Si se cumplen todas las condiciones, el DNI es válido\n",
    "    print(\"DNI Válido.\")\n",
    "\n",
    "\n",
    "validar_dni(str(input(\"Introduce una contraseña: \")))\n"
   ]
  },
  {
   "attachments": {},
   "cell_type": "markdown",
   "id": "7ae4bec9",
   "metadata": {},
   "source": [
    "#### **Ejercicio 14**\n",
    "Imprime un string con los caracteres de las posiciones en índices pares"
   ]
  },
  {
   "cell_type": "code",
   "execution_count": null,
   "id": "e8299ff0",
   "metadata": {},
   "outputs": [],
   "source": [
    "string = \"Hola mundo\"\n",
    "pares = \"\"\n",
    "\n",
    "for i in range(len(string)):\n",
    "    if i % 2 == 0:\n",
    "        pares += string[i]\n",
    "\n",
    "print(pares)\n"
   ]
  },
  {
   "attachments": {},
   "cell_type": "markdown",
   "id": "b3044b85",
   "metadata": {},
   "source": [
    "#### **Ejercicio 15**\n",
    "Existiendo dos listas, devolver *True* si el primer y último elemento de las dos listas son iguales"
   ]
  },
  {
   "cell_type": "code",
   "execution_count": null,
   "id": "8a35f8a1",
   "metadata": {},
   "outputs": [],
   "source": [
    "# Función crea lista\n",
    "def crea_lista():\n",
    "    lista = []\n",
    "    for i in range(20):\n",
    "        num = random.randint(1, 10)  # Generar número aleatorio entre 1 y x\n",
    "        lista.append(num)  # Agregar número a la lista\n",
    "    return lista\n",
    "\n",
    "\n",
    "lista1 = crea_lista()\n",
    "lista2 = crea_lista()\n",
    "\n",
    "print(lista1)\n",
    "print(lista2)\n",
    "\n",
    "\n",
    "def primer_ultimo_igual(lista1, lista2):\n",
    "    if lista1[0] == lista2[0] and lista1[-1] == lista2[-1]:\n",
    "        return True\n",
    "    else:\n",
    "        return False\n",
    "\n",
    "\n",
    "resultado = primer_ultimo_igual(lista1, lista2)\n",
    "print(resultado)\n"
   ]
  },
  {
   "attachments": {},
   "cell_type": "markdown",
   "id": "4f66c995",
   "metadata": {},
   "source": [
    "#### **Ejercicio 16**\n",
    "Dado una lista devolver otra lista con los elementos que son divisibles entre 5"
   ]
  },
  {
   "cell_type": "code",
   "execution_count": null,
   "id": "567366ef",
   "metadata": {},
   "outputs": [],
   "source": [
    "def elementos_divisibles_por_5(lista):\n",
    "    divisibles = []\n",
    "    for elemento in lista:\n",
    "        if elemento % 5 == 0:\n",
    "            divisibles.append(elemento)\n",
    "    return divisibles\n",
    "\n",
    "\n",
    "def crea_lista():\n",
    "    lista = []\n",
    "    for i in range(20):\n",
    "        num = random.randint(1, 10)  # Generar número aleatorio entre 1 y x\n",
    "        lista.append(num)  # Agregar número a la lista\n",
    "    return lista\n",
    "\n",
    "\n",
    "lista1 = crea_lista()\n",
    "\n",
    "print(lista1)\n",
    "print(elementos_divisibles_por_5(lista1))\n"
   ]
  },
  {
   "attachments": {},
   "cell_type": "markdown",
   "id": "38437c20",
   "metadata": {},
   "source": [
    "#### **Ejercicio 17**\n",
    "Devolver *True* si el número recibido es un palíndromo"
   ]
  },
  {
   "cell_type": "code",
   "execution_count": null,
   "id": "f5b29fa4",
   "metadata": {},
   "outputs": [],
   "source": [
    "def es_palindromo(numero):\n",
    "    numero_str = str(numero)\n",
    "    return numero_str == numero_str[::-1]\n",
    "\n",
    "\n",
    "num = random.randint(1, 100)\n",
    "print(num, \"es_palindromo:\", es_palindromo(num))\n"
   ]
  },
  {
   "attachments": {},
   "cell_type": "markdown",
   "id": "325c8280",
   "metadata": {},
   "source": [
    "#### **Ejercicio 18**\n",
    "Calcular el impuesto de cada producto según su precio\n",
    "+ De 0 hasta 10.000€ --> 10% impuesto\n",
    "+ De 10.001 hasta 24.999€ --> 15% impuesto\n",
    "+ A partir de 25.000€ --> 20% impuesto"
   ]
  },
  {
   "cell_type": "code",
   "execution_count": null,
   "metadata": {},
   "outputs": [],
   "source": [
    "def calcular_impuesto(precio):\n",
    "    if precio <= 10000:\n",
    "        impuesto = precio * 0.1\n",
    "    elif precio <= 24999:\n",
    "        impuesto = precio * 0.15\n",
    "    else:\n",
    "        impuesto = precio * 0.2\n",
    "    return impuesto\n",
    "\n",
    "\n",
    "precio = int(input(\"Introduce el precio del producto: \"))\n",
    "\n",
    "print(precio, \"€ --> impuesto:\", calcular_impuesto(precio))\n"
   ]
  }
 ],
 "metadata": {
  "kernelspec": {
   "display_name": "Python 3 (ipykernel)",
   "language": "python",
   "name": "python3"
  },
  "language_info": {
   "codemirror_mode": {
    "name": "ipython",
    "version": 3
   },
   "file_extension": ".py",
   "mimetype": "text/x-python",
   "name": "python",
   "nbconvert_exporter": "python",
   "pygments_lexer": "ipython3",
   "version": "3.10.9"
  }
 },
 "nbformat": 4,
 "nbformat_minor": 5
}
