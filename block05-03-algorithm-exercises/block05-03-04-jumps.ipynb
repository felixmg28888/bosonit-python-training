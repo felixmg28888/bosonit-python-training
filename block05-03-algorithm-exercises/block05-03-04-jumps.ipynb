{
 "cells": [
  {
   "attachments": {},
   "cell_type": "markdown",
   "metadata": {},
   "source": [
    "# **Bloque 05 <br> Funciones <br> Ejercicios Algoritmia**\n",
    "\n",
    "### **Nombre del proyecto:** block05-03-04-jumps"
   ]
  },
  {
   "attachments": {},
   "cell_type": "markdown",
   "metadata": {},
   "source": [
    "#### **04. Juego de saltos**\n",
    "Dada una lista de enteros no negativos de longitud L, comienzas en la posición del primer índice de la lista. Cada elemento de la lista, con valor N, representa la longitud máxima de salto en esa posición. Tu objetivo es llegar al último índice en el mínimo número de saltos.\n",
    "\n",
    "Nota: Puedes asumir que siempre es posible llegar al último índice.\n",
    "\n",
    "**Input**\n",
    "- 1 <= L <= 100000\n",
    "- 1 <= N <= 1000\n",
    "\n",
    "**Output**\n",
    "- Imprimir por la salida estándar el mínimo numero de saltos necesarios para llegar al último índice."
   ]
  },
  {
   "attachments": {},
   "cell_type": "markdown",
   "metadata": {},
   "source": [
    "<table style=\"width:100%\">\n",
    "    <thead>\n",
    "        <tr>\n",
    "            <th>Sample Input 1</th>\n",
    "            <th>Sanple Output 1</th>\n",
    "        </tr>\n",
    "    </thead>\n",
    "    <tbody>\n",
    "        <tr>\n",
    "            <td align=\"center\">[2,3,1,1,4]</td>\n",
    "            <td align=\"center\">2</td>\n",
    "        </tr>\n",
    "    </tbody>\n",
    "</table>"
   ]
  },
  {
   "attachments": {},
   "cell_type": "markdown",
   "metadata": {},
   "source": [
    "<table style=\"width:100%\">\n",
    "    <thead>\n",
    "        <tr>\n",
    "            <th>Sample Input 2</th>\n",
    "            <th>Sanple Output 2</th>\n",
    "        </tr>\n",
    "    </thead>\n",
    "    <tbody>\n",
    "        <tr>\n",
    "            <td align=\"center\">[2,3,0,1,4]</td>\n",
    "            <td align=\"center\">2</td>\n",
    "        </tr>\n",
    "    </tbody>\n",
    "</table>"
   ]
  },
  {
   "cell_type": "code",
   "execution_count": null,
   "metadata": {},
   "outputs": [],
   "source": [
    "# Se pide al usuario que introduzca una lista de enteros\n",
    "enteros = input(\"Introduce lista de enteros separados por comas\")\n",
    "\n",
    "# Se crea una lista con los valores, que de momento serán str\n",
    "enteros = enteros.split(\",\")\n",
    "\n",
    "# Se convierten los elementos de la lista a int\n",
    "enteros = [int(entero) for entero in enteros]\n",
    "\n",
    "\n",
    "L = len(enteros)\n",
    "\n",
    "# Inicializar las variables necesarias\n",
    "jumps = [L+1]*L  # Inicializar una lista de saltos con valores infinitos\n",
    "\n",
    "# Iterar por todos los índices de la lista\n",
    "for i in range(1, L):\n",
    "    # Iterar por todos los índices anteriores al índice actual\n",
    "    for j in range(i):\n",
    "        # Verificar si el índice actual es alcanzable desde el índice anterior\n",
    "        if enteros[j] + j >= i:\n",
    "            # Actualizar el número mínimo de saltos para llegar al índice actual\n",
    "            jumps[i] = min(jumps[i], jumps[j]+1)\n",
    "            break  # Una vez que se ha encontrado el salto mínimo, salir del ciclo\n",
    "\n",
    "# Imprimir el número mínimo de saltos para llegar al último índice de la lista\n",
    "print(jumps[-1])\n"
   ]
  }
 ],
 "metadata": {
  "kernelspec": {
   "display_name": "base",
   "language": "python",
   "name": "python3"
  },
  "language_info": {
   "codemirror_mode": {
    "name": "ipython",
    "version": 3
   },
   "file_extension": ".py",
   "mimetype": "text/x-python",
   "name": "python",
   "nbconvert_exporter": "python",
   "pygments_lexer": "ipython3",
   "version": "3.9.16"
  },
  "orig_nbformat": 4
 },
 "nbformat": 4,
 "nbformat_minor": 2
}
