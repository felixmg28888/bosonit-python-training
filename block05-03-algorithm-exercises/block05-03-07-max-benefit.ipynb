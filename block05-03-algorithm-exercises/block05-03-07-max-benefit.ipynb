{
 "cells": [
  {
   "attachments": {},
   "cell_type": "markdown",
   "metadata": {},
   "source": [
    "# **Bloque 05 <br> Funciones <br> Ejercicios Algoritmia**\n",
    "\n",
    "### **Nombre del proyecto:** block05-03-07-max-benefit"
   ]
  },
  {
   "attachments": {},
   "cell_type": "markdown",
   "metadata": {},
   "source": [
    "#### **07. Máximo beneficio**\n",
    "Se proporciona una lista de precios de stock en días consecutivos, de manera que el elemento\n",
    "en posición i es el precio del stock en el día i.<br>\n",
    "Calcular el máximo beneficio resultado de comprar un stock en un único día del listado y venderlo en un día posterior.\n",
    "\n",
    "**Input**\n",
    "-  Una lista de números enteros 0 ≤ N ≤ 1000 que define el precio del stock en cada día.\n",
    "\n",
    "**Output**\n",
    "-  Imprimir por la salida estándar el máximo beneficio que puede obtenerse con la transacción. Si no es posible obtener beneficio, imprimir 0."
   ]
  },
  {
   "attachments": {},
   "cell_type": "markdown",
   "metadata": {},
   "source": [
    "<table style=\"width:100%\">\n",
    "    <thead>\n",
    "        <tr>\n",
    "            <th>Sample Input 1</th>\n",
    "            <th>Sanple Output 1</th>\n",
    "        </tr>\n",
    "    </thead>\n",
    "    <tbody>\n",
    "        <tr>\n",
    "            <td align=\"center\">7,1,5,3,6,4</td>\n",
    "            <td align=\"center\">5</td>\n",
    "        </tr>\n",
    "    </tbody>\n",
    "</table>"
   ]
  },
  {
   "attachments": {},
   "cell_type": "markdown",
   "metadata": {},
   "source": [
    "<table style=\"width:100%\">\n",
    "    <thead>\n",
    "        <tr>\n",
    "            <th>Sample Input 2</th>\n",
    "            <th>Sanple Output 2</th>\n",
    "        </tr>\n",
    "    </thead>\n",
    "    <tbody>\n",
    "        <tr>\n",
    "            <td align=\"center\">7,6,4,3,1</td>\n",
    "            <td align=\"center\">0</td>\n",
    "        </tr>\n",
    "    </tbody>\n",
    "</table>"
   ]
  },
  {
   "cell_type": "code",
   "execution_count": null,
   "metadata": {},
   "outputs": [],
   "source": [
    "def max_ganancia(precios_stock):\n",
    "    if len(precios_stock) < 2:\n",
    "        return 0\n",
    "\n",
    "    max_ganancia = 0\n",
    "    min_precio = precios_stock[0]\n",
    "\n",
    "    for i in range(1, len(precios_stock)):\n",
    "        if precios_stock[i] < min_precio:\n",
    "            min_precio = precios_stock[i]\n",
    "        else:\n",
    "            ganancia = precios_stock[i] - min_precio\n",
    "            if ganancia > max_ganancia:\n",
    "                max_ganancia = ganancia\n",
    "\n",
    "    return max_ganancia\n",
    "\n",
    "\n",
    "# Ejemplo de uso\n",
    "precios_stock = [7, 1, 5, 3, 6, 4]\n",
    "resultado = max_ganancia(precios_stock)\n",
    "print(resultado)\n",
    "\n",
    "\n",
    "# Obtener las precios_stock por input\n",
    "precios_stock = input(\"Ingresa los precios_stock separados por comas: \")\n",
    "precios_stock = [int(x) for x in precios_stock.split(\",\") if x.strip() != \"\"]\n",
    "resultado = max_ganancia(precios_stock)\n",
    "print(resultado)\n"
   ]
  }
 ],
 "metadata": {
  "kernelspec": {
   "display_name": "base",
   "language": "python",
   "name": "python3"
  },
  "language_info": {
   "codemirror_mode": {
    "name": "ipython",
    "version": 3
   },
   "file_extension": ".py",
   "mimetype": "text/x-python",
   "name": "python",
   "nbconvert_exporter": "python",
   "pygments_lexer": "ipython3",
   "version": "3.9.16"
  },
  "orig_nbformat": 4
 },
 "nbformat": 4,
 "nbformat_minor": 2
}
