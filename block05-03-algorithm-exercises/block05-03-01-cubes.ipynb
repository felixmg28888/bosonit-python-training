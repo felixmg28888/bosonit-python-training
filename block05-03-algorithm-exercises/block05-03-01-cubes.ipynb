{
 "cells": [
  {
   "attachments": {},
   "cell_type": "markdown",
   "metadata": {},
   "source": [
    "# **Bloque 05 <br> Funciones <br> Ejercicios de Algoritmia**\n",
    "\n",
    "### **Nombre del proyecto:** block05-03-01-cubes"
   ]
  },
  {
   "attachments": {},
   "cell_type": "markdown",
   "metadata": {},
   "source": [
    "#### **01. Llenando cubos**\n",
    "Dado un conjunto de cubos llenos de distintas cantidades de agua, se pide calcular la cantidad mínima de agua necesaria para nivelar los cubos de forma que todos ellos acaben teniendo la misma cantidad.<br>\n",
    "\n",
    "Consideraciones:\n",
    "- El nivel de agua de un cubo no puede decrecer, sólo aumentar.\n",
    "- Los cubos se nivelarán respecto al cubo más lleno.\n",
    "\n",
    "**Input**\n",
    "- Un conjunto de números enteros especificando la cantidad de agua de la que dispone cada cubo.\n",
    "\n",
    "**Output**\n",
    "- Imprimir por la salida estándar la cantidad mínima de agua necesaria para nivelar los cubos."
   ]
  },
  {
   "attachments": {},
   "cell_type": "markdown",
   "metadata": {},
   "source": [
    "<table style=\"width:100%\">\n",
    "    <thead>\n",
    "        <tr>\n",
    "            <th>Sample Input 1</th>\n",
    "            <th>Sanple Output 1</th>\n",
    "        </tr>\n",
    "    </thead>\n",
    "    <tbody>\n",
    "        <tr>\n",
    "            <td align=\"center\">10 8 7</td>\n",
    "            <td align=\"center\">5</td>\n",
    "        </tr>\n",
    "    </tbody>\n",
    "</table>"
   ]
  },
  {
   "attachments": {},
   "cell_type": "markdown",
   "metadata": {},
   "source": [
    "<table style=\"width:100%\">\n",
    "    <thead>\n",
    "        <tr>\n",
    "            <th>Sample Input 2</th>\n",
    "            <th>Sanple Output 2</th>\n",
    "        </tr>\n",
    "    </thead>\n",
    "    <tbody>\n",
    "        <tr>\n",
    "            <td rowspan=4 align=\"center\">8 8 8</td>\n",
    "            <td rowspan=4 align=\"center\">0</td>\n",
    "        </tr>\n",
    "    </tbody>\n",
    "</table>"
   ]
  },
  {
   "cell_type": "code",
   "execution_count": null,
   "metadata": {},
   "outputs": [],
   "source": [
    "# Se pide al usuario que introduzca la cantidad de agua de cada cubo.\n",
    "cubos = input(\"Introduce la cantidad de agua de cada cubo: \")\n",
    "\n",
    "# Se crea una lista con los valores, que de momento serán str\n",
    "cubos=cubos.split()\n",
    "\n",
    "# Se convierten los elementos de la lista a int\n",
    "cubos = [int(cubo) for cubo in cubos]\n",
    "\n",
    "# Encontrar el cubo más lleno\n",
    "maximo = max(cubos) \n",
    "\n",
    "# Inicializar la cantidad total de agua necesaria\n",
    "total = 0  \n",
    "\n",
    "# Recorrer con un for cada cubo\n",
    "for cubo in cubos:\n",
    "    if cubo != maximo:  # Solo  se necesita nivelar los cubos más vacíos\n",
    "        total += maximo - cubo  # calcular la cantidad de agua necesaria para nivelar este cubo\n",
    "\n",
    "\n",
    "print(total)  # imprimir la cantidad total de agua necesaria"
   ]
  }
 ],
 "metadata": {
  "kernelspec": {
   "display_name": "base",
   "language": "python",
   "name": "python3"
  },
  "language_info": {
   "codemirror_mode": {
    "name": "ipython",
    "version": 3
   },
   "file_extension": ".py",
   "mimetype": "text/x-python",
   "name": "python",
   "nbconvert_exporter": "python",
   "pygments_lexer": "ipython3",
   "version": "3.9.16"
  },
  "orig_nbformat": 4
 },
 "nbformat": 4,
 "nbformat_minor": 2
}
