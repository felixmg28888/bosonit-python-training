{
 "cells": [
  {
   "attachments": {},
   "cell_type": "markdown",
   "metadata": {},
   "source": [
    "# **Bloque 05 <br> Funciones <br> Ejercicios Algoritmia**\n",
    "\n",
    "### **Nombre del proyecto:** block05-03-08-cables"
   ]
  },
  {
   "attachments": {},
   "cell_type": "markdown",
   "metadata": {},
   "source": [
    "#### **08. Cables**\n",
    "El problema consiste en comprobar si es posible encontrar una ordenación de cables en la cual todos ellos están conectados formando un círculo.<br>\n",
    "Cada cable tiene dos extremos y cada extremo puede ser un conectar macho (M) o hembra (H).<br>\n",
    "La conexión de un cable con otro sólo es posible juntando conectores diferentes.\n",
    "\n",
    "**Input**\n",
    "- Un conjunto desordenado de cables representados mediante parejas de letras haciendo referencia al conector de sus extremos.\n",
    "\n",
    "**Output**\n",
    "- Imprimir por la salida estándar \"true\" si es posible conectar todos los cables, \"false\" en caso contrario."
   ]
  },
  {
   "attachments": {},
   "cell_type": "markdown",
   "metadata": {},
   "source": [
    "<table style=\"width:100%\">\n",
    "    <thead>\n",
    "        <tr>\n",
    "            <th>Sample Input 1</th>\n",
    "            <th>Sanple Output 1</th>\n",
    "        </tr>\n",
    "    </thead>\n",
    "    <tbody>\n",
    "        <tr>\n",
    "            <td align=\"center\">HM</td>\n",
    "            <td align=\"center\">true</td>\n",
    "        </tr>\n",
    "    </tbody>\n",
    "</table>"
   ]
  },
  {
   "attachments": {},
   "cell_type": "markdown",
   "metadata": {},
   "source": [
    "<table style=\"width:100%\">\n",
    "    <thead>\n",
    "        <tr>\n",
    "            <th>Sample Input 2</th>\n",
    "            <th>Sanple Output 2</th>\n",
    "        </tr>\n",
    "    </thead>\n",
    "    <tbody>\n",
    "        <tr>\n",
    "            <td align=\"center\">HH</td>\n",
    "            <td align=\"center\">false</td>\n",
    "        </tr>\n",
    "    </tbody>\n",
    "</table>"
   ]
  },
  {
   "attachments": {},
   "cell_type": "markdown",
   "metadata": {},
   "source": [
    "<table style=\"width:100%\">\n",
    "    <thead>\n",
    "        <tr>\n",
    "            <th>Sample Input 3</th>\n",
    "            <th>Sanple Output 3</th>\n",
    "        </tr>\n",
    "    </thead>\n",
    "    <tbody>\n",
    "        <tr>\n",
    "            <td align=\"center\">HM HH MM</td>\n",
    "            <td align=\"center\">true</td>\n",
    "        </tr>\n",
    "    </tbody>\n",
    "</table>"
   ]
  },
  {
   "cell_type": "code",
   "execution_count": null,
   "metadata": {},
   "outputs": [],
   "source": [
    "def ordena_cables(cables):\n",
    "    M, H = 0, 0\n",
    "    for char in cables:\n",
    "        if char == \"M\":\n",
    "            M = M + 1\n",
    "        elif char == \"H\":\n",
    "            H = H + 1\n",
    "\n",
    "    if M == H:\n",
    "        return True\n",
    "    else:\n",
    "        return False\n",
    "\n",
    "\n",
    "cables = str(input(\"Indique cables:\"))\n",
    "\n",
    "print(ordena_cables(cables))\n"
   ]
  }
 ],
 "metadata": {
  "kernelspec": {
   "display_name": "base",
   "language": "python",
   "name": "python3"
  },
  "language_info": {
   "codemirror_mode": {
    "name": "ipython",
    "version": 3
   },
   "file_extension": ".py",
   "mimetype": "text/x-python",
   "name": "python",
   "nbconvert_exporter": "python",
   "pygments_lexer": "ipython3",
   "version": "3.9.16"
  },
  "orig_nbformat": 4
 },
 "nbformat": 4,
 "nbformat_minor": 2
}
