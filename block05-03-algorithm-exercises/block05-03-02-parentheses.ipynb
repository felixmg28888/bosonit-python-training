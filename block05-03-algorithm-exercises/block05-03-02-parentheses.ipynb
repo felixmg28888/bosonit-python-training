{
 "cells": [
  {
   "attachments": {},
   "cell_type": "markdown",
   "metadata": {},
   "source": [
    "# **Bloque 05 <br> Funciones <br> Ejercicios de Algoritmia**\n",
    "\n",
    "### **Nombre del proyecto:** block05-03-02-parentheses"
   ]
  },
  {
   "attachments": {},
   "cell_type": "markdown",
   "metadata": {},
   "source": [
    "#### **02. Validación de paréntesis**\n",
    "Dada una cadena que contiene únicamente los caracteres ’(’, ’)’, ’{’, ’}’, ’[’ y ’]’, determinar si la cadena de entrada es válida.\n",
    "\n",
    "**Input**\n",
    "- Los paréntesis abiertos deben cerrarse con el mismo tipo de paréntesis.\n",
    "- Los paréntesis abiertos deben cerrarse en el orden correcto.\n",
    "\n",
    "**Output**\n",
    "- Imprimir por la salida estándar \"true\" si la cadena es válida, \"false\" en caso contrario."
   ]
  },
  {
   "attachments": {},
   "cell_type": "markdown",
   "metadata": {},
   "source": [
    "<table> <table style=\"width:100%\">    <thead>\n",
    "        <tr>\n",
    "            <th>Sample Input 1</th>\n",
    "            <th>Sanple Output 1</th>\n",
    "        </tr>\n",
    "    </thead>\n",
    "    <tbody>\n",
    "        <tr>\n",
    "            <td align=\"center\">( )</td>\n",
    "            <td align=\"center\">true</td>\n",
    "        </tr>\n",
    "    </tbody>\n",
    "</table>"
   ]
  },
  {
   "attachments": {},
   "cell_type": "markdown",
   "metadata": {},
   "source": [
    "<table style=\"width:100%\">\n",
    "    <thead>\n",
    "        <tr>\n",
    "            <th>Sample Input 2</th>\n",
    "            <th>Sanple Output 2</th>\n",
    "        </tr>\n",
    "    </thead>\n",
    "    <tbody>\n",
    "        <tr>\n",
    "            <td align=\"center\">( ) [ ] { }</td>\n",
    "            <td align=\"center\">true</td>\n",
    "        </tr>\n",
    "    </tbody>\n",
    "</table>"
   ]
  },
  {
   "attachments": {},
   "cell_type": "markdown",
   "metadata": {},
   "source": [
    "<table style=\"width:100%\">\n",
    "    <thead>\n",
    "        <tr>\n",
    "            <th>Sample Input 3</th>\n",
    "            <th>Sanple Output 3</th>\n",
    "        </tr>\n",
    "    </thead>\n",
    "    <tbody>\n",
    "        <tr>\n",
    "            <td align=\"center\">( }</td>\n",
    "            <td align=\"center\">false</td>\n",
    "        </tr>\n",
    "    </tbody>\n",
    "</table>"
   ]
  },
  {
   "cell_type": "code",
   "execution_count": null,
   "metadata": {},
   "outputs": [],
   "source": [
    "# Se pide al usuario que introduzca los paréntesis, corchetes y llaves\n",
    "cadena = input(\"Introduce ()-[]-{}: \")\n",
    "\n",
    "# Se eliminan los espacios en blanco\n",
    "cadena = cadena.replace(\" \", \"\")\n",
    "\n",
    "# Se convierte la cadena en una lista de tuplas de dos elementos\n",
    "stack = []\n",
    "for i in range(0, len(cadena), 2):\n",
    "    char = (cadena[i], cadena[i + 1])\n",
    "    stack.append(char)\n",
    "\n",
    "# Se define la lista de tuplas a comparar\n",
    "stack_comprobacion = [('(', ')'), ('[', ']'), ('{', '}')]\n",
    "\n",
    "# Se define una variable booleana para la comprobación\n",
    "condicion = True\n",
    "\n",
    "# Se itera sobre las tuplas en la lista\n",
    "for tupla in stack:\n",
    "    # Si la tupla no está en la lista de tuplas válidas, se actualiza la variable a False\n",
    "    if tupla not in stack_comprobacion:\n",
    "        condicion = False\n",
    "\n",
    "# Se imprime el resultado\n",
    "if condicion:\n",
    "    print(True)\n",
    "else:\n",
    "    print(False)"
   ]
  }
 ],
 "metadata": {
  "kernelspec": {
   "display_name": "base",
   "language": "python",
   "name": "python3"
  },
  "language_info": {
   "codemirror_mode": {
    "name": "ipython",
    "version": 3
   },
   "file_extension": ".py",
   "mimetype": "text/x-python",
   "name": "python",
   "nbconvert_exporter": "python",
   "pygments_lexer": "ipython3",
   "version": "3.9.16"
  },
  "orig_nbformat": 4
 },
 "nbformat": 4,
 "nbformat_minor": 2
}
