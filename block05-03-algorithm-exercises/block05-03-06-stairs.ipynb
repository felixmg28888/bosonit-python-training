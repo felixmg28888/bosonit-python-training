{
 "cells": [
  {
   "attachments": {},
   "cell_type": "markdown",
   "metadata": {},
   "source": [
    "# **Bloque 05 <br> Funciones <br> Ejercicios Algoritmia**\n",
    "\n",
    "### **Nombre del proyecto:** block05-03-06-stairs"
   ]
  },
  {
   "attachments": {},
   "cell_type": "markdown",
   "metadata": {},
   "source": [
    "#### **06. Subiendo escaleras**\n",
    "Estás subiendo una escalera de N escalones.<br>\n",
    "Con cada paso puedes subir 1 o 2 escalones. ¿De cuántas maneras diferentes puedes subir la escalera?\n",
    "\n",
    "**Input**\n",
    "- Un número entero 1 ≤ N ≤ 45 indicando el número de escalones de la escalera.\n",
    "\n",
    "**Output**\n",
    "- Imprimir por la salida estándar el número de formas diferentes que existen para subir la escalera."
   ]
  },
  {
   "attachments": {},
   "cell_type": "markdown",
   "metadata": {},
   "source": [
    "<table style=\"width:100%\">\n",
    "    <thead>\n",
    "        <tr>\n",
    "            <th>Sample Input 1</th>\n",
    "            <th>Sanple Output 1</th>\n",
    "        </tr>\n",
    "    </thead>\n",
    "    <tbody>\n",
    "        <tr>\n",
    "            <td align=\"center\">2</td>\n",
    "            <td align=\"center\">2</td>\n",
    "        </tr>\n",
    "    </tbody>\n",
    "</table>"
   ]
  },
  {
   "attachments": {},
   "cell_type": "markdown",
   "metadata": {},
   "source": [
    "<table style=\"width:100%\">\n",
    "    <thead>\n",
    "        <tr>\n",
    "            <th>Sample Input 2</th>\n",
    "            <th>Sanple Output 2</th>\n",
    "        </tr>\n",
    "    </thead>\n",
    "    <tbody>\n",
    "        <tr>\n",
    "            <td align=\"center\">3</td>\n",
    "            <td align=\"center\">3</td>\n",
    "        </tr>\n",
    "    </tbody>\n",
    "</table>"
   ]
  },
  {
   "cell_type": "code",
   "execution_count": null,
   "metadata": {},
   "outputs": [],
   "source": [
    "# Se pide al usuario que introduzca el número de escalones\n",
    "n = int(input(\"Introduce el número de escalones\"))\n",
    "\n",
    "# El ejercicio se puede resolver con la secuencia de Fibonacci porque \n",
    "# la cantidad de formas de subir una escalera de n escalones es igual a \n",
    "# la n-ésima entrada de la secuencia de Fibonacci. \n",
    "\n",
    "# Inicializar las variables auxiliares\n",
    "a, b = 1, 1\n",
    "\n",
    "# Iterar para obtener el número de maneras de subir la escalera\n",
    "for i in range(n):\n",
    "    a, b = b, a + b\n",
    "\n",
    "# Imprimir el número de maneras\n",
    "print(a)\n"
   ]
  }
 ],
 "metadata": {
  "kernelspec": {
   "display_name": "base",
   "language": "python",
   "name": "python3"
  },
  "language_info": {
   "codemirror_mode": {
    "name": "ipython",
    "version": 3
   },
   "file_extension": ".py",
   "mimetype": "text/x-python",
   "name": "python",
   "nbconvert_exporter": "python",
   "pygments_lexer": "ipython3",
   "version": "3.9.16"
  },
  "orig_nbformat": 4
 },
 "nbformat": 4,
 "nbformat_minor": 2
}
