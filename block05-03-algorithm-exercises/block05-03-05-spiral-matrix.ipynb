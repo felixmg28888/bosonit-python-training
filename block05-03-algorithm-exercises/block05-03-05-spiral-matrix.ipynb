{
 "cells": [
  {
   "attachments": {},
   "cell_type": "markdown",
   "metadata": {},
   "source": [
    "# **Bloque 05 <br> Funciones <br> Ejercicios Algoritmia**\n",
    "\n",
    "### **Nombre del proyecto:** block05-03-05-spiral-matrix"
   ]
  },
  {
   "attachments": {},
   "cell_type": "markdown",
   "metadata": {},
   "source": [
    "#### **05. Matriz Espiral**\n",
    "Dada una matriz m x n, devuelve todos los elementos de la matriz ordenados en forma de espiral.\n",
    "\n",
    "**Input**\n",
    "- m == matriz.length\n",
    "- n == matriz[i].length\n",
    "- 1 <= m, n <= 10\n",
    "- -100 <= matriz[i][j] <= 100\n",
    "\n",
    "**Output**\n",
    "-  Imprimir por la salida estándar el array resultante."
   ]
  },
  {
   "attachments": {},
   "cell_type": "markdown",
   "metadata": {},
   "source": [
    "<table style=\"width:100%\">\n",
    "    <thead>\n",
    "        <tr>\n",
    "            <th>Sample Input 1</th>\n",
    "            <th>Sanple Output 1</th>\n",
    "        </tr>\n",
    "    </thead>\n",
    "    <tbody>\n",
    "        <tr>\n",
    "            <td align=\"center\">[[1,2,3],[4,5,6],[7,8,9]]</td>\n",
    "            <td align=\"center\">[1,2,3,6,9,8,7,4,5]</td>\n",
    "        </tr>\n",
    "    </tbody>\n",
    "</table>"
   ]
  },
  {
   "attachments": {},
   "cell_type": "markdown",
   "metadata": {},
   "source": [
    "<table style=\"width:100%\">\n",
    "    <thead>\n",
    "        <tr>\n",
    "            <th>Sample Input 2</th>\n",
    "            <th>Sanple Output 2</th>\n",
    "        </tr>\n",
    "    </thead>\n",
    "    <tbody>\n",
    "        <tr>\n",
    "            <td align=\"center\">[[1,2,3,4],[5,6,7,8],[9,10,11,12]]</td>\n",
    "            <td align=\"center\">[1,2,3,4,8,12,11,10,9,5,6,7]</td>\n",
    "        </tr>\n",
    "    </tbody>\n",
    "</table>"
   ]
  },
  {
   "cell_type": "code",
   "execution_count": null,
   "metadata": {},
   "outputs": [],
   "source": [
    "def matriz_espiral(matriz):\n",
    "    if not matriz:\n",
    "        return []\n",
    "\n",
    "\n",
    "    filas = len(matriz)\n",
    "    columnas = len(matriz[0])\n",
    "    \n",
    "    resultado = []\n",
    "\n",
    "    # Definir límites\n",
    "    limite_superior = 0\n",
    "    limite_inferior = filas - 1\n",
    "    limite_izquierdo = 0\n",
    "    limite_derecho = columnas - 1\n",
    "\n",
    "    while limite_superior <= limite_inferior and limite_izquierdo <= limite_derecho:\n",
    "        # Recorrido hacia la derecha\n",
    "        for j in range(limite_izquierdo, limite_derecho + 1):\n",
    "            resultado.append(matriz[limite_superior][j])\n",
    "        limite_superior += 1\n",
    "\n",
    "        # Recorrido hacia abajo\n",
    "        for i in range(limite_superior, limite_inferior + 1):\n",
    "            resultado.append(matriz[i][limite_derecho])\n",
    "        limite_derecho -= 1\n",
    "\n",
    "        # Verificar si se han alcanzado los límites\n",
    "        if limite_superior <= limite_inferior:\n",
    "            # Recorrido hacia la izquierda\n",
    "            for j in range(limite_derecho, limite_izquierdo - 1, -1):\n",
    "                resultado.append(matriz[limite_inferior][j])\n",
    "            limite_inferior -= 1\n",
    "\n",
    "        if limite_izquierdo <= limite_derecho:\n",
    "            # Recorrido hacia arriba\n",
    "            for i in range(limite_inferior, limite_superior - 1, -1):\n",
    "                resultado.append(matriz[i][limite_izquierdo])\n",
    "            limite_izquierdo += 1\n",
    "\n",
    "    return resultado\n",
    "\n",
    "\n",
    "matriz1 = [[1, 2, 3], [4, 5, 6], [7, 8, 9]]\n",
    "resultado = matriz_espiral(matriz1)\n",
    "print(\"Matriz1:\" , resultado)  \n",
    "\n",
    "\n",
    "\n",
    "matriz2 = [[1,2,3,4],[5,6,7,8],[9,10,11,12]]\n",
    "resultado = matriz_espiral(matriz2)\n",
    "print(\"Matriz2:\" , resultado)  \n"
   ]
  }
 ],
 "metadata": {
  "kernelspec": {
   "display_name": "base",
   "language": "python",
   "name": "python3"
  },
  "language_info": {
   "codemirror_mode": {
    "name": "ipython",
    "version": 3
   },
   "file_extension": ".py",
   "mimetype": "text/x-python",
   "name": "python",
   "nbconvert_exporter": "python",
   "pygments_lexer": "ipython3",
   "version": "3.9.16"
  },
  "orig_nbformat": 4
 },
 "nbformat": 4,
 "nbformat_minor": 2
}
