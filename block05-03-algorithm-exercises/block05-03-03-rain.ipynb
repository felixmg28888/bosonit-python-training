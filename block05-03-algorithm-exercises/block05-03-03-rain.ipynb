{
 "cells": [
  {
   "attachments": {},
   "cell_type": "markdown",
   "metadata": {},
   "source": [
    "# **Bloque 05 <br> Funciones <br> Ejercicios Algoritmia**\n",
    "\n",
    "### **Nombre del proyecto:** block05-03-03-rain"
   ]
  },
  {
   "attachments": {},
   "cell_type": "markdown",
   "metadata": {},
   "source": [
    "#### **03. Atrapando lluvia**\n",
    "Dados N números enteros no negativos representando un mapa de elevación, calcular cuál es el volumen de\n",
    "agua que queda atrapada después de llover.\n",
    "\n",
    "**Input**\n",
    "- Una lista de números enteros en el rango 0 ≤ N ≤ 1000000 que definen la elevación del terreno en cada unidad del eje horizontal.\n",
    "\n",
    "**Output**\n",
    "- Imprimir por la salida estándar las unidades de agua que quedan atrapadas según el mapa de elevación."
   ]
  },
  {
   "attachments": {},
   "cell_type": "markdown",
   "metadata": {
    "vscode": {
     "languageId": "plaintext"
    }
   },
   "source": [
    "<table style=\"width:100%\">\n",
    "    <thead>\n",
    "        <tr>\n",
    "            <th>Sample Input 1</th>\n",
    "            <th>Sanple Output 1</th>\n",
    "        </tr>\n",
    "    </thead>\n",
    "    <tbody>\n",
    "        <tr>\n",
    "            <td align=\"center\">4,2,0,3,2,5</td>\n",
    "            <td align=\"center\">9</td>\n",
    "        </tr>\n",
    "    </tbody>\n",
    "</table>"
   ]
  },
  {
   "attachments": {},
   "cell_type": "markdown",
   "metadata": {},
   "source": [
    "<table style=\"width:100%\">\n",
    "    <thead>\n",
    "        <tr>\n",
    "            <th>Sample Input 2</th>\n",
    "            <th>Sanple Output 2</th>\n",
    "        </tr>\n",
    "    </thead>\n",
    "    <tbody>\n",
    "        <tr>\n",
    "            <td align=\"center\">0,1,0,2,1,0,1,3,2,1,2,1</td>\n",
    "            <td align=\"center\">6</td>\n",
    "        </tr>\n",
    "    </tbody>\n",
    "</table>"
   ]
  },
  {
   "cell_type": "code",
   "execution_count": null,
   "metadata": {},
   "outputs": [],
   "source": [
    "def atrapar_agua_lluvia(alturas):\n",
    "    # Lista para almacenar las alturas máximas de izquierda a derecha\n",
    "    max_izquierda_derecha = []\n",
    "    # Variable para almacenar la altura máxima de derecha a izquierda\n",
    "    max_derecha_izquierda = 0\n",
    "    # Variable para almacenar el resultado final\n",
    "    resultado = 0\n",
    "\n",
    "    # Calcular las alturas máximas de izquierda a derecha\n",
    "    for i in range(len(alturas)):\n",
    "        # Si no es el primer elemento, se compara y toma el máximo con el elemento anterior\n",
    "        max_izquierda_derecha.append(\n",
    "            max(max_izquierda_derecha[i-1], alturas[i]) if i > 0 else alturas[i])\n",
    "\n",
    "    # Calcular las alturas máximas de derecha a izquierda\n",
    "    for i in range(len(alturas)-1, -1, -1):\n",
    "        # Se actualiza la altura máxima de derecha a izquierda\n",
    "        max_derecha_izquierda = max(max_derecha_izquierda, alturas[i])\n",
    "        # Se calcula la elevación mínima entre las alturas máximas de derecha a izquierda y de izquierda a derecha\n",
    "        elevacion_minima = min(max_derecha_izquierda, max_izquierda_derecha[i])\n",
    "        # Se agrega la diferencia entre la elevación mínima y la altura actual al resultado\n",
    "        resultado += elevacion_minima - alturas[i]\n",
    "\n",
    "    # Se devuelve el resultado final\n",
    "    return resultado\n",
    "\n",
    "\n",
    "# Obtener las alturas por input\n",
    "alturas = input(\"Ingresa las alturas separadas por comas: \")\n",
    "alturas = [int(x) for x in alturas.split(\",\") if x.strip() != \"\"]\n",
    "\n",
    "# Calcular el volumen de agua atrapada\n",
    "resultado = atrapar_agua_lluvia(alturas)\n",
    "\n",
    "print(resultado)\n"
   ]
  }
 ],
 "metadata": {
  "kernelspec": {
   "display_name": "base",
   "language": "python",
   "name": "python3"
  },
  "language_info": {
   "codemirror_mode": {
    "name": "ipython",
    "version": 3
   },
   "file_extension": ".py",
   "mimetype": "text/x-python",
   "name": "python",
   "nbconvert_exporter": "python",
   "pygments_lexer": "ipython3",
   "version": "3.9.16"
  },
  "orig_nbformat": 4
 },
 "nbformat": 4,
 "nbformat_minor": 2
}
