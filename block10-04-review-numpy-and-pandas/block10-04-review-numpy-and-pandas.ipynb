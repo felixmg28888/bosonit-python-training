{
 "cells": [
  {
   "attachments": {},
   "cell_type": "markdown",
   "id": "8b2d3ec1",
   "metadata": {},
   "source": [
    "# **Bloque 10 <br> Pandas**\n",
    "\n",
    "### **Nombre del proyecto:** block10-04-review-numpy-and-pandas\n",
    "\n",
    "#"
   ]
  },
  {
   "attachments": {},
   "cell_type": "markdown",
   "id": "5a2d9873",
   "metadata": {},
   "source": [
    "1. Crea un array de 5x2 con los valores desde 100 hasta 200 de 10 en 10."
   ]
  },
  {
   "cell_type": "code",
   "execution_count": null,
   "id": "886f248e",
   "metadata": {},
   "outputs": [],
   "source": [
    "import numpy as np\n",
    "\n",
    "array = np.arange(100, 200, 10).reshape(5, 2)\n",
    "print(array)\n"
   ]
  },
  {
   "attachments": {},
   "cell_type": "markdown",
   "id": "19a870c6",
   "metadata": {},
   "source": [
    "2. Redimensiona el array a 3x3 (se debe de eliminar el último elemento)."
   ]
  },
  {
   "cell_type": "code",
   "execution_count": null,
   "id": "47f090ec",
   "metadata": {},
   "outputs": [],
   "source": [
    "array= np.resize(array, (3, 3))\n",
    "print(array)\n"
   ]
  },
  {
   "attachments": {},
   "cell_type": "markdown",
   "id": "dd26bf40",
   "metadata": {},
   "source": [
    "3. Crea un array con los elementos de la tercera posición de cada fila."
   ]
  },
  {
   "cell_type": "code",
   "execution_count": null,
   "id": "65bf4cc7",
   "metadata": {},
   "outputs": [],
   "source": [
    "array_tercera_posicion_cada_fila = array[:, 2]\n",
    "print(array_tercera_posicion_cada_fila)\n"
   ]
  },
  {
   "attachments": {},
   "cell_type": "markdown",
   "id": "dfd9735c",
   "metadata": {},
   "source": [
    "4. Muestra los elementos de las filas de posición par y columna de posición impar."
   ]
  },
  {
   "cell_type": "code",
   "execution_count": null,
   "id": "a787db75",
   "metadata": {},
   "outputs": [],
   "source": [
    "elementos = array[::2, 1::2]\n",
    "print(elementos)\n"
   ]
  },
  {
   "attachments": {},
   "cell_type": "markdown",
   "id": "49ace05f",
   "metadata": {},
   "source": [
    "5. Crea dos arrays de 2x3. Posteriormente suma los dos arrays y a su resultado eleva al cuadrado cada elemento."
   ]
  },
  {
   "cell_type": "code",
   "execution_count": null,
   "id": "6aac77bf",
   "metadata": {},
   "outputs": [],
   "source": [
    "array1 = np.array([[1, 1, 1], [1, 1, 1]])\n",
    "array2 = np.array([[2, 2, 2], [2, 2, 2]])\n",
    "\n",
    "print((array1 + array2) ** 2)\n"
   ]
  },
  {
   "attachments": {},
   "cell_type": "markdown",
   "id": "8798bd1e",
   "metadata": {},
   "source": [
    "6. Crea un array de 8x3. Posteriormente dividelo en 4 subarrays."
   ]
  },
  {
   "cell_type": "code",
   "execution_count": null,
   "id": "c76bb59e",
   "metadata": {},
   "outputs": [],
   "source": [
    "array_8x3 = np.arange(1,25,1).reshape(8, 3)\n",
    "print(array_8x3)\n",
    "\n",
    "subarrays= np.split(array_8x3,4)\n",
    "\n",
    "print(subarrays)\n"
   ]
  },
  {
   "attachments": {},
   "cell_type": "markdown",
   "id": "6d159453",
   "metadata": {},
   "source": [
    "7. Dado un array de 3x3. Crea un nuevo array con este ordenado por la 2ª fila y otro array con este array ordenado por la 2ª columna."
   ]
  },
  {
   "cell_type": "code",
   "execution_count": null,
   "id": "4e6fde57",
   "metadata": {},
   "outputs": [],
   "source": [
    "array_3x3 = np.arange(1, 10).reshape(3, 3)\n",
    "print(\"Array original:\")\n",
    "print(array_3x3)\n",
    "\n",
    "\n",
    "array_ord_2fila = np.array([array_3x3[1], array_3x3[0], array_3x3[2]])\n",
    "print(\"Array ordenado por la segunda fila:\")\n",
    "print(array_ord_2fila)\n",
    "\n",
    "# array_ord_2columna = np.column_stack((array_3x3[:, 1], array_3x3[:, 0], array_3x3[:, 2]))\n",
    "array_ord_2columna = array_3x3[:, [1, 0, 2]]\n",
    "print(\"Array ordenado por la segunda columna:\")\n",
    "print(array_ord_2columna)\n"
   ]
  },
  {
   "attachments": {},
   "cell_type": "markdown",
   "id": "5c97d5c8",
   "metadata": {},
   "source": [
    "8. Dado un array de 3x3. Devuelve sus mínimos de cada columna y el máximo de cada fila."
   ]
  },
  {
   "cell_type": "code",
   "execution_count": null,
   "id": "10f0b421",
   "metadata": {},
   "outputs": [],
   "source": [
    "array_3x3_rand = np.random.randint(1, 101, size=(3, 3))\n",
    "print(array_3x3_rand)\n",
    "\n",
    "minimos_columnas = np.min(array_3x3_rand, axis=0)\n",
    "maximos_filas = np.max(array_3x3_rand, axis=1)\n",
    "\n",
    "print(\"Mínimos de cada columna:\")\n",
    "print(minimos_columnas)\n",
    "print(\"Máximos de cada fila:\")\n",
    "print(maximos_filas)\n"
   ]
  },
  {
   "attachments": {},
   "cell_type": "markdown",
   "id": "0b9e30cf",
   "metadata": {},
   "source": [
    "9. Dado un array de 3x3 elimina su 2ª columna y añadela al inicio."
   ]
  },
  {
   "cell_type": "code",
   "execution_count": null,
   "id": "028c3735",
   "metadata": {},
   "outputs": [],
   "source": [
    "import numpy as np\n",
    "\n",
    "array_3x3_random = np.random.randint(1, 101, size=(3, 3))\n",
    "print(\"Array original:\")\n",
    "print(array_3x3_random) \n",
    "\n",
    "# columna_2 = array_3x3_random[:, 1]  # Obtener la segunda columna\n",
    "# array_sin_col2 = np.delete(array_3x3_random, 1, axis=1)  # Eliminar la segunda columna\n",
    "# nuevo_array = np.insert(array_sin_col2, 0, columna_2, axis=1)  # Agregar la columna al inicio\n",
    "\n",
    "nuevo_array = np.concatenate((array_3x3_random[:, [1]], np.delete(array_3x3_random, 1, axis=1)), axis=1)\n",
    "\n",
    "print(\"Array con la segunda columna eliminada y añadida al inicio:\")\n",
    "print(nuevo_array)\n"
   ]
  },
  {
   "attachments": {},
   "cell_type": "markdown",
   "id": "c8f1cba2",
   "metadata": {},
   "source": [
    "10. Crea un DataFrame con la información de *coches.csv*."
   ]
  },
  {
   "cell_type": "code",
   "execution_count": null,
   "id": "f0afb214",
   "metadata": {},
   "outputs": [],
   "source": [
    "import pandas as pd\n",
    "\n",
    "# Cargar el archivo CSV en un DataFrame\n",
    "dataframe_coches = pd.read_csv('coches.csv')\n",
    "\n",
    "dataframe_coches.head()\n"
   ]
  },
  {
   "attachments": {},
   "cell_type": "markdown",
   "id": "19bf2ab9",
   "metadata": {},
   "source": [
    "11. Muestra la compañía que tenga el coche más caro."
   ]
  },
  {
   "cell_type": "code",
   "execution_count": null,
   "id": "d744ddd7",
   "metadata": {},
   "outputs": [],
   "source": [
    "# Encontrar el índice del coche con el precio máximo\n",
    "# indice_coche_mas_caro = dataframe_coches['price'].idxmax()\n",
    "# print(\"índice:\",indice_coche_mas_caro)\n",
    "\n",
    "# Obtener la compañía del coche más caro\n",
    "# compania_coche_mas_caro = dataframe_coches.loc[indice_coche_mas_caro, 'company']\n",
    "\n",
    "# Imprimir la compañía del coche más caro\n",
    "# print(\"La compañía con el coche más caro es:\", compania_coche_mas_caro)\n",
    "\n",
    "print(\"La compañía con el coche más caro es:\",\n",
    "      dataframe_coches.loc[dataframe_coches['price'].idxmax(), 'company'])\n"
   ]
  },
  {
   "attachments": {},
   "cell_type": "markdown",
   "id": "f3a044b0",
   "metadata": {},
   "source": [
    "12. Muestra todos los coches de Toyota."
   ]
  },
  {
   "cell_type": "code",
   "execution_count": null,
   "id": "90cfa8ce",
   "metadata": {},
   "outputs": [],
   "source": [
    "dataframe_coches.loc[dataframe_coches['company'] == 'toyota']\n"
   ]
  },
  {
   "attachments": {},
   "cell_type": "markdown",
   "id": "a7917d5d",
   "metadata": {},
   "source": [
    "13. Muestra cuántos coches tiene cada compañía."
   ]
  },
  {
   "cell_type": "code",
   "execution_count": null,
   "id": "e799bdfb",
   "metadata": {},
   "outputs": [],
   "source": [
    "dataframe_coches['company'].value_counts()"
   ]
  },
  {
   "attachments": {},
   "cell_type": "markdown",
   "id": "529332e2",
   "metadata": {},
   "source": [
    "14. Muestra todas las compañías con su precio más caro."
   ]
  },
  {
   "cell_type": "code",
   "execution_count": null,
   "id": "64b93d2e",
   "metadata": {},
   "outputs": [],
   "source": [
    "# Obtener los índices de los precios más caros para cada compañía\n",
    "# indices_precios_maximos = dataframe_coches.groupby('company')['price'].idxmax()\n",
    "\n",
    "# Obtener los datos correspondientes a los precios más caros\n",
    "# companias_precios_maximos = dataframe_coches.loc[indices_precios_maximos, ['company', 'price']]\n",
    "\n",
    "# Mostrar las compañías con sus precios más caros\n",
    "# print(companias_precios_maximos)\n",
    "\n",
    "import pandas as pd\n",
    "\n",
    "dataframe_coches.loc[dataframe_coches.groupby('company')['price'].idxmax(), ['company', 'price']]\n",
    "\n"
   ]
  },
  {
   "attachments": {},
   "cell_type": "markdown",
   "id": "5701b828",
   "metadata": {},
   "source": [
    "15. Calcula la media de kilometros de cada compañía."
   ]
  },
  {
   "cell_type": "code",
   "execution_count": null,
   "id": "84e1a833",
   "metadata": {},
   "outputs": [],
   "source": [
    "# Calcular la media de kilómetros por compañía\n",
    "# media_kilometros_compania = dataframe_coches.groupby('company')['average-mileage'].mean()\n",
    "\n",
    "# Mostrar la media de kilómetros por compañía\n",
    "# print(media_kilometros_compania)\n",
    "\n",
    "dataframe_coches.groupby('company')['average-mileage'].mean()\n"
   ]
  },
  {
   "attachments": {},
   "cell_type": "markdown",
   "id": "a6b777cb",
   "metadata": {},
   "source": [
    "16. Ordena los coches por precio."
   ]
  },
  {
   "cell_type": "code",
   "execution_count": null,
   "id": "28a50ede",
   "metadata": {},
   "outputs": [],
   "source": [
    "# Configurar pandas para mostrar todas las filas\n",
    "pd.set_option('display.max_rows', None)\n",
    "\n",
    "dataframe_coches.sort_values('price')\n"
   ]
  }
 ],
 "metadata": {
  "kernelspec": {
   "display_name": "Python 3 (ipykernel)",
   "language": "python",
   "name": "python3"
  },
  "language_info": {
   "codemirror_mode": {
    "name": "ipython",
    "version": 3
   },
   "file_extension": ".py",
   "mimetype": "text/x-python",
   "name": "python",
   "nbconvert_exporter": "python",
   "pygments_lexer": "ipython3",
   "version": "3.9.7"
  }
 },
 "nbformat": 4,
 "nbformat_minor": 5
}
