{
 "cells": [
  {
   "attachments": {},
   "cell_type": "markdown",
   "metadata": {},
   "source": [
    "# **Bloque 03 <br> Tipos de operadores**\n",
    "\n",
    "### **Nombre del proyecto:** block03-operators"
   ]
  },
  {
   "attachments": {},
   "cell_type": "markdown",
   "metadata": {},
   "source": [
    "#### **Ejercicio operador aritmético**"
   ]
  },
  {
   "attachments": {},
   "cell_type": "markdown",
   "metadata": {},
   "source": [
    "1. Define tres variables llamadas a, b y c con los valores 50, 5.0, 100."
   ]
  },
  {
   "cell_type": "code",
   "execution_count": null,
   "metadata": {},
   "outputs": [],
   "source": [
    "a = 50\n",
    "b = 5.0\n",
    "c = 100\n",
    "print(\"a= \", a)\n",
    "print(\"b= \", b)\n",
    "print(\"c= \", c,)\n"
   ]
  },
  {
   "attachments": {},
   "cell_type": "markdown",
   "metadata": {},
   "source": [
    "2. Define la variable d siendo la suma de a y b."
   ]
  },
  {
   "cell_type": "code",
   "execution_count": null,
   "metadata": {},
   "outputs": [],
   "source": [
    "d = a + b\n",
    "print(\"d=\", d)\n"
   ]
  },
  {
   "attachments": {},
   "cell_type": "markdown",
   "metadata": {},
   "source": [
    "3. Define la variable e siendo la resta a y b."
   ]
  },
  {
   "cell_type": "code",
   "execution_count": null,
   "metadata": {},
   "outputs": [],
   "source": [
    "e = a - b\n",
    "print(\"e=\", e)\n"
   ]
  },
  {
   "attachments": {},
   "cell_type": "markdown",
   "metadata": {},
   "source": [
    "4. Define la variable f con el resultado de la multiplicación d y e."
   ]
  },
  {
   "cell_type": "code",
   "execution_count": null,
   "metadata": {},
   "outputs": [],
   "source": [
    "f = d * e\n",
    "print(\"f=\", f)\n"
   ]
  },
  {
   "attachments": {},
   "cell_type": "markdown",
   "metadata": {},
   "source": [
    "5. Define la variable g con el resultado de la división f y a."
   ]
  },
  {
   "cell_type": "code",
   "execution_count": null,
   "metadata": {},
   "outputs": [],
   "source": [
    "g = f / a\n",
    "print(\"g=\", g)\n"
   ]
  },
  {
   "attachments": {},
   "cell_type": "markdown",
   "metadata": {},
   "source": [
    "6. Define la variable h con el módulo de f y a."
   ]
  },
  {
   "cell_type": "code",
   "execution_count": null,
   "metadata": {},
   "outputs": [],
   "source": [
    "h = f % a\n",
    "print(\"h=\", h)"
   ]
  },
  {
   "attachments": {},
   "cell_type": "markdown",
   "metadata": {},
   "source": [
    "#### **Ejercicio operador de comparación**"
   ]
  },
  {
   "attachments": {},
   "cell_type": "markdown",
   "metadata": {},
   "source": [
    "1. Define las variables a y b con los valores 50 y 10"
   ]
  },
  {
   "cell_type": "code",
   "execution_count": null,
   "metadata": {},
   "outputs": [],
   "source": [
    "# En python se pueden declarar varias variables en la misma línea de esta forma\n",
    "a, b = 50, 10\n",
    "print(\"a=\", a)\n",
    "print(\"b=\", b)\n",
    "# También se pueden declarar variables iguales en la misma línea de esta forma\n",
    "# x = y = z = 0\n"
   ]
  },
  {
   "attachments": {},
   "cell_type": "markdown",
   "metadata": {},
   "source": [
    "2. Comprueba si a y b son iguales."
   ]
  },
  {
   "cell_type": "code",
   "execution_count": null,
   "metadata": {},
   "outputs": [],
   "source": [
    "if a == b:\n",
    "    print(\"a=\", a, \"y b=\", b, \" son iguales\")\n",
    "else:\n",
    "    print(\"a y b no son iguales\")\n",
    "print(\"Resutado a==b -->\", a, \"==\", b, \"=\", a == b)\n"
   ]
  },
  {
   "attachments": {},
   "cell_type": "markdown",
   "metadata": {},
   "source": [
    "3. Comprueba si a y b son distintos."
   ]
  },
  {
   "cell_type": "code",
   "execution_count": null,
   "metadata": {},
   "outputs": [],
   "source": [
    "if a != b:\n",
    "    print(\"a=\", a, \"y b=\", b, \" son distintos\")\n",
    "else:\n",
    "    print(\"a y b son iguales\")\n",
    "print(\"Resultado a!=b: \", a != b)\n"
   ]
  },
  {
   "attachments": {},
   "cell_type": "markdown",
   "metadata": {},
   "source": [
    "4. Comprueba si a es mayor que b."
   ]
  },
  {
   "cell_type": "code",
   "execution_count": null,
   "metadata": {},
   "outputs": [],
   "source": [
    "if a > b:\n",
    "    print(\"a=\", a, \"es mayor que b=\", b)\n",
    "else:\n",
    "    print(\"a=\", a, \" no es mayor que b=\", b)\n",
    "print(\"Resultado a>b -->\", a, \">\", b, \"=\", a > b)\n"
   ]
  },
  {
   "attachments": {},
   "cell_type": "markdown",
   "metadata": {},
   "source": [
    "5. Comprueba si a es menor o igual que b."
   ]
  },
  {
   "cell_type": "code",
   "execution_count": null,
   "metadata": {},
   "outputs": [],
   "source": [
    "if a <= b:\n",
    "    print(\"a=\", a, \"es menor o igual que b=\", b)\n",
    "else:\n",
    "    print(\"a=\", a, \" es mayor que b=\", b)\n",
    "print(\"Resultado a<=b --> \", a, \"<=\", b, a <= b)\n"
   ]
  },
  {
   "attachments": {},
   "cell_type": "markdown",
   "metadata": {},
   "source": [
    "#### **Ejercicio operador de asignación**"
   ]
  },
  {
   "attachments": {},
   "cell_type": "markdown",
   "metadata": {},
   "source": [
    "1. Define una variable y asígnale el valor 999."
   ]
  },
  {
   "cell_type": "code",
   "execution_count": null,
   "metadata": {},
   "outputs": [],
   "source": [
    "y = 999\n",
    "print(\"y=\", y)\n"
   ]
  },
  {
   "attachments": {},
   "cell_type": "markdown",
   "metadata": {},
   "source": [
    "2. Suma 1 a la variable anterior."
   ]
  },
  {
   "cell_type": "code",
   "execution_count": null,
   "metadata": {},
   "outputs": [],
   "source": [
    "y += 1\n",
    "print(\"y=\", y)\n"
   ]
  },
  {
   "attachments": {},
   "cell_type": "markdown",
   "metadata": {},
   "source": [
    "3. Resta 10 a la variable anterior."
   ]
  },
  {
   "cell_type": "code",
   "execution_count": null,
   "metadata": {},
   "outputs": [],
   "source": [
    "y -= 10\n",
    "print(\"y=\", y)\n"
   ]
  },
  {
   "attachments": {},
   "cell_type": "markdown",
   "metadata": {},
   "source": [
    "4. Multiplica por 10."
   ]
  },
  {
   "cell_type": "code",
   "execution_count": null,
   "metadata": {},
   "outputs": [],
   "source": [
    "y *= 10\n",
    "print(\"y=\", y)\n"
   ]
  },
  {
   "attachments": {},
   "cell_type": "markdown",
   "metadata": {},
   "source": [
    "5. Divide entre 5."
   ]
  },
  {
   "cell_type": "code",
   "execution_count": null,
   "metadata": {},
   "outputs": [],
   "source": [
    "y /= 5\n",
    "print(\"y=\", y)\n"
   ]
  },
  {
   "attachments": {},
   "cell_type": "markdown",
   "metadata": {},
   "source": [
    "6. Asigna a la variable inicial el resultado del módulo de 60."
   ]
  },
  {
   "cell_type": "code",
   "execution_count": null,
   "metadata": {},
   "outputs": [],
   "source": [
    "# y/60 --> 1980/60 =33--> Resto 0 --> y = Resto 0\n",
    "y %= 60\n",
    "print(\"y=\", y)\n"
   ]
  },
  {
   "attachments": {},
   "cell_type": "markdown",
   "metadata": {},
   "source": [
    "#### **Ejercicio con operadores lógicos**"
   ]
  },
  {
   "attachments": {},
   "cell_type": "markdown",
   "metadata": {},
   "source": [
    "1. Crea las variables a, b, c y d con los valores 10, 100, 200 y 300 respectivamente."
   ]
  },
  {
   "cell_type": "code",
   "execution_count": null,
   "metadata": {},
   "outputs": [],
   "source": [
    "a, b, c, d = 10, 100, 200, 300\n",
    "print(\"a=\", a, \"b=\", b, \"c=\", c, \"d=\", d)\n"
   ]
  },
  {
   "attachments": {},
   "cell_type": "markdown",
   "metadata": {},
   "source": [
    "2. Comprueba si a es mayor que b y c es menor que d."
   ]
  },
  {
   "cell_type": "code",
   "execution_count": null,
   "metadata": {},
   "outputs": [],
   "source": [
    "if a > b and c < d:\n",
    "    print(\"a=\", a, \"es mayor que b=\", b, \"y c=\", c, \"es menor que d=\", d)\n",
    "else:\n",
    "    print(\"a=\", a, \"no es mayor que b=\", b, \"o c=\", c, \"no es menor que d=\", d)\n"
   ]
  },
  {
   "attachments": {},
   "cell_type": "markdown",
   "metadata": {},
   "source": [
    "3. Comprueba si la suma de a y b es mayor o igual que c o la suma de b y c es mayor o igual que d."
   ]
  },
  {
   "cell_type": "code",
   "execution_count": null,
   "metadata": {},
   "outputs": [],
   "source": [
    "if a + b >= c or b + c >= d:\n",
    "    print(\"O bien\")\n",
    "    print(\"la suma de a=\", a, \"y b=\", b, \"Resultado=\",\n",
    "          a + b, \"es mayor o igual que c=\", c)\n",
    "    print(\"o \")\n",
    "    print(\n",
    "        f\"la suma de b= {b} y c= {c} Resultado= {b + c} es mayor o igual que d={d}\")\n",
    "# Usando f se le da formato y se pueden usar {variable}\n",
    "else:\n",
    "    print(\n",
    "        f\"la suma de a={a} y b={b} Resultado={a + b} no es mayor o igual que c={c} y la suma de b={b} y c={c}\"\n",
    "        f\" Resutado={b + c} no es mayor o igual que d={d}\")\n"
   ]
  },
  {
   "attachments": {},
   "cell_type": "markdown",
   "metadata": {},
   "source": [
    "#### **Ejercicio operadores de pertenencia**\n",
    "Para realizar los siguientes ejercicios, debemos de crear las siguientes variables:"
   ]
  },
  {
   "cell_type": "code",
   "execution_count": null,
   "metadata": {},
   "outputs": [],
   "source": [
    "list_1 = [1, 2, 3, 4, 5]\n",
    "list_2 = ['Hello', 'Word', 'Python']\n",
    "list_3 = ['Operator', 'Membership', 100, 200]\n"
   ]
  },
  {
   "attachments": {},
   "cell_type": "markdown",
   "metadata": {},
   "source": [
    "1. Comprueba si 5 está en list_1."
   ]
  },
  {
   "cell_type": "code",
   "execution_count": null,
   "metadata": {},
   "outputs": [],
   "source": [
    "if 5 in list_1:\n",
    "    print(f\"Sí, 5 está en list1 = {list_1}\")\n",
    "    print(f\"list1[list1.index(5)] = {list_1[list_1.index(5)]}\")\n",
    "else:\n",
    "    print(\"No, 5 no está en list1\")\n"
   ]
  },
  {
   "attachments": {},
   "cell_type": "markdown",
   "metadata": {},
   "source": [
    "2. Comprueba si “Hello” y “Python” están en list_2."
   ]
  },
  {
   "cell_type": "code",
   "execution_count": null,
   "metadata": {},
   "outputs": [],
   "source": [
    "condicion = 'Hello' in list_2 and 'Python' in list_2\n",
    "# Se entiende como if condicion == True --> Si se da esta condición\n",
    "if condicion:\n",
    "    print(\"condicion=\", condicion)\n",
    "    print(f\"Sí, 'Hello' y 'Python' están en list_2 = {list_2}\")\n",
    "    print(f\"list_2[list_2.index('Hello')] = {list_2[list_2.index('Hello')]}\")\n",
    "else:\n",
    "    print(\"No, 'Hello' y 'Python' no están en list_2\")\n"
   ]
  },
  {
   "attachments": {},
   "cell_type": "markdown",
   "metadata": {},
   "source": [
    "3. Comprueba si list_2 es igual que list_3."
   ]
  },
  {
   "cell_type": "code",
   "execution_count": null,
   "metadata": {},
   "outputs": [],
   "source": [
    "if list_2 == list_3:\n",
    "    print(\"Sí, list_2 es igual que list_3\")\n",
    "else:\n",
    "    print(\"No, list_2 no es igual que list_3\")\n"
   ]
  },
  {
   "attachments": {},
   "cell_type": "markdown",
   "metadata": {},
   "source": [
    "#### **Ejercicio con operadores bit a bit**\n",
    "Recuerda que estos tipos de operadores utiliza números binarios internamente.<br>\n",
    "Los siguientes ejercicios consisten en utilizar los operadores indicados con las variables siguientes:"
   ]
  },
  {
   "cell_type": "code",
   "execution_count": null,
   "metadata": {},
   "outputs": [],
   "source": [
    "a = 1\n",
    "b = 2\n"
   ]
  },
  {
   "attachments": {},
   "cell_type": "markdown",
   "metadata": {},
   "source": [
    "1. Operador AND."
   ]
  },
  {
   "cell_type": "code",
   "execution_count": null,
   "metadata": {},
   "outputs": [],
   "source": [
    "# Operador & - Bitwise AND - X & Y\n",
    "print(\"a & b =\", a & b)\n"
   ]
  },
  {
   "attachments": {},
   "cell_type": "markdown",
   "metadata": {},
   "source": [
    "2. Operador OR."
   ]
  },
  {
   "cell_type": "code",
   "execution_count": null,
   "metadata": {},
   "outputs": [],
   "source": [
    "# Operador | - Bitwise OR - X | Y\n",
    "print(\"a | b =\", a | b)\n"
   ]
  },
  {
   "attachments": {},
   "cell_type": "markdown",
   "metadata": {},
   "source": [
    "3. Operador NOT."
   ]
  },
  {
   "cell_type": "code",
   "execution_count": null,
   "metadata": {},
   "outputs": [],
   "source": [
    "# Operador ~ - Bitwise NOT - X ~ Y\n",
    "print(\"~a =\", ~a)\n"
   ]
  },
  {
   "attachments": {},
   "cell_type": "markdown",
   "metadata": {},
   "source": [
    "4. Operador XOR."
   ]
  },
  {
   "cell_type": "code",
   "execution_count": null,
   "metadata": {},
   "outputs": [],
   "source": [
    "# Operador ^ - Bitwise XOR - X ~ Y\n",
    "print(\"a^b=\", {a ^ b})\n"
   ]
  },
  {
   "attachments": {},
   "cell_type": "markdown",
   "metadata": {},
   "source": [
    "5. Operador left shit."
   ]
  },
  {
   "cell_type": "code",
   "execution_count": null,
   "metadata": {},
   "outputs": [],
   "source": [
    "# Operador << - Bitwise a la izquierda - X >>\n",
    "print(\"a << b =\", {a << b})\n"
   ]
  },
  {
   "attachments": {},
   "cell_type": "markdown",
   "metadata": {},
   "source": [
    "6. Operador right shit."
   ]
  },
  {
   "cell_type": "code",
   "execution_count": null,
   "metadata": {},
   "outputs": [],
   "source": [
    "# Operador >> - Bitwise a la derecha - X >>\n",
    "print(\"a >> b =\", {a >> b})\n"
   ]
  },
  {
   "attachments": {},
   "cell_type": "markdown",
   "metadata": {},
   "source": [
    "#### **Ejercicio con operadores de identidad**"
   ]
  },
  {
   "cell_type": "code",
   "execution_count": null,
   "metadata": {},
   "outputs": [],
   "source": [
    "a = 3\n",
    "b = 3.0\n"
   ]
  },
  {
   "attachments": {},
   "cell_type": "markdown",
   "metadata": {},
   "source": [
    "1. Comprueba si a es un int."
   ]
  },
  {
   "cell_type": "code",
   "execution_count": null,
   "metadata": {},
   "outputs": [],
   "source": [
    "if type(a) is int:\n",
    "    print(f\"a= {a} es un int\")\n",
    "else:\n",
    "    print(\"a=\", a, \"no es un int\")\n"
   ]
  },
  {
   "attachments": {},
   "cell_type": "markdown",
   "metadata": {},
   "source": [
    "2. Comprueba si b es un boolean."
   ]
  },
  {
   "cell_type": "code",
   "execution_count": null,
   "metadata": {},
   "outputs": [],
   "source": [
    "if type(b) is bool:\n",
    "    print(f\"b= {b} es un bool\")\n",
    "else:\n",
    "    print(\"b=\", b, \"no es un bool\")\n"
   ]
  },
  {
   "attachments": {},
   "cell_type": "markdown",
   "metadata": {},
   "source": [
    "3. Comprueba si b es un float."
   ]
  },
  {
   "cell_type": "code",
   "execution_count": null,
   "metadata": {},
   "outputs": [],
   "source": [
    "if type(b) is float:\n",
    "    print(f\"b= {b} es un float\")\n",
    "else:\n",
    "    print(\"b=\", b, \"no es un float\")\n"
   ]
  },
  {
   "attachments": {},
   "cell_type": "markdown",
   "metadata": {},
   "source": [
    "4. Comprobar si a NO es una string."
   ]
  },
  {
   "cell_type": "code",
   "execution_count": null,
   "metadata": {},
   "outputs": [],
   "source": [
    "if type(a) is not str:\n",
    "    print(f\"a no es un str sino una variable de tipo {type(a).__name__}\")\n",
    "# Si probamos type(variablePorParametro).__name__ el Ide no la ofrece automáticamente porque .__name__ es un atributo de los objetos.\n",
    "else:\n",
    "    print(\"b es un str\")\n"
   ]
  }
 ],
 "metadata": {
  "kernelspec": {
   "display_name": "base",
   "language": "python",
   "name": "python3"
  },
  "language_info": {
   "codemirror_mode": {
    "name": "ipython",
    "version": 3
   },
   "file_extension": ".py",
   "mimetype": "text/x-python",
   "name": "python",
   "nbconvert_exporter": "python",
   "pygments_lexer": "ipython3",
   "version": "3.10.9"
  },
  "orig_nbformat": 4
 },
 "nbformat": 4,
 "nbformat_minor": 2
}
