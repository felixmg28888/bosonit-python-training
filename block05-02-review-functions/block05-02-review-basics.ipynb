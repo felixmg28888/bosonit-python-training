{
 "cells": [
  {
   "attachments": {},
   "cell_type": "markdown",
   "id": "08188b72",
   "metadata": {},
   "source": [
    "# **Bloque 05 <br> Funciones <br> Ejercicios de repaso**\n",
    "\n",
    "### **Nombre del proyecto:** block05-02-review-basics"
   ]
  },
  {
   "attachments": {},
   "cell_type": "markdown",
   "id": "6b2fe664",
   "metadata": {},
   "source": [
    "#### **Ejercicio 1**\n",
    "\n",
    "Define una función que devuelva las palabras de entre 3 y 5 letras que no tienen la letra o. Úsala con la variable texto."
   ]
  },
  {
   "cell_type": "code",
   "execution_count": null,
   "id": "9a261558",
   "metadata": {},
   "outputs": [],
   "source": [
    "texto = \"En un lugar, de la Mancha, de cuyo nombre no quiero acordarme, no ha mucho tiempo que vivía un hidalgo de los de lanza en astillero, adarga antigua, rocín flaco y galgo corredor.\"\n",
    "\n",
    "\n",
    "def palabras_sin_o(texto):\n",
    "    # Separar el texto en palabras individuales\n",
    "    palabras = texto.split()\n",
    "\n",
    "    # Inicializar una lista vacía para almacenar las palabras que cumplan con los criterios\n",
    "    palabras_validas = []\n",
    "\n",
    "    # Iterar sobre cada palabra\n",
    "    for palabra in palabras:\n",
    "        # Verificar que la palabra tenga entre 3 y 5 letras y que no contenga la letra \"o\" en minúscula o mayúscula\n",
    "        if len(palabra) >= 3 and len(palabra) <= 5 and 'o' not in palabra:\n",
    "            # Agregar la palabra a la lista de palabras válidas\n",
    "            palabras_validas.append(palabra)\n",
    "\n",
    "    # Devolver la lista de palabras válidas\n",
    "    return palabras_validas\n",
    "\n",
    "\n",
    "palabras_procesadas = palabras_sin_o(texto)\n",
    "\n",
    "print(palabras_procesadas)\n"
   ]
  },
  {
   "attachments": {},
   "cell_type": "markdown",
   "id": "1a6e1a72",
   "metadata": {},
   "source": [
    "#### **Ejercicio 2**\n",
    "\n",
    "Crea una función que devuelva el porcentaje de elementos únicos de una lista."
   ]
  },
  {
   "cell_type": "code",
   "execution_count": null,
   "id": "338324e0",
   "metadata": {},
   "outputs": [],
   "source": [
    "lista = [1, 2, 4, 5, 1, 1, 'Hola', 'pato', 'Hola', 'Logroño']\n",
    "\n",
    "\n",
    "def porcentaje_elementos_unicos(lista):\n",
    "    # Si se transforma una lista a un set se eliminan los datos repetidos.\n",
    "    # Los conjuntos no permiten elementos repetidos. Solo permiten almacenar\n",
    "    # un único elemento por cada valor. Cuando se encuentra un elemento\n",
    "    # duplicado durante la creación del conjunto, simplemente se descarta y no se almacena.\n",
    "    elementos_unicos = set(lista)\n",
    "\n",
    "    cantidad_elementos_unicos = len(elementos_unicos)\n",
    "\n",
    "    # Calcular el porcentaje de elementos únicos en la lista\n",
    "    porcentaje = (cantidad_elementos_unicos / len(lista)) * 100\n",
    "\n",
    "    # Devolver el resultado como un número decimal redondeado a dos decimales\n",
    "    return round(porcentaje, 2)\n",
    "\n",
    "\n",
    "print(porcentaje_elementos_unicos(lista))\n"
   ]
  },
  {
   "attachments": {},
   "cell_type": "markdown",
   "id": "50732795",
   "metadata": {},
   "source": [
    "#### **Ejercicio 3**\n",
    "\n",
    "La serie de Fibonacci es una conocida serie en la que cada elemento se calcula como la suma de los dos anteriores, empezando por 1 1, es decir:\n",
    "$$1, 1, 2, 3, 5, 8, 13, 21, ...$$\n",
    "\n",
    "Programar una función que calcule el n-ésimo término de la serie de forma recursiva"
   ]
  },
  {
   "cell_type": "code",
   "execution_count": null,
   "id": "8a2f9f15",
   "metadata": {},
   "outputs": [],
   "source": [
    "def fibonacci_recursivo(n):\n",
    "    # Caso base: si n es 1 o 2, devolver 1\n",
    "    if n == 1 or n == 2:\n",
    "        return 1\n",
    "    # Caso recursivo: sumar los dos términos anteriores\n",
    "    else:\n",
    "        return fibonacci_recursivo(n-1) + fibonacci_recursivo(n-2)\n",
    "\n",
    "\n",
    "print(fibonacci_recursivo(6))\n"
   ]
  },
  {
   "attachments": {},
   "cell_type": "markdown",
   "id": "6333c40d",
   "metadata": {},
   "source": [
    "#### **Ejercicio 4**\n",
    "\n",
    "Dada una lista con listas anidadas en su interior, devolver una lista que no esté anidada."
   ]
  },
  {
   "cell_type": "code",
   "execution_count": null,
   "id": "25332f91",
   "metadata": {},
   "outputs": [],
   "source": [
    "lista = [1, 43, [1, 7, 6, ['uno', 'dos'], 'Madrid'], 'Tortuga']\n",
    "\n",
    "\n",
    "def aplanar_lista(lista):\n",
    "    resultado = []\n",
    "    for elemento in lista:\n",
    "        if isinstance(elemento, list):\n",
    "            resultado.extend(aplanar_lista(elemento))\n",
    "        else:\n",
    "            resultado.append(elemento)\n",
    "    return resultado\n",
    "\n",
    "\n",
    "print(aplanar_lista(lista))\n"
   ]
  },
  {
   "attachments": {},
   "cell_type": "markdown",
   "id": "ed519b16",
   "metadata": {},
   "source": [
    "#### **Ejercicio 5**\n",
    "\n",
    "Implementar una función que lleve a cabo el cifrado César de una frase. El cifrado se lleva a cabo de la siguiente manera:\n",
    "\n",
    "+ Para cada letra de la palabra (sin distinguir mayúsculas y minúsculas) obtenemos su orden dentro del alfabeto.\n",
    "+ A ese valor le sumaremos el valor de la *clave* dada por el usuario.\n",
    "+ Sustituiremos la letra original por la que esté en esta nueva posición calculada dentro de nuestro alfabeto."
   ]
  },
  {
   "cell_type": "code",
   "execution_count": null,
   "id": "9b378864",
   "metadata": {},
   "outputs": [],
   "source": [
    "def cifrado_cesar(frase, clave):\n",
    "    # Definimos el alfabeto que vamos a utilizar\n",
    "    alfabeto = 'abcdefghijklmnñopqrstuvwxyz'\n",
    "\n",
    "    # Convertimos la frase a minúsculas\n",
    "    frase = frase.lower()\n",
    "\n",
    "    # Creamos una lista con las letras de la frase\n",
    "    letras = list(frase)\n",
    "\n",
    "    # Inicializamos la lista donde guardaremos las letras cifradas\n",
    "    letras_cifradas = []\n",
    "\n",
    "    # Recorremos la lista de letras\n",
    "    for letra in letras:\n",
    "        # Si la letra no está en el alfabeto, la añadimos sin cifrar\n",
    "        if letra not in alfabeto: # Lo mismo ocurre con el espacio\n",
    "            letras_cifradas.append(letra)\n",
    "        else:\n",
    "            # Obtenemos el índice de la letra en el alfabeto\n",
    "            indice = alfabeto.index(letra)\n",
    "\n",
    "            # Sumamos la clave al índice\n",
    "            indice_cifrado = (indice + clave) % len(alfabeto)\n",
    "\n",
    "            # Obtenemos la letra cifrada\n",
    "            letra_cifrada = alfabeto[indice_cifrado]\n",
    "\n",
    "            # Añadimos la letra cifrada a la lista\n",
    "            letras_cifradas.append(letra_cifrada)\n",
    "\n",
    "    # Convertimos la lista de letras cifradas en una cadena de texto\n",
    "    frase_cifrada = ''.join(letras_cifradas)\n",
    "\n",
    "    return frase_cifrada\n",
    "\n",
    "frase = \"Hello world\"\n",
    "clave = 1\n",
    "\n",
    "print(cifrado_cesar(frase,clave))\n"
   ]
  },
  {
   "attachments": {},
   "cell_type": "markdown",
   "id": "6a7988bf",
   "metadata": {},
   "source": [
    "#### **Ejercicio 6**\n",
    "\n",
    "Calcular la desviación estándar de una lista que será nuestra población. La desviación estandar ($\\sigma$) se puede calcular mediante la expresión\n",
    "\n",
    "$$\\sigma^2 = \\frac{\\sum_{i=1}^n{(x-\\bar{x})^2}}{n},$$\n",
    "donde $\\bar{x}$ es la media de la población. Hacerlo utilizando *map* y *reduce*."
   ]
  },
  {
   "cell_type": "code",
   "execution_count": null,
   "id": "12714772",
   "metadata": {},
   "outputs": [],
   "source": [
    "from functools import reduce\n",
    "import math\n",
    "\n",
    "\n",
    "def calcular_desviacion_estandar(edades):\n",
    "    # Calcular la media\n",
    "    media = sum(edades) / len(edades)\n",
    "\n",
    "    # Calcular la suma de los cuadrados de las diferencias con la media\n",
    "    suma_cuadrados_diferencias = reduce(\n",
    "        lambda x, y: x + (y - media)**2, edades, 0)\n",
    "\n",
    "    # Calcular la desviación estándar\n",
    "    desviacion_estandar = math.sqrt(suma_cuadrados_diferencias / len(edades))\n",
    "\n",
    "    return desviacion_estandar\n",
    "\n",
    "\n",
    "edades = [18, 20, 25, 30, 35]\n",
    "\n",
    "\n",
    "print(calcular_desviacion_estandar(edades))\n"
   ]
  }
 ],
 "metadata": {
  "kernelspec": {
   "display_name": "Python 3 (ipykernel)",
   "language": "python",
   "name": "python3"
  },
  "language_info": {
   "codemirror_mode": {
    "name": "ipython",
    "version": 3
   },
   "file_extension": ".py",
   "mimetype": "text/x-python",
   "name": "python",
   "nbconvert_exporter": "python",
   "pygments_lexer": "ipython3",
   "version": "3.10.9"
  }
 },
 "nbformat": 4,
 "nbformat_minor": 5
}
