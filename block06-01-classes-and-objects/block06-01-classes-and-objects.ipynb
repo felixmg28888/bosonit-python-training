{
 "cells": [
  {
   "attachments": {},
   "cell_type": "markdown",
   "metadata": {},
   "source": [
    "# **Bloque 06 <br> Clases y objetos**\n",
    "\n",
    "### **Nombre del proyecto:** block06-01-classes-and-objects"
   ]
  },
  {
   "attachments": {},
   "cell_type": "markdown",
   "metadata": {},
   "source": [
    "#### **Ejercicio FirstExercise**"
   ]
  },
  {
   "attachments": {},
   "cell_type": "markdown",
   "metadata": {},
   "source": [
    "1. Define una clase vacía llamada FirstExercise."
   ]
  },
  {
   "cell_type": "code",
   "execution_count": null,
   "metadata": {},
   "outputs": [],
   "source": [
    "class FirstExercise:\n",
    "    pass\n"
   ]
  },
  {
   "attachments": {},
   "cell_type": "markdown",
   "metadata": {},
   "source": [
    "2. Modifica la clase anterior. La clase debe recibir obligatoriamente las variables number y chapter."
   ]
  },
  {
   "cell_type": "code",
   "execution_count": null,
   "metadata": {},
   "outputs": [],
   "source": [
    "class FirstExercise:\n",
    "    def __init__(self, number, chapter):\n",
    "        self.number = number\n",
    "        self.chapter = chapter\n"
   ]
  },
  {
   "attachments": {},
   "cell_type": "markdown",
   "metadata": {},
   "source": [
    "3. Instancia un objeto con los valores 6 y “Clases y objetos”."
   ]
  },
  {
   "cell_type": "code",
   "execution_count": null,
   "metadata": {},
   "outputs": [],
   "source": [
    "objeto = FirstExercise(6, \"Clases y objetos\")\n"
   ]
  },
  {
   "attachments": {},
   "cell_type": "markdown",
   "metadata": {},
   "source": [
    "4. Añade un método que imprima por pantalla el número."
   ]
  },
  {
   "cell_type": "code",
   "execution_count": null,
   "metadata": {},
   "outputs": [],
   "source": [
    "class FirstExercise:\n",
    "    def __init__(self, number, chapter):\n",
    "        self.number = number\n",
    "        self.chapter = chapter\n",
    "\n",
    "    def print_number(self):\n",
    "        print(self.number)\n",
    "\n",
    "\n",
    "objeto = FirstExercise(6, \"Clases y objetos\")\n",
    "objeto.print_number()\n"
   ]
  },
  {
   "attachments": {},
   "cell_type": "markdown",
   "metadata": {},
   "source": [
    "5. Crea una clase Circle que dado un radio permita consultar el área, el perímetro y permita modificar el radio."
   ]
  },
  {
   "cell_type": "code",
   "execution_count": null,
   "metadata": {},
   "outputs": [],
   "source": [
    "import math\n",
    "\n",
    "\n",
    "class Circle:\n",
    "    def __init__(self, radio):\n",
    "        self.radio = radio\n",
    "\n",
    "    def get_area(self):\n",
    "        return math.pi * self.radio ** 2\n",
    "\n",
    "    def get_perimetro(self):\n",
    "        return 2 * math.pi * self.radio\n",
    "\n",
    "    def set_radio(self, radio):\n",
    "        self.radio = radio\n",
    "\n",
    "\n",
    "circle = Circle(3)\n",
    "print(\"Radio inicial:\", circle.radio)\n",
    "print(\"Area:\", circle.get_area())\n",
    "print(\"Perimeter:\", circle.get_perimetro())\n",
    "\n",
    "print()\n",
    "print(\"Cambio:\")\n",
    "print(\"circle.set_radius(5)\")\n",
    "print()\n",
    "\n",
    "circle.set_radio(5)\n",
    "print(\"Radio cambiado:\", circle.radio)\n",
    "print(\"Area:\", circle.get_area())\n",
    "print(\"Perimeter:\", circle.get_perimetro())\n"
   ]
  },
  {
   "attachments": {},
   "cell_type": "markdown",
   "metadata": {},
   "source": [
    "#### **Ejercicio Vehículos**"
   ]
  },
  {
   "attachments": {},
   "cell_type": "markdown",
   "metadata": {},
   "source": [
    "1. Cree una clase Vehicle que reciba el nombre, velocidad máxima y el kilometraje."
   ]
  },
  {
   "cell_type": "code",
   "execution_count": null,
   "metadata": {},
   "outputs": [],
   "source": [
    "class Vehicle:\n",
    "    def __init__(self, nombre, velocidad_maxima, kilometraje):\n",
    "        self.nombre = nombre\n",
    "        self.velocidad_maxima = velocidad_maxima\n",
    "        self.kilometraje = kilometraje\n",
    "\n",
    "\n",
    "vehicle1 = Vehicle(\"Vehicle1\", 120, 10000)\n",
    "print(\"Nombre vehicle:\", vehicle1.nombre)\n",
    "print(\"Velocidad máxima:\", vehicle1.velocidad_maxima)\n",
    "print(\"Kilometraje:\", vehicle1.kilometraje)\n"
   ]
  },
  {
   "attachments": {},
   "cell_type": "markdown",
   "metadata": {},
   "source": [
    "2. Cree una clase Bus que herede todos los métodos y variables de Vehicle."
   ]
  },
  {
   "cell_type": "code",
   "execution_count": null,
   "metadata": {},
   "outputs": [],
   "source": [
    "class Bus (Vehicle):\n",
    "    def __init__(self, nombre, velocidad_maxima, kilometraje):\n",
    "        super().__init__(nombre, velocidad_maxima, kilometraje)\n",
    "\n",
    "bus1=Bus(\"Bus1\", 80, 100000)\n",
    "print(\"Nombre:\", bus1.nombre)\n",
    "print(\"Velocidad máxima:\", bus1.velocidad_maxima)\n",
    "print(\"Kilometraje:\", bus1.kilometraje)"
   ]
  },
  {
   "attachments": {},
   "cell_type": "markdown",
   "metadata": {},
   "source": [
    "3. Cree un método a Vehicle que recibiendo la capacidad, imprima por pantalla “La capacidad de (nombre) es de (capacidad)."
   ]
  },
  {
   "cell_type": "code",
   "execution_count": null,
   "metadata": {},
   "outputs": [],
   "source": [
    "class Vehicle:\n",
    "    def __init__(self, nombre, velocidad_maxima, kilometraje):\n",
    "        self.nombre = nombre\n",
    "        self.velocidad_maxima = velocidad_maxima\n",
    "        self.kilometraje = kilometraje\n",
    "\n",
    "    def print_capacidad(self, capacidad):\n",
    "        print(\"La capacidad de\", self.nombre, \"es de\", capacidad)\n",
    "\n",
    "\n",
    "vehicle2 = Vehicle(\"Vehicle2\", 110, 20000)\n",
    "vehicle2.print_capacidad(\"5 personas\")\n"
   ]
  },
  {
   "attachments": {},
   "cell_type": "markdown",
   "metadata": {},
   "source": [
    "4. Cree el mismo método para Bus en el que por defecto la capacidad sea de 50."
   ]
  },
  {
   "cell_type": "code",
   "execution_count": null,
   "metadata": {},
   "outputs": [],
   "source": [
    "class Bus (Vehicle):\n",
    "    def __init__(self, nombre, velocidad_maxima, kilometraje):\n",
    "        super().__init__(nombre, velocidad_maxima, kilometraje)\n",
    "\n",
    "    def imprimir_capacidad(self, capacidad=50):\n",
    "        print(\"La capacidad de\", self.nombre, \"es de\", capacidad)\n",
    "\n",
    "\n",
    "bus2 = Bus(\"Bus2\", 75, 200000)\n",
    "bus2.imprimir_capacidad()\n"
   ]
  },
  {
   "attachments": {},
   "cell_type": "markdown",
   "metadata": {},
   "source": [
    "5. Defina la variable owner que tenga el valor “Bosonit” para todos los objetos de la clase."
   ]
  },
  {
   "cell_type": "code",
   "execution_count": null,
   "metadata": {},
   "outputs": [],
   "source": [
    "class Vehicle:\n",
    "    owner = \"Bosonit\"\n",
    "\n",
    "    def __init__(self, nombre, velocidad_maxima, kilometraje):\n",
    "        self.nombre = nombre\n",
    "        self.velocidad_maxima = velocidad_maxima\n",
    "        self.kilometraje = kilometraje\n",
    "\n",
    "    def print_capacidad(self, capacidad):\n",
    "        print(\"La capacidad de\", self.nombre, \"es de\", capacidad)\n",
    "\n",
    "\n",
    "class Bus (Vehicle):\n",
    "    def __init__(self, nombre, velocidad_maxima, kilometraje):\n",
    "        super().__init__(nombre, velocidad_maxima, kilometraje)\n",
    "\n",
    "    def imprimir_capacidad(self, capacidad=50):\n",
    "        print(\"La capacidad de\", self.nombre, \"es de\", capacidad)\n",
    "\n",
    "\n",
    "vehicle_Bosonit = Vehicle(\"Vehicle Bosonit\", 120, 10000)\n",
    "print(f\"Owner-{vehicle_Bosonit.nombre} --> {vehicle_Bosonit.owner} \\n\")\n",
    "\n",
    "bus_Bosonit = Bus(\"Bus Bosonit\", 80, 140000)\n",
    "print(f\"Owner-{bus_Bosonit.nombre} --> {bus_Bosonit.owner} \\n\")\n"
   ]
  }
 ],
 "metadata": {
  "kernelspec": {
   "display_name": "base",
   "language": "python",
   "name": "python3"
  },
  "language_info": {
   "codemirror_mode": {
    "name": "ipython",
    "version": 3
   },
   "file_extension": ".py",
   "mimetype": "text/x-python",
   "name": "python",
   "nbconvert_exporter": "python",
   "pygments_lexer": "ipython3",
   "version": "3.9.16"
  },
  "orig_nbformat": 4
 },
 "nbformat": 4,
 "nbformat_minor": 2
}
