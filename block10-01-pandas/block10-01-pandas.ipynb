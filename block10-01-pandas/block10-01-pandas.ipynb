{
 "cells": [
  {
   "attachments": {},
   "cell_type": "markdown",
   "metadata": {},
   "source": [
    "# **Bloque 10 <br> Pandas**\n",
    "\n",
    "### **Nombre del proyecto:** block10-01-pandas"
   ]
  },
  {
   "attachments": {},
   "cell_type": "markdown",
   "metadata": {},
   "source": [
    "#### **Ejercicios con Series 1**"
   ]
  },
  {
   "cell_type": "code",
   "execution_count": null,
   "metadata": {},
   "outputs": [],
   "source": [
    "brand = ['Camp', 'Camp', 'Petzl', 'Petzl', 'Edelrid', 'Edelrid',\n",
    "         'Edelrid', 'Black Diamond', 'Black Diamond', 'Mammut']\n",
    "models = ['Energy', 'Jasper', 'Simba', 'Adjama New',\n",
    "          'Moe', 'Orion', 'Leaf', 'Xenes', 'Chaos', 'Ophir']\n",
    "prices = [39.90, 56.00, 45.00, 75.00, 49.90,\n",
    "          99.90, 65.00, 119.90, 99.90, 56.00]\n"
   ]
  },
  {
   "attachments": {},
   "cell_type": "markdown",
   "metadata": {},
   "source": [
    "1. Crea las listas brand, models y prices citadas anteriormente."
   ]
  },
  {
   "cell_type": "code",
   "execution_count": null,
   "metadata": {},
   "outputs": [],
   "source": [
    "brand = ['Camp', 'Camp', 'Petzl', 'Petzl', 'Edelrid', 'Edelrid',\n",
    "         'Edelrid', 'Black Diamond', 'Black Diamond', 'Mammut']\n",
    "models = ['Energy', 'Jasper', 'Simba', 'Adjama New',\n",
    "          'Moe', 'Orion', 'Leaf', 'Xenes', 'Chaos', 'Ophir']\n",
    "prices = [39.90, 56.00, 45.00, 75.00, 49.90,\n",
    "          99.90, 65.00, 119.90, 99.90, 55.00]\n"
   ]
  },
  {
   "attachments": {},
   "cell_type": "markdown",
   "metadata": {},
   "source": [
    "2. Define una Series en la que models sean los índices y prices los valores"
   ]
  },
  {
   "cell_type": "code",
   "execution_count": null,
   "metadata": {},
   "outputs": [],
   "source": [
    "import pandas as pd\n",
    "\n",
    "serie = pd.Series(prices, index=models)\n",
    "\n",
    "print(serie)\n"
   ]
  },
  {
   "attachments": {},
   "cell_type": "markdown",
   "metadata": {},
   "source": [
    "3. Muestra los modelos con el precio menor que 70 euros."
   ]
  },
  {
   "cell_type": "code",
   "execution_count": null,
   "metadata": {},
   "outputs": [],
   "source": [
    "print(serie[serie < 70])\n",
    "\n",
    "print(\"\\n\", serie[serie < 70].index)\n"
   ]
  },
  {
   "attachments": {},
   "cell_type": "markdown",
   "metadata": {},
   "source": [
    "4. Define una nueva Series que contengaa el precio original para todos los productos excepto para la marca (brand) \"Edelrid\", a la que hay que realizarle el 10% de descuento."
   ]
  },
  {
   "cell_type": "code",
   "execution_count": null,
   "metadata": {},
   "outputs": [],
   "source": [
    "precio_original = pd.Series(prices, index=brand)\n",
    "\n",
    "descuento_aplicado = precio_original.copy()\n",
    "\n",
    "descuento_aplicado.loc[descuento_aplicado.index == \"Edelrid\"] *= 1.1\n",
    "\n",
    "print(precio_original, \"\\n\")\n",
    "print(descuento_aplicado)\n"
   ]
  },
  {
   "attachments": {},
   "cell_type": "markdown",
   "metadata": {},
   "source": [
    "#### **Ejercicios con DataFrames**"
   ]
  },
  {
   "attachments": {},
   "cell_type": "markdown",
   "metadata": {},
   "source": [
    "1. Usando las listas brands, models y prices del ejercio anterior. Crear un DataFrame llamado data_frame que almacene toda esta información en tres columnas (brand, model y price) y los índices los genere automáticamente."
   ]
  },
  {
   "cell_type": "code",
   "execution_count": null,
   "metadata": {},
   "outputs": [],
   "source": [
    "import pandas as pd\n",
    "\n",
    "data_frame = pd.DataFrame({'brand': brand, 'model': models, 'price': prices})\n",
    "\n",
    "print(data_frame)\n",
    "\n",
    "data_frame\n"
   ]
  },
  {
   "attachments": {},
   "cell_type": "markdown",
   "metadata": {},
   "source": [
    "2. Mostrar la columna \"Brand\"."
   ]
  },
  {
   "cell_type": "code",
   "execution_count": null,
   "metadata": {},
   "outputs": [],
   "source": [
    "print(data_frame['brand'])\n",
    "\n",
    "data_frame['brand']\n"
   ]
  },
  {
   "attachments": {},
   "cell_type": "markdown",
   "metadata": {},
   "source": [
    "3. Muestra la quinta fila."
   ]
  },
  {
   "cell_type": "code",
   "execution_count": null,
   "metadata": {},
   "outputs": [],
   "source": [
    "print(data_frame.iloc[5])\n"
   ]
  },
  {
   "attachments": {},
   "cell_type": "markdown",
   "metadata": {},
   "source": [
    "4. Modifica el precio del modelo \"Energy\" a 9999."
   ]
  },
  {
   "cell_type": "code",
   "execution_count": null,
   "metadata": {},
   "outputs": [],
   "source": [
    "data_frame.loc[data_frame['model'] == 'Energy', 'price'] = 9999\n",
    "\n",
    "data_frame\n"
   ]
  },
  {
   "attachments": {},
   "cell_type": "markdown",
   "metadata": {},
   "source": [
    "5. Crea una nueva columna “Discount” con el valor 50 para cada fila."
   ]
  },
  {
   "cell_type": "code",
   "execution_count": null,
   "metadata": {},
   "outputs": [],
   "source": [
    "data_frame['Discount'] = 50\n",
    "\n",
    "data_frame\n"
   ]
  },
  {
   "attachments": {},
   "cell_type": "markdown",
   "metadata": {},
   "source": [
    "6. Usando el DataFrame del Ejercicio 5, crea un nuevo DataFrame que añada las columnas \"Sales\" y \"Total\"."
   ]
  },
  {
   "cell_type": "code",
   "execution_count": null,
   "metadata": {},
   "outputs": [],
   "source": [
    "# Añadir columnas vacías al DataFrame\n",
    "data_frame['Sales'] = ''\n",
    "data_frame['Total'] = None\n",
    "\n",
    "\n",
    "data_frame\n"
   ]
  },
  {
   "attachments": {},
   "cell_type": "markdown",
   "metadata": {},
   "source": [
    "7. Borra la primera y séptima fila."
   ]
  },
  {
   "cell_type": "code",
   "execution_count": null,
   "metadata": {},
   "outputs": [],
   "source": [
    "data_frame = data_frame.drop([0, 6])\n",
    "\n",
    "data_frame\n"
   ]
  },
  {
   "attachments": {},
   "cell_type": "markdown",
   "metadata": {},
   "source": [
    "8. Borra la primera y tercera columna."
   ]
  },
  {
   "cell_type": "code",
   "execution_count": null,
   "metadata": {},
   "outputs": [],
   "source": [
    "# Jupyter Notebook por defecto solo muestra el valor de la variable cuando se encuentra en la última línea de la celda. \n",
    "# Si hay múltiples expresiones en una celda para mostrar usar función display().\n",
    "\n",
    "data_frame = pd.DataFrame({'brand': brand, 'model': models, 'price': prices})\n",
    "display(data_frame)\n",
    "\n",
    "data_frame = data_frame.drop(columns=['brand', 'price'])\n",
    "display(data_frame)\n",
    "\n",
    "data_frame = pd.DataFrame({'brand': brand, 'model': models, 'price': prices})\n",
    "display(data_frame.drop(data_frame.columns[[0, 2]], axis=1))\n",
    "data_frame\n"
   ]
  },
  {
   "attachments": {},
   "cell_type": "markdown",
   "metadata": {},
   "source": [
    "9. Muestra la información para la marca \"Edelrid\"."
   ]
  },
  {
   "cell_type": "code",
   "execution_count": null,
   "metadata": {},
   "outputs": [],
   "source": [
    "info_edelrid = data_frame.loc[data_frame['brand'] == 'Edelrid']\n",
    "info_edelrid\n",
    "print(data_frame.loc[data_frame['brand'] == 'Edelrid'])\n",
    "display(data_frame.loc[data_frame['brand'] == 'Edelrid'])\n",
    "\n",
    "print(info_edelrid)\n",
    "info_edelrid\n"
   ]
  },
  {
   "attachments": {},
   "cell_type": "markdown",
   "metadata": {},
   "source": [
    "10. Muestra todos los valores con un precio mayor que 70."
   ]
  },
  {
   "cell_type": "code",
   "execution_count": null,
   "metadata": {},
   "outputs": [],
   "source": [
    "pd.DataFrame({'brand': brand, 'model': models, 'price': prices})\n",
    "\n",
    "#print(data_frame[data_frame['price'] > 70])\n"
   ]
  },
  {
   "attachments": {},
   "cell_type": "markdown",
   "metadata": {},
   "source": [
    "11. Cree una lista con 10 número aleatorios entre 0 y 500 y añadelo como valor de la columna \"Sales\"."
   ]
  },
  {
   "cell_type": "code",
   "execution_count": null,
   "metadata": {},
   "outputs": [],
   "source": [
    "import random\n",
    "\n",
    "data_frame = pd.DataFrame({'brand': brand, 'model': models, 'price': prices})\n",
    "\n",
    "# Generar lista de 10 números aleatorios entre 0 y 500\n",
    "sales_values = [random.randint(0, 500) for _ in range(10)]\n",
    "\n",
    "# Añadir la lista de números aleatorios como valores de la columna \"Sales\"\n",
    "data_frame['Sales'] = sales_values\n",
    "\n",
    "print(data_frame)\n",
    "data_frame\n"
   ]
  },
  {
   "attachments": {},
   "cell_type": "markdown",
   "metadata": {},
   "source": [
    "12. Calcula el valor de la columna “Total” del resultado de multiplicar el precio y las ventas."
   ]
  },
  {
   "cell_type": "code",
   "execution_count": null,
   "metadata": {},
   "outputs": [],
   "source": [
    "data_frame['Total'] = data_frame['price'] * data_frame['Sales']\n",
    "\n",
    "print(data_frame)\n"
   ]
  },
  {
   "attachments": {},
   "cell_type": "markdown",
   "metadata": {},
   "source": [
    "13. Muestra la información del DataFrame ordenado por ventas."
   ]
  },
  {
   "cell_type": "code",
   "execution_count": null,
   "metadata": {},
   "outputs": [],
   "source": [
    "print(data_frame.sort_values('Sales'), \"\\n\")\n",
    "\n",
    "print(data_frame.sort_values('Sales',ascending=True),\"\\n\")\n",
    "\n",
    "print(data_frame.sort_values('Sales',ascending=False),\"\\n\")\n",
    "\n",
    "display(data_frame.sort_values('Sales'))\n",
    "\n",
    "display(data_frame.sort_values('Sales',ascending=True))\n",
    "\n",
    "data_frame.sort_values('Sales',ascending=False)"
   ]
  },
  {
   "attachments": {},
   "cell_type": "markdown",
   "metadata": {},
   "source": [
    "14. Usando la función apply cambia el formato a dos decimales."
   ]
  },
  {
   "cell_type": "code",
   "execution_count": null,
   "metadata": {},
   "outputs": [],
   "source": [
    "data_frame = data_frame.applymap(lambda x: round(x, 2) if isinstance(x, (int, float)) else x)\n",
    "\n",
    "print(data_frame)\n",
    "data_frame\n"
   ]
  },
  {
   "attachments": {},
   "cell_type": "markdown",
   "metadata": {},
   "source": [
    "15. Muestra la principal información de las variables estadísticas de las columnas de tipo numérico."
   ]
  },
  {
   "cell_type": "code",
   "execution_count": null,
   "metadata": {},
   "outputs": [],
   "source": [
    "columnas_numericas = data_frame.select_dtypes(include=['int64', 'float64'])\n",
    "info_estadistica_numerica = columnas_numericas.describe()\n",
    "\n",
    "print(info_estadistica_numerica)\n",
    "info_estadistica_numerica"
   ]
  },
  {
   "attachments": {},
   "cell_type": "markdown",
   "metadata": {},
   "source": [
    "16. Muestra la principal información de las variables estadísticas de las columnas de tipo categórico."
   ]
  },
  {
   "cell_type": "code",
   "execution_count": null,
   "metadata": {},
   "outputs": [],
   "source": [
    "columnas_categoricas = data_frame.select_dtypes(include='object')\n",
    "info_estadistica_categorica = columnas_categoricas.describe()\n",
    "\n",
    "print(info_estadistica_categorica)\n",
    "\n",
    "info_estadistica_categorica\n"
   ]
  },
  {
   "attachments": {},
   "cell_type": "markdown",
   "metadata": {},
   "source": [
    "17. Muestra si hay algún valor nulo."
   ]
  },
  {
   "cell_type": "code",
   "execution_count": null,
   "metadata": {},
   "outputs": [],
   "source": [
    "print(data_frame,\"\\n\")\n",
    "\n",
    "print(data_frame.isnull(),\"\\n\")\n",
    "\n",
    "print(data_frame.isnull().any(),\"\\n\")\n",
    "\n",
    "print(data_frame.isnull().any().any(),\"\\n\")\n",
    "\n",
    "data_frame.isnull().any().any()"
   ]
  },
  {
   "attachments": {},
   "cell_type": "markdown",
   "metadata": {},
   "source": [
    "18. Calcula el número de productos para cada marca."
   ]
  },
  {
   "cell_type": "code",
   "execution_count": null,
   "metadata": {},
   "outputs": [],
   "source": [
    "print(data_frame['brand'].value_counts())\n",
    "\n",
    "data_frame['brand'].value_counts()\n"
   ]
  },
  {
   "attachments": {},
   "cell_type": "markdown",
   "metadata": {},
   "source": [
    "19. Guarda la información del DataFrame en un fichero xlsx."
   ]
  },
  {
   "cell_type": "code",
   "execution_count": null,
   "metadata": {},
   "outputs": [],
   "source": [
    "data_frame.to_excel('data_frame.xlsx')"
   ]
  }
 ],
 "metadata": {
  "kernelspec": {
   "display_name": "base",
   "language": "python",
   "name": "python3"
  },
  "language_info": {
   "codemirror_mode": {
    "name": "ipython",
    "version": 3
   },
   "file_extension": ".py",
   "mimetype": "text/x-python",
   "name": "python",
   "nbconvert_exporter": "python",
   "pygments_lexer": "ipython3",
   "version": "3.9.16"
  },
  "orig_nbformat": 4
 },
 "nbformat": 4,
 "nbformat_minor": 2
}
