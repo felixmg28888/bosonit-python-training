{
 "cells": [
  {
   "attachments": {},
   "cell_type": "markdown",
   "metadata": {},
   "source": [
    "# **Bloque 10 <br> Numpy**\n",
    "\n",
    "### **Nombre del proyecto:** block10-02-pandas-02"
   ]
  },
  {
   "attachments": {},
   "cell_type": "markdown",
   "metadata": {},
   "source": [
    "#### **1. Datasets:**"
   ]
  },
  {
   "attachments": {},
   "cell_type": "markdown",
   "metadata": {},
   "source": [
    "Los datos de origen son proporcionados en un archivos csv:\n",
    "\n",
    "- udfs: dataset con datos de operaciones financieras."
   ]
  },
  {
   "cell_type": "code",
   "execution_count": null,
   "metadata": {},
   "outputs": [],
   "source": [
    "import pandas as pd\n",
    "\n",
    "udfs = pd.read_csv(\"udfs.csv\", delimiter=\";\")\n",
    "\n",
    "udfs\n"
   ]
  },
  {
   "attachments": {},
   "cell_type": "markdown",
   "metadata": {},
   "source": [
    "#### **2. Columnas y significado:**"
   ]
  },
  {
   "attachments": {},
   "cell_type": "markdown",
   "metadata": {},
   "source": [
    "- nb: número de referencia de la operación.\n",
    "- contract: identificador de contrato.\n",
    "- udf_ref: identificador de operación de trading.\n",
    "- fmly: familia a la que pertenece la operación financiera.\n",
    "- grp: grupo al que pertenece la operación financiera.\n",
    "- type: tipo de operación financiera.\n",
    "- country: país de origen de la operación.\n",
    "- udf_name: campo informado en el registro.\n",
    "- num_value: valor numérico.\n",
    "- string_value: valor de cadena de caracteres.\n",
    "- date_value: valor de fecha.\n",
    "- data_timestamp_part: marca temporal.\n",
    "- data_date_part: fecha en la que se almacena la información.\n",
    "- source_system: fuente de los datos."
   ]
  },
  {
   "attachments": {},
   "cell_type": "markdown",
   "metadata": {},
   "source": [
    "#### **3. Descripción del problema:**"
   ]
  },
  {
   "attachments": {},
   "cell_type": "markdown",
   "metadata": {},
   "source": [
    "Si hacemos una visión general a nuestro conjunto de datos, podemos observar como hay hasta 10 registros (filas) para cada valor de *nb*, donde cada registro solo da información para un valor de *udf_name*. Esto es un gasto innecesario de almacenamiento y computación, además de complicar los futuros cálculos derivados de estos datos. Por esta razón, necesitamos convertir estos registros con el mismo *nb* a un solo registro.\n",
    "\n",
    "Nuestro dataframe final tendrá que contener las siguientes columnas: `nb, M_CCY, M_CLIENT, M_CRDTCHRG, M_DIRECTIAV, M_DISCMARGIN, M_LIQDTYCHRG, M_MVA, M_RVA, M_SELLER, M_SUCURSAL`\n",
    "\n",
    "- nb: debe contener el número de referencia de la operación.\n",
    "- M_CLIENT, M_SELLER, M_CCY, M_SUCURSAL: deben mapear el valor de *string_value*\n",
    "- M_DISCMARGIN, M_DIRECTIAV, M_LIQDTYCHRG, M_CRDTCHRG, , M_MVA, M_RVA: deben mapear el valor de *num_value*\n",
    "\n",
    "\n",
    "Una vez tengamos este resultado, necesitaremos eliminar las operaciones que no tengan informados ninguno de los siguientes campos:\n",
    "\n",
    "M_DISCMARGIN, M_DIRECTIAV, M_LIQDTYCHRG, M_CRDTCHRG, M_MVA, M_RVA, M_SELLER\n",
    "\n",
    "No informados en este caso significa que o son valores nulos, vacíos o 0, en el caso de los campos numéricos."
   ]
  },
  {
   "cell_type": "code",
   "execution_count": null,
   "metadata": {},
   "outputs": [],
   "source": [
    "# Añado columnas con string_value\n",
    "udfs = udfs.assign(M_CLIENT=udfs['string_value'], M_SELLER=udfs['string_value'], M_CCY=udfs['string_value'], M_SUCURSAL=udfs['string_value'])\n",
    "\n",
    "# Añado columnas con num_value\n",
    "udfs = udfs.assign(M_DISCMARGIN=udfs['num_value'], M_DIRECTIAV=udfs['num_value'], M_LIQDTYCHRG=udfs['num_value'], M_CRDTCHRG=udfs['num_value'], M_MVA=udfs['num_value'], M_RVA=udfs['num_value'])\n",
    "\n",
    "# udfs.loc[:, ...] se utiliza para seleccionar todas las filas (:) del DataFrame udfs.\n",
    "# En el siguiente argumento le paso las columnas en el orden que especifica el ejercicio.\n",
    "udfs = udfs.loc[:, ['nb', 'M_CCY', 'M_CLIENT', 'M_CRDTCHRG', 'M_DIRECTIAV', 'M_DISCMARGIN', 'M_LIQDTYCHRG', 'M_MVA', 'M_RVA', 'M_SELLER', 'M_SUCURSAL']]\n",
    "\n",
    "display(udfs)\n"
   ]
  },
  {
   "cell_type": "code",
   "execution_count": null,
   "metadata": {},
   "outputs": [],
   "source": [
    "import numpy as np\n",
    "\n",
    "# .dropna no elimina 0 ni vacíos, luego con .replace cambioamos esos valores a nan para luego eliminarlos\n",
    "udfs_filtrado = udfs.replace({0: np.nan, '': np.nan}).dropna(subset=['M_DISCMARGIN', 'M_DIRECTIAV', 'M_LIQDTYCHRG', 'M_CRDTCHRG', 'M_MVA', 'M_RVA', 'M_SELLER'], how='all')\n"
   ]
  },
  {
   "attachments": {},
   "cell_type": "markdown",
   "metadata": {},
   "source": [
    "#### **4. Reto:**"
   ]
  },
  {
   "attachments": {},
   "cell_type": "markdown",
   "metadata": {},
   "source": [
    "- Obtener un dataframe final que contenga las columnas indicadas, con un registro por *nb* y con los valores correctos mapeados.\n",
    "- Las operaciones con los campos M_DISCMARGIN, M_DIRECTIAV, M_LIQDTYCHRG, M_CRDTCHRG, , M_MVA, M_RVA, M_SELLER no informados no deben existir.\n",
    "- Hacerlo de la manera más eficiente posible a nivel computacional.\n",
    "\n",
    "**NOTA:** Cada uno de los pasos descritos en el problema pueden efectuarse en una sola línea."
   ]
  },
  {
   "cell_type": "code",
   "execution_count": null,
   "metadata": {},
   "outputs": [],
   "source": [
    "# Se agrupa por nb\n",
    "udfs_unificado = udfs_filtrado.groupby('nb').first().reset_index()\n",
    "\n",
    "udfs_unificado\n"
   ]
  }
 ],
 "metadata": {
  "kernelspec": {
   "display_name": "base",
   "language": "python",
   "name": "python3"
  },
  "language_info": {
   "codemirror_mode": {
    "name": "ipython",
    "version": 3
   },
   "file_extension": ".py",
   "mimetype": "text/x-python",
   "name": "python",
   "nbconvert_exporter": "python",
   "pygments_lexer": "ipython3",
   "version": "3.9.16"
  },
  "orig_nbformat": 4
 },
 "nbformat": 4,
 "nbformat_minor": 2
}
