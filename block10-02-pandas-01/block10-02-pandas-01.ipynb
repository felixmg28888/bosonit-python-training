{
 "cells": [
  {
   "attachments": {},
   "cell_type": "markdown",
   "metadata": {},
   "source": [
    "# **Bloque 10 <br> Numpy**\n",
    "\n",
    "### **Nombre del proyecto:** block10-02-pandas-01"
   ]
  },
  {
   "attachments": {},
   "cell_type": "markdown",
   "metadata": {},
   "source": [
    "#### **1. Datasets:**"
   ]
  },
  {
   "attachments": {},
   "cell_type": "markdown",
   "metadata": {},
   "source": [
    "Los datos de origen constan de dos archivos csv con la misma estructura y tipo de columnas.\n",
    "\n",
    "- trade_details: dataset original con datos reales de operaciones financieras.\n",
    "- trade_details_snapshot: copia de seguridad por posibles perdidas de datos."
   ]
  },
  {
   "cell_type": "code",
   "execution_count": null,
   "metadata": {},
   "outputs": [],
   "source": [
    "import pandas as pd\n",
    "\n",
    "trade_details = pd.read_csv(\"trade_details.csv\",delimiter=\";\")\n",
    "trade_details_snapshot = pd.read_csv(\"trade_details_snapshot.csv\",delimiter=\";\")\n",
    "\n",
    "\n",
    "display(trade_details)\n",
    "display(trade_details_snapshot)\n"
   ]
  },
  {
   "attachments": {},
   "cell_type": "markdown",
   "metadata": {},
   "source": [
    "#### **2. Columnas y significado:**"
   ]
  },
  {
   "attachments": {},
   "cell_type": "markdown",
   "metadata": {},
   "source": [
    "- mfamily: indica la familia de operaciones a la que pertenece.\n",
    "- mgroup: indica el grupo de operaciones dentro de la familia.\n",
    "- mtype: indica el tipo de operación dentro del grupo.\n",
    "- origin_trade_number: indica el número de la operación de trading (la misma operación puede tener varios números de trading).\n",
    "- origin_contract_number: indica el número de contrato de la operación (igual para todas las operaciones que pertenecen al mismo contrato).\n",
    "- maturity: fecha de finalización del contrato de cada operación."
   ]
  },
  {
   "attachments": {},
   "cell_type": "markdown",
   "metadata": {},
   "source": [
    "#### **3. Descripción del problema:**"
   ]
  },
  {
   "attachments": {},
   "cell_type": "markdown",
   "metadata": {},
   "source": [
    "En estos datasets se encuentran varias operaciones financieras de distinto tipo, que diferenciaremos mediante los distintos valores de las columnas mfamily, mgroup y mtype.\n",
    "\n",
    "Existe un cierto tipo de operaciones especiales, llamadas FXSwaps. Estas pueden ser diferenciadas por medio de los siguientes valores:\n",
    "\n",
    "**mfamily = CURR** \\\n",
    "**mgroup = FXD** \\\n",
    "**mtype = SWLEG**\n",
    "\n",
    "Podemos ver en nuestro dataset que estas operaciones aparecen duplicadas, es decir, con el mismo **origin_contract_number** aunque distinto **origin_trade_number**. De estas operaciones duplicadas en origen, queremos obtener solo una de ellas.\n",
    "\n",
    "La forma para decidir cuál de las operaciones nos interesa obtener es mediante la columna *maturity*. De ambas operaciones de trading (distinto origin_trade_number) para un mismo contrato (origin_contract_number), queremos obtener solo la *long leg*, es decir, la que tiene una mayor fecha de vencimiento (fecha más actual de la columna maturity).\n",
    "\n",
    "Existe un cierto problema en nuestro dataset trade_details que tendremos que solucionar. Podemos ver que para algunas operaciones el campo maturity vendrá como *null*, es decir, sin informar. En estos casos, deberemos buscar esa operacion en el dataset trade_details_snapshot y el respectivo campo maturity para poder saber cuál de las dos operaciones es la *long leg* y filtrar la *short leg*.\n",
    "\n",
    "**NOTA: Si se quiere conocer más el significado de estas operaciones financieras: https://es.wikipedia.org/wiki/Swap_(finanzas)**"
   ]
  },
  {
   "attachments": {},
   "cell_type": "markdown",
   "metadata": {},
   "source": [
    "#### **4. Reto:**"
   ]
  },
  {
   "attachments": {},
   "cell_type": "markdown",
   "metadata": {},
   "source": [
    "- Obtener un dataframe final donde tengamos todas las operaciones originales excepto los short leg de los contratos tipo FXSwap.\n",
    "- Aunque usemos el valor de la columna maturity del dataset trade_details_snapshot en los casos que venga en la trade_details a *null*, en el dataframe final deberá venir con el valor original de trade_details.\n",
    "- Hacerlo de la manera más eficiente posible a nivel computacional."
   ]
  },
  {
   "cell_type": "code",
   "execution_count": null,
   "metadata": {},
   "outputs": [],
   "source": [
    "# 1. Filtrar las operaciones tipo FXSwap\n",
    "\n",
    "fxswaps = trade_details[\n",
    "    (trade_details['mfamily'] == 'CURR') &\n",
    "    (trade_details['mgroup'] == 'FXD') &\n",
    "    (trade_details['mtype'] == 'SWLEG')\n",
    "]\n",
    "\n",
    "display(fxswaps)\n",
    "\n",
    "\n",
    "# 2. Filtrar las operaciones tipo FXSwap del trade_details_snapshot sacando solo las columnas que nos interesan\n",
    "\n",
    "fxswaps_snapshot = trade_details_snapshot[\n",
    "    (trade_details_snapshot['mfamily'] == 'CURR') &\n",
    "    (trade_details_snapshot['mgroup'] == 'FXD') &\n",
    "    (trade_details_snapshot['mtype'] == 'SWLEG')\n",
    "][['origin_trade_number', 'origin_contract_number', 'maturity']]\n",
    "\n",
    "display(fxswaps_snapshot)\n",
    "\n",
    "\n",
    "# 3. Con merge() how='left' se conservarán todas las filas del DataFrame izquierdo (fxswaps) y solo se agregarán\n",
    "# cuando haya coincidencia en las columnas on= ('origin_trade_number' y 'origin_contract_number')\n",
    "# Si no hay coincidencia se agregarán valores nulos (NaN).\n",
    "\n",
    "merged_fxswaps = fxswaps.merge(fxswaps_snapshot, on=[\n",
    "                               'origin_trade_number', 'origin_contract_number'], how='left')\n",
    "\n",
    "display(merged_fxswaps)\n",
    "\n",
    "\n",
    "# 4. Se aplica fillna() en la columna 'maturity_x' del DataFrame merged_fxswaps llamando a maturity_y'.\n",
    "# inplace=True indica que el DataFrame (merged_fxswaps) será modificado.\n",
    "# Es decir, los NAN de 'maturity_x' se reemplazarán con los'maturity_y' sin crear un nuevo DataFrame.\n",
    "# Si se establece False o se omite, se devolverá un nuevo DataFramev con los valores modificados y el DataFrame original no se modificará.\n",
    "\n",
    "merged_fxswaps['maturity_x'].fillna(merged_fxswaps['maturity_y'], inplace=True)\n",
    "\n",
    "display(merged_fxswaps)\n",
    "\n",
    "\n",
    "# 5. Se elimina la columna maturity_y'.\n",
    "\n",
    "merged_fxswaps.drop('maturity_y', axis=1, inplace=True)\n",
    "display(merged_fxswaps)\n",
    "\n",
    "\n",
    "# 6. Se renombra la columna maturity_x y se resetean los índices. .\n",
    "# inplace=True para modificar merged_fxswaps y que no cree uno nuevo\n",
    "\n",
    "merged_fxswaps.rename(columns={'maturity_x': 'maturity'}, inplace=True)\n",
    "\n",
    "display(merged_fxswaps)\n",
    "\n",
    "\n",
    "# 7.Convertir la columna \"maturity\" a formato datetime si no está en ese formato para realizar operaciones de filtrado\n",
    "merged_fxswaps['maturity'] = pd.to_datetime(merged_fxswaps['maturity'])\n",
    "\n",
    "\n",
    "# 8. Ordenar el DataFrame por \"origin_contract_number\" y \"maturity\" de forma ascendente según origin y descendente para maturity\n",
    "merged_fxswaps.sort_values(by=['origin_contract_number', 'maturity'], ascending=[\n",
    "                           True, False], inplace=True)\n",
    "\n",
    "display(merged_fxswaps)\n",
    "\n",
    "\n",
    "# 9. Eliminar las filas duplicadas en función de \"origin_contract_number\" manteniendo solo la primera (la más reciente)\n",
    "df_final = merged_fxswaps.drop_duplicates(\n",
    "    subset='origin_contract_number', keep='first').reset_index(drop=True)\n",
    "\n",
    "\n",
    "# 10. df_final\n",
    "display(df_final)\n"
   ]
  }
 ],
 "metadata": {
  "kernelspec": {
   "display_name": "base",
   "language": "python",
   "name": "python3"
  },
  "language_info": {
   "codemirror_mode": {
    "name": "ipython",
    "version": 3
   },
   "file_extension": ".py",
   "mimetype": "text/x-python",
   "name": "python",
   "nbconvert_exporter": "python",
   "pygments_lexer": "ipython3",
   "version": "3.9.16"
  },
  "orig_nbformat": 4
 },
 "nbformat": 4,
 "nbformat_minor": 2
}
